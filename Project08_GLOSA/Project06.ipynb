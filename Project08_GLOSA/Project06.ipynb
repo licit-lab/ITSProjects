{
 "cells": [
  {
   "cell_type": "markdown",
   "id": "e1f1ee00",
   "metadata": {},
   "source": []
  },
  {
   "cell_type": "raw",
   "id": "c80a3505",
   "metadata": {},
   "source": [
    "\\eqalignno{\\min v,&&\\hbox{(1)}\\cr s.t.\\quad &v_{min}\\leq v\\leq v_{max},\\cr t&s(l/v)={\\rm GREEN}.}"
   ]
  },
  {
   "cell_type": "markdown",
   "id": "3388990e",
   "metadata": {},
   "source": []
  },
  {
   "cell_type": "markdown",
   "id": "68e99183",
   "metadata": {},
   "source": [
    "<a href=\"#GLOSA?\">Qu'est-ce que le GLOSA ?</a>"
   ]
  },
  {
   "cell_type": "code",
   "execution_count": null,
   "id": "277fe060",
   "metadata": {},
   "outputs": [],
   "source": []
  }
 ],
 "metadata": {
  "kernelspec": {
   "display_name": "Python 3",
   "language": "python",
   "name": "python3"
  },
  "language_info": {
   "codemirror_mode": {
    "name": "ipython",
    "version": 3
   },
   "file_extension": ".py",
   "mimetype": "text/x-python",
   "name": "python",
   "nbconvert_exporter": "python",
   "pygments_lexer": "ipython3",
   "version": "3.8.8"
  }
 },
 "nbformat": 4,
 "nbformat_minor": 5
}
