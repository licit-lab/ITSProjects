{
 "cells": [
  {
   "cell_type": "markdown",
   "id": "13d25f27",
   "metadata": {},
   "source": [
    "<h1 align=\"center\">Description du projet</h1>\n",
    "\n",
    "<h2 align=\"center\">Analyse des impacts du GLOSA sur le traffic</h2>\n",
    "\n",
    "<div align=\"justify\">\n",
    "Le principale objectif de ce proket est de comprendre l'impactes du GLOSA sur le traffic, notamment à l'approche d'un feux de circulation dans un millieu urbain. \n",
    "</div>\n",
    "  \n",
    "<h2 align=\"center\">Qu'est-ce que le GLOSA ?</h2>\n",
    "\n",
    "\n",
    "<div align=\"justify\">\n",
    "Le <i>Green Light Optimal Speed Advice</i> (GLOSA) est un système de communication infrastructure-to-vehicles (I2V) qui permets d'envoier des informations rélatifs à l'état du feux de circulation vers les véhicules connectées. L'objectif de cette communication est d'utiliser les informations sur le temps des feux de circulation pour optimiser la vitesse des véhicules à leurs passages [1]. Ce cas d'utilisation des ITS n'est pas une problèmatiques récentes et fait déjà integréer dans certaines villes. \n",
    "</div>\n",
    "\n",
    "<img src=\"https://s3-prod.autonews.com/OEM06_301239829_AR_-1_BOMDZEXWACYH.jpg\">\n",
    "\n",
    "\n",
    "<h2 align=\"center\">GLOSA dans SUMO</h2>"
   ]
  },
  {
   "cell_type": "markdown",
   "id": "a29003be",
   "metadata": {},
   "source": [
    "<h1 align=\"center\">Bibliographie</h1>\n",
    "\n",
    "[1] https://ieeexplore.ieee.org/document/6728552"
   ]
  },
  {
   "cell_type": "markdown",
   "id": "cc93969b",
   "metadata": {},
   "source": []
  },
  {
   "cell_type": "code",
   "execution_count": null,
   "id": "0c09e3f7",
   "metadata": {},
   "outputs": [],
   "source": []
  }
 ],
 "metadata": {
  "kernelspec": {
   "display_name": "Python 3",
   "language": "python",
   "name": "python3"
  },
  "language_info": {
   "codemirror_mode": {
    "name": "ipython",
    "version": 3
   },
   "file_extension": ".py",
   "mimetype": "text/x-python",
   "name": "python",
   "nbconvert_exporter": "python",
   "pygments_lexer": "ipython3",
   "version": "3.8.8"
  }
 },
 "nbformat": 4,
 "nbformat_minor": 5
}
