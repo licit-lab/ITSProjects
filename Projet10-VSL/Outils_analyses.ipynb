{
 "cells": [
  {
   "cell_type": "markdown",
   "id": "0574c50f",
   "metadata": {},
   "source": [
    "# Outil pour analyse des fichiers de sortie"
   ]
  },
  {
   "cell_type": "markdown",
   "id": "3ab69f22",
   "metadata": {},
   "source": [
    "Avant toute chose, il vous faut créer votre environnement avec conda.\n",
    "\n",
    "L'avantage de créer un environnement spécifique est que vous serez assuré du bon fonctionnement de votre code dans le temps (malgré les mises à jour des packages) et sur toute machine en transmettant les caractéristiques de cet environnement. \n",
    "\n",
    "Nous vous proposons de créer votre environnement via `conda-forge` en s'appuyant sur le fichier dédié à vos projets: `environment_P07-10.yml`. Ce fichier donne un nom à l'environnement, ici : ITS_fromP07_toP09 et décrit l'ensemble des packages nécessaires et leur version. Pour créer votre environnement sur votre machine, il vous suffit d'exécuter les lignes suivantes sur votrer terminal de commande:\n",
    "\n",
    "```\n",
    "cd \"your/path/to/the/folder/with/the/file/yml\"\n",
    "conda env create -f environment_P07-10.yml\n",
    "conda info --envs\n",
    "```\n",
    "\n",
    "Votre environnement devrait être créé et la dernière ligne permet de vérifier qu'il existe bien parmi vos environnements.\n",
    "\n",
    "Vous pouvez désormais l'activer via la commande : \n",
    "```\n",
    "conda activate ITS_fromP07_toP10\n",
    "```\n",
    "et/ou le sélectionner lorsque vous lancez votre jupyterlab!\n"
   ]
  },
  {
   "cell_type": "code",
   "execution_count": null,
   "id": "e78a6f1d",
   "metadata": {},
   "outputs": [],
   "source": [
    "import pandas as pd\n",
    "import plotly.express as px\n",
    "import plotly.graph_objects as go\n",
    "import numpy as np\n",
    "import os\n",
    "\n",
    "pd.__version__"
   ]
  },
  {
   "cell_type": "markdown",
   "id": "bea1e443",
   "metadata": {},
   "source": [
    "**Conseil :** Vérfier que votre version de panda est bien 1.3.5 au moins, sinon vous aurez des soucis lors de l'utilisation de la fonction pd.read_xml()!"
   ]
  },
  {
   "cell_type": "markdown",
   "id": "7b459556",
   "metadata": {},
   "source": [
    "# Définition du chemin vers votre répertoire de travail\n",
    "\n",
    "La première étape consiste à définir votre dossier de travail, celui où vous allez stocker les sorties de la modélisation et procéder à l'analyse.\n",
    "\n",
    "Par la suite, les chemins sont définis de façon relative."
   ]
  },
  {
   "cell_type": "code",
   "execution_count": null,
   "id": "80a8f15d",
   "metadata": {},
   "outputs": [],
   "source": [
    "WorkingDirectory = \"your/path/to/folder/TP_simulation/\" # \"C:/Users/eleon/OneDrive - entpe.fr/Documents/these/ITS/ITS/ITS/Projet_09_VSL/\"\n",
    "os.chdir(WorkingDirectory)\n",
    "print(os.getcwd())"
   ]
  },
  {
   "cell_type": "markdown",
   "id": "0681bcfb",
   "metadata": {},
   "source": [
    "## 0. Format du fichier"
   ]
  },
  {
   "cell_type": "markdown",
   "id": "47ee04bd",
   "metadata": {},
   "source": [
    "### 0.1 Visulation des données"
   ]
  },
  {
   "cell_type": "markdown",
   "id": "ac92a402",
   "metadata": {},
   "source": [
    "Le fichier trip_info.xml contient le résumé de la traversée du réseau par chaque véhicule."
   ]
  },
  {
   "cell_type": "code",
   "execution_count": null,
   "id": "f11fecde",
   "metadata": {},
   "outputs": [],
   "source": [
    "#'stats_bas' est le nom du 'outputFolder' aui a été défini au début du script Python TP_ITS.py\n",
    "trip_info_analyses_0 = pd.read_xml(\"./stats_bas/tripinfo.xml\")\n"
   ]
  },
  {
   "cell_type": "code",
   "execution_count": null,
   "id": "6063fc73",
   "metadata": {},
   "outputs": [],
   "source": [
    "trip_info_analyses_0.head()"
   ]
  },
  {
   "cell_type": "code",
   "execution_count": null,
   "id": "7bb23a0b",
   "metadata": {},
   "outputs": [],
   "source": [
    "print(trip_info_analyses_0.columns)"
   ]
  },
  {
   "cell_type": "markdown",
   "id": "7554a982",
   "metadata": {},
   "source": [
    "Prenons quelques indicateurs en exemple : \n",
    "(i) 'duration' correspond au temps de parcours total de chaque véhicule c'est à dire le temps qu'il a passé sur le réseau;\n",
    "(ii) vtype correspond au type de véhicule, on en distingue 3 dans notre étude : les véhicules connectés ('CV'), les véhicules non connectés ('HDV') et les véhicules de type 'autre' qui correspondent aux véhicules de la voie d'insertion (uniquement simulés pour créer la congestion sur l'axe principal et donc non pris en compte dans l'analyse de nore réseau)."
   ]
  },
  {
   "cell_type": "code",
   "execution_count": null,
   "id": "579e694a",
   "metadata": {
    "scrolled": true
   },
   "outputs": [],
   "source": [
    "trip_info_analyses_0.duration.describe()"
   ]
  },
  {
   "cell_type": "code",
   "execution_count": null,
   "id": "48c62cb7",
   "metadata": {},
   "outputs": [],
   "source": [
    "trip_info_analyses_0.vType"
   ]
  },
  {
   "cell_type": "markdown",
   "id": "d36342cc",
   "metadata": {},
   "source": [
    "### 0.2 Préparation des données"
   ]
  },
  {
   "cell_type": "markdown",
   "id": "cc3d2f51",
   "metadata": {},
   "source": [
    "Une des principales étapes de l'analyse des données consiste à préparer celles-ci en les mettant en forme, triant, etc.\n",
    "(i) 'tri_colonne' de tri des données. Ici, on trie les données pour ne garder que les véhicules de type 'CV' et 'HDV' puisque les véhicules de type 'autre' de la voie sont uniquement générés pour créer la congestion sur l'axe principal et ne sont pas pris en compte pour les analyses. Egalement, on considère une période de chargement de 5 min pour éviter les effets de bords,  donc on ne considère que les véhicules dont le départ est supérieur à 5 min (300s).\n",
    "(ii) 'grouped_trip_info' est un exemple de mise en forme des données."
   ]
  },
  {
   "cell_type": "code",
   "execution_count": null,
   "id": "b7e785e8",
   "metadata": {},
   "outputs": [],
   "source": [
    "def tri_colonne(path):\n",
    "    trip_info = pd.read_xml(path)\n",
    "    print('number rows trip_info', len(trip_info.index))\n",
    "    trip_info_tri = trip_info[trip_info.depart > 300]\n",
    "    print('number rows trip_info_tri', len(trip_info_tri.index))\n",
    "    trip_info_tri_2 = trip_info_tri[trip_info_tri.vType != \"autre\"]\n",
    "    print('number rows trip_info_tri_2', len(trip_info_tri_2.index))\n",
    "    \n",
    "    \n",
    "    print('Description des temps de parcours des véhicules avant le tri', trip_info.duration.describe())\n",
    "    print('Description des temps de parcours des véhicules après le tri', trip_info_tri_2.duration.describe())\n",
    "    return trip_info_tri_2\n",
    "    "
   ]
  },
  {
   "cell_type": "code",
   "execution_count": null,
   "id": "3179220f",
   "metadata": {},
   "outputs": [],
   "source": [
    "path = \"./stats_bas/tripinfo.xml\"\n",
    "trip_info_0 = tri_colonne(path)"
   ]
  },
  {
   "cell_type": "code",
   "execution_count": null,
   "id": "fa323a28",
   "metadata": {},
   "outputs": [],
   "source": [
    "grouped_trip_info = trip_info_0.groupby([\"vType\"]).aggregate(\n",
    "                nbVType = pd.NamedAgg(column=\"vType\", aggfunc=\"count\"),\n",
    "                avgWaitingTime = pd.NamedAgg(column=\"waitingTime\", aggfunc=\"mean\"),\n",
    "                avgTimeLoss = pd.NamedAgg(column=\"timeLoss\", aggfunc=\"mean\"),\n",
    "                totalWaitingCount= pd.NamedAgg(column=\"waitingCount\", aggfunc=\"sum\")\n",
    "            ).reset_index()\n",
    "            \n",
    "grouped_trip_info"
   ]
  },
  {
   "cell_type": "markdown",
   "id": "e291294d",
   "metadata": {},
   "source": [
    "## 1. Exemples d'indicateurs et d'outils pour observer l'efficacité du réseau"
   ]
  },
  {
   "cell_type": "markdown",
   "id": "9c110b4f",
   "metadata": {},
   "source": [
    "On utilise quelques outis de visualisation issus de la galerie plotly : https://plotly.com/python/. "
   ]
  },
  {
   "cell_type": "markdown",
   "id": "1ce4a4c6",
   "metadata": {},
   "source": [
    "### 1.1 Indicateur: temps de parcours"
   ]
  },
  {
   "cell_type": "code",
   "execution_count": null,
   "id": "9fde2def",
   "metadata": {
    "scrolled": true
   },
   "outputs": [],
   "source": [
    "### box plot\n",
    "\n",
    "fig = go.Figure()\n",
    "fig.add_trace(go.Box(y=trip_info_0[\"duration\"], name = \"Baseline\"))\n",
    "fig.show()"
   ]
  },
  {
   "cell_type": "markdown",
   "id": "80fa4eb5",
   "metadata": {},
   "source": [
    "On peut également tracer sur un graphe plusieurs informations (et par exemple comparer ensuite les informations de temps de parcours entre la situation de référence et une situation où on applique un système de régulation de trafic)."
   ]
  },
  {
   "cell_type": "code",
   "execution_count": null,
   "id": "62fb569f",
   "metadata": {},
   "outputs": [],
   "source": [
    "fig = go.Figure()\n",
    "fig.add_trace(go.Box(y=trip_info_0[\"duration\"], name = \"Baseline\"))\n",
    "fig.add_trace(go.Box(y=trip_info_0[\"duration\"], name = \"Alternative\"))\n",
    "fig.show()"
   ]
  },
  {
   "cell_type": "code",
   "execution_count": null,
   "id": "3d3947c2",
   "metadata": {},
   "outputs": [],
   "source": [
    "### histogramme\n",
    "\n",
    "fig = go.Figure()\n",
    "fig.add_trace(go.Histogram(x=trip_info_0[\"duration\"], name = \"Baseline\"))\n",
    "fig.update_layout(barmode = \"overlay\")\n",
    "fig.update_traces(opacity = 0.5)\n",
    "fig.show()"
   ]
  },
  {
   "cell_type": "markdown",
   "id": "ac6c10e3",
   "metadata": {},
   "source": [
    "Dans les histogrammes, on peut montrer l'argument permettant d'observer des densités plutôt que des décomptes."
   ]
  },
  {
   "cell_type": "code",
   "execution_count": null,
   "id": "83474a22",
   "metadata": {},
   "outputs": [],
   "source": [
    "fig = go.Figure()\n",
    "fig.add_trace(go.Histogram(y=trip_info_0[\"duration\"], name = \"Baseline\", histnorm='probability density'))\n",
    "fig.update_layout(barmode = \"overlay\")\n",
    "fig.update_traces(opacity = 0.5)\n",
    "fig.show()"
   ]
  },
  {
   "cell_type": "code",
   "execution_count": null,
   "id": "d22d89b8",
   "metadata": {},
   "outputs": [],
   "source": [
    "print(trip_info_0.duration.describe())"
   ]
  },
  {
   "cell_type": "markdown",
   "id": "533b4a50",
   "metadata": {},
   "source": [
    "On peut aussi utiliser nos données pour créer un nouvel indicateur (peut-être plus explicite), par exemple ici le Temps Total Passé par tous les véhicules sur le réseau."
   ]
  },
  {
   "cell_type": "code",
   "execution_count": null,
   "id": "705f1bb3",
   "metadata": {},
   "outputs": [],
   "source": [
    "print('Total Time Spent (h)', trip_info_0[\"duration\"].sum()/3600)\n"
   ]
  },
  {
   "cell_type": "code",
   "execution_count": null,
   "id": "7ad9ae4c",
   "metadata": {},
   "outputs": [],
   "source": [
    "ar = np.array([[trip_info_0[\"duration\"].sum()/3600]])\n",
    "df = pd.DataFrame(ar, index = ['Baseline'], columns = ['Total Time Spent '])\n",
    "print(df)   "
   ]
  },
  {
   "cell_type": "markdown",
   "id": "9b7cf8a4",
   "metadata": {},
   "source": [
    "### 1.2 Indicateur: vitesse moyenne"
   ]
  },
  {
   "cell_type": "code",
   "execution_count": null,
   "id": "5bbf798a",
   "metadata": {},
   "outputs": [],
   "source": [
    "path_traj = \"./stats_bas/fcdStats.xml\"\n",
    "traj_analyses_0 = pd.read_xml(path_traj)\n",
    "traj_analyses_0.head()"
   ]
  },
  {
   "cell_type": "markdown",
   "id": "e2c5355e",
   "metadata": {},
   "source": [
    "Le lecteur (parser) de Pandas n'est pas en mesure de lire les structures complexes des fichiers XML, il est donc nécessaire de convertir le fichier .xml en fichier .csv."
   ]
  },
  {
   "cell_type": "markdown",
   "id": "c40163db",
   "metadata": {},
   "source": [
    "Il existe une fonction de SUMO permettant de convertir les fichiers XML en CSV, il faut taper la commande suivante dans votre terminal: 'python xml/xml2csv.py ./stats_bas/fcdStats.xml'.\n",
    "Pour plus d'informations, vous pouvez aller voir la documentation de SUMO : https://sumo.dlr.de/docs/Tools/Xml.html."
   ]
  },
  {
   "cell_type": "code",
   "execution_count": null,
   "id": "0b7ca02d",
   "metadata": {},
   "outputs": [],
   "source": [
    "path_fcd_csv = \"./stats_bas/fcdStats.csv\"\n",
    "fcd_analyses_0 = pd.read_csv(path_fcd_csv, sep = ';')\n",
    "fcd_analyses_0.head()"
   ]
  },
  {
   "cell_type": "code",
   "execution_count": null,
   "id": "e67d0729",
   "metadata": {},
   "outputs": [],
   "source": [
    "print(fcd_analyses_0.columns)"
   ]
  },
  {
   "cell_type": "code",
   "execution_count": null,
   "id": "ccc8eaa2",
   "metadata": {},
   "outputs": [],
   "source": [
    "fcd_0_tri = fcd_analyses_0[fcd_analyses_0.timestep_time > 300]\n",
    "number_rows = len(fcd_analyses_0.index)\n",
    "print(number_rows)\n",
    "number_rows_tri = len(fcd_0_tri.index)\n",
    "print(number_rows_tri)\n",
    "\n",
    "fcd_0_tri_2 = fcd_0_tri[fcd_0_tri.vehicle_type != \"autre\"]\n",
    "print(len(fcd_0_tri_2.index))"
   ]
  },
  {
   "cell_type": "code",
   "execution_count": null,
   "id": "689c2afe",
   "metadata": {},
   "outputs": [],
   "source": [
    "## Groupe les vehicles dans le même pas de temps et fait la moyenne\n",
    "fcd_0 = fcd_0_tri_2.groupby('timestep_time',as_index=False)\n",
    "fcd_mean_0=fcd_0.mean()"
   ]
  },
  {
   "cell_type": "code",
   "execution_count": null,
   "id": "ae0f264c",
   "metadata": {},
   "outputs": [],
   "source": [
    "fig = go.Figure()\n",
    "fig.add_trace(go.Scatter(x=fcd_mean_0[\"timestep_time\"].tolist(), y=fcd_mean_0[\"vehicle_speed\"].tolist() ,name = 'Baseline mean speed'))\n",
    "\n",
    "fig.show()"
   ]
  },
  {
   "cell_type": "markdown",
   "id": "112628a1",
   "metadata": {},
   "source": [
    "### 1.3 Indicateur: trajectoire des véhicules"
   ]
  },
  {
   "cell_type": "markdown",
   "id": "46153de5",
   "metadata": {},
   "source": [
    "Les diagrammes espace-temps permettent une bonne visualistaion de la congestion ou de l'impact des stratégies de régulation sur le réseau."
   ]
  },
  {
   "cell_type": "markdown",
   "id": "ac47104d",
   "metadata": {},
   "source": [
    "a) Diagramme espace-temps: les deux voies confondues"
   ]
  },
  {
   "cell_type": "code",
   "execution_count": null,
   "id": "40e2b8f4",
   "metadata": {
    "scrolled": true
   },
   "outputs": [],
   "source": [
    "#det\n",
    "print(len(fcd_0_tri_2.index))\n",
    "index_with_nan = fcd_0_tri_2.index[fcd_0_tri_2.isnull().any(axis=1)]\n",
    "fcd_0_tri_2.drop(index_with_nan,0, inplace=True)\n",
    "print(len(fcd_0_tri_2.index))\n",
    "\n",
    "fig = px.scatter(fcd_0_tri_2, x='timestep_time', y='vehicle_pos', color='vehicle_speed', color_continuous_scale='jet_r' )\n",
    "fig.show()"
   ]
  },
  {
   "cell_type": "markdown",
   "id": "87adb0e0",
   "metadata": {},
   "source": [
    "b) Diagramme espace-temps par voie"
   ]
  },
  {
   "cell_type": "code",
   "execution_count": null,
   "id": "1e3790ce",
   "metadata": {},
   "outputs": [],
   "source": [
    "fcd_0_tri_2_lane0 = fcd_0_tri_2[fcd_0_tri_2[\"vehicle_lane\"]=='E_0']\n",
    "fig = px.scatter(fcd_0_tri_2_lane0, x='timestep_time', y='vehicle_pos', color='vehicle_speed', color_continuous_scale='jet_r')\n",
    "fig.show()\n",
    "\n",
    "fcd_0_tri_2_lane1 = fcd_0_tri_2[fcd_0_tri_2[\"vehicle_lane\"]=='E_1']\n",
    "fig = px.scatter(fcd_0_tri_2_lane1, x='timestep_time', y='vehicle_pos', color='vehicle_speed', color_continuous_scale='jet_r' )\n",
    "fig.show()\n"
   ]
  },
  {
   "cell_type": "markdown",
   "id": "8c25f024",
   "metadata": {},
   "source": [
    "## 2. Exemples d'indicateurs pour observer l'impact environnmental du réseau"
   ]
  },
  {
   "cell_type": "markdown",
   "id": "917763b6",
   "metadata": {},
   "source": [
    "### 2.1 Indicateur: émissions CO2"
   ]
  },
  {
   "cell_type": "code",
   "execution_count": null,
   "id": "35972276",
   "metadata": {},
   "outputs": [],
   "source": [
    "path_tripinfo_csv = \"./stats_bas/tripinfo.csv\"\n",
    "trip_csv_0 = pd.read_csv(path_tripinfo_csv, sep = ';')\n",
    "print(trip_csv_0.head())"
   ]
  },
  {
   "cell_type": "code",
   "execution_count": null,
   "id": "4f841993",
   "metadata": {},
   "outputs": [],
   "source": [
    "print(trip_csv_0.columns)"
   ]
  },
  {
   "cell_type": "code",
   "execution_count": null,
   "id": "b49ada27",
   "metadata": {},
   "outputs": [],
   "source": [
    "print(len(trip_csv_0.index))\n",
    "trip_tri_1 = trip_csv_0[trip_csv_0.tripinfo_depart > 300]\n",
    "print(len(trip_tri_1))\n",
    "trip_tri_2 = trip_tri_1[trip_tri_1.tripinfo_vType != \"autre\"]\n",
    "print(len(trip_tri_2))"
   ]
  },
  {
   "cell_type": "code",
   "execution_count": null,
   "id": "988c48a5",
   "metadata": {},
   "outputs": [],
   "source": [
    "trip_tri_2.emissions_CO2_abs.describe()"
   ]
  },
  {
   "cell_type": "code",
   "execution_count": null,
   "id": "48e03f35",
   "metadata": {},
   "outputs": [],
   "source": [
    "trip_tri_2.emissions_CO2_abs.sum()"
   ]
  },
  {
   "cell_type": "markdown",
   "id": "7296ac88",
   "metadata": {},
   "source": [
    "## 3. Exemples d'indicateurs pour observer la sécurité sur le réseau"
   ]
  },
  {
   "cell_type": "markdown",
   "id": "7a769370",
   "metadata": {},
   "source": [
    "### 3.1 Indicateur: homogénéisation des temps de parcours entre les véhicules "
   ]
  },
  {
   "cell_type": "markdown",
   "id": "f4979f56",
   "metadata": {},
   "source": [
    "On calcule le coefficient de variation entre les temps de parcours des véhicules. Un faible coefficient de variation indique une faible variation entre les temps de parcours des véhicuels et donc une homogénisation de la circulation sur le réseau. Au contraire, un fort coefficient de variation indique une forte hétérogénéité de comportement entre les véhicules sur le réseau.\n",
    "\n",
    "Ici, il n'a de sens que si on le compare à un autre coefficient de variation (par exemple un coefficient de variation d'une simulation où on applique un systme de régulation de trafic)."
   ]
  },
  {
   "cell_type": "code",
   "execution_count": null,
   "id": "c6e5d305",
   "metadata": {},
   "outputs": [],
   "source": [
    "meanTTS = trip_tri_2.tripinfo_duration.mean()\n",
    "ecartTTS = trip_tri_2.tripinfo_duration.std()\n",
    "\n",
    "print( 'coefficient de variation des temps de parcours de la situation de référence', ecartTTS/meanTTS)"
   ]
  }
 ],
 "metadata": {
  "kernelspec": {
   "display_name": "Python 3 (ipykernel)",
   "language": "python",
   "name": "python3"
  },
  "language_info": {
   "codemirror_mode": {
    "name": "ipython",
    "version": 3
   },
   "file_extension": ".py",
   "mimetype": "text/x-python",
   "name": "python",
   "nbconvert_exporter": "python",
   "pygments_lexer": "ipython3",
   "version": "3.10.2"
  }
 },
 "nbformat": 4,
 "nbformat_minor": 5
}
