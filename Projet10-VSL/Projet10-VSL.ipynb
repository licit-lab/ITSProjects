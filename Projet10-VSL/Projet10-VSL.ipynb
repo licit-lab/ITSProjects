{
 "cells": [
  {
   "cell_type": "markdown",
   "id": "4aca4202",
   "metadata": {},
   "source": [
    "# TP ITS : Implémentation d'un système de régulation dynamique de vitesses basé sur les véhicules connectés"
   ]
  },
  {
   "cell_type": "markdown",
   "id": "d1c990b7",
   "metadata": {},
   "source": [
    "## Partie 1 : Implémentation d'un système de régulation dynamique des vitesses "
   ]
  },
  {
   "cell_type": "markdown",
   "id": "e9a68f8a",
   "metadata": {},
   "source": [
    "La première partie du TP a pour objectif:\n",
    "- Prendre en main les outils SUMO/Traci \n",
    "- Trouver le couple distance/temps d'activation de la limitation de vitesse optimum pour le cas étudié.\n",
    "    \n",
    "On travaille à taux de pénétration constant et égal à 100% (tous les véhicules sont connectés).\n",
    "On travaille sur une unique simulation (seed = str(30)).\n",
    "La vitesse limite à appliquer est pré-déterminée (80 km/h)."
   ]
  },
  {
   "cell_type": "markdown",
   "id": "b69d1771",
   "metadata": {},
   "source": [
    "### 1.1 Prise en main de l'outil de simulation SUMO et du module TRACI "
   ]
  },
  {
   "cell_type": "markdown",
   "id": "f80b37f1",
   "metadata": {},
   "source": [
    "#### 1.1.1 Analyse de la situation de référence "
   ]
  },
  {
   "cell_type": "markdown",
   "id": "b160880c",
   "metadata": {},
   "source": [
    "Commencez par lancer la simulation SUMO à l'aide du script python pour observer la situation et récupérer les fichiers de sortie.\n",
    "\n",
    "Note : Vous pouvez activer l'option de SUMO-GUI où la couleur des véhicules dépend de leur vitesse pour avoir un premier aperçu de la situation."
   ]
  },
  {
   "cell_type": "markdown",
   "id": "a6fbcfd7",
   "metadata": {},
   "source": [
    "QUESTION 0 : Faire tourner le fichier notebook Outils_analyses.ipynb"
   ]
  },
  {
   "cell_type": "markdown",
   "id": "cf10974f",
   "metadata": {},
   "source": [
    "QUESTION 1 : Caractériser la situation de référence à l'aide des outils à disposition et des indicateurs de traffic choisis."
   ]
  },
  {
   "cell_type": "markdown",
   "id": "0a35298e",
   "metadata": {},
   "source": [
    "1.1 Après avoir établi la propagation spatiale et temporelle de la congestion, caractériser l'efficacité du réseau avec un (ou des) indicateurs(s) de votre choix (Temps Total Passé par tous les véhicules sur le réseau, vitesse moyenne, etc)."
   ]
  },
  {
   "cell_type": "code",
   "execution_count": null,
   "id": "1b5322f1",
   "metadata": {},
   "outputs": [],
   "source": [
    "### Réponse 1.1 : codes, graphes et analyses attendus"
   ]
  },
  {
   "cell_type": "markdown",
   "id": "5fd52127",
   "metadata": {},
   "source": [
    "1.2 Caractériser la situation de référence du réseau à travers une dimension environnementale à l'aide des indicateurs de votre choix (emissions CO2, Nox, etc)."
   ]
  },
  {
   "cell_type": "code",
   "execution_count": null,
   "id": "78ae52ec",
   "metadata": {},
   "outputs": [],
   "source": [
    "### Réponse 1.2 : codes, graphes et analyses attendus"
   ]
  },
  {
   "cell_type": "markdown",
   "id": "01bf5c85",
   "metadata": {},
   "source": [
    "1.3 Caractériser le réseau en termes de sécurité à l'aide d'un indicateur de votre choix (homogénisation des vitesses, facteur d'accélération/décélération des véhicules)."
   ]
  },
  {
   "cell_type": "code",
   "execution_count": null,
   "id": "0189bb2a",
   "metadata": {},
   "outputs": [],
   "source": [
    "### Réponse 1.3: codes, graphes et analyses attendus"
   ]
  },
  {
   "cell_type": "markdown",
   "id": "ca0de5f4",
   "metadata": {},
   "source": [
    "#### 1.1.2 Construction d'un scénario VSL en s'appuyant sur la situation de référence"
   ]
  },
  {
   "cell_type": "markdown",
   "id": "845e789d",
   "metadata": {},
   "source": [
    "Avec le module TRAffic Control Interface (TRACI), il est possible d'accéder à une simulation en cours pour récupérer des données et contrôler le comportement des objets simulés grâce à un script python. \n"
   ]
  },
  {
   "cell_type": "markdown",
   "id": "0741f752",
   "metadata": {},
   "source": [
    "Après avoir décommenté la partie \"Système VSL\" du script python, lancez le script depuis votre terminal et observez ce qu'il se passe."
   ]
  },
  {
   "cell_type": "markdown",
   "id": "37fc96ab",
   "metadata": {},
   "source": [
    "Note : Il est conseillé de conserver les fichiers des précédentes simulations et notamment ceux associés à la situation de référence. Vous pouvez ainsi créer une fichier du script python appelée TP_ITS_ref.py avant de le modifier, ou encore renommer le dossier Stats en Stats_ref."
   ]
  },
  {
   "cell_type": "markdown",
   "id": "709ebe85",
   "metadata": {},
   "source": [
    "### 1.2 Implémentation du système de régulation dynamique "
   ]
  },
  {
   "cell_type": "markdown",
   "id": "a3eace57",
   "metadata": {},
   "source": [
    "On cherche la solution optimum d'application de la limitation de vitesse c'est à dire le couple distance/temps qui réduit la congestion le plus efficacement et/ou maximise les indicateurs de trafic choisis. \n",
    "\n",
    "La vitesse limite à imposer aux véhicules est 80 km/h."
   ]
  },
  {
   "cell_type": "markdown",
   "id": "9e6f21a7",
   "metadata": {},
   "source": [
    "QUESTION 2 : Déterminer la distance et le temps d'application de la limitation de vitesse permettant une situation optimum, en utilisant les outils à disposition et en justifiant avec les indicateurs de traffic choisis dans la partie précédente.\n",
    "\n",
    "Note : Il est attendu une comparaison avec la situation de référence mais aussi entre plusieurs couples de solution pour justifier votre choix."
   ]
  },
  {
   "cell_type": "markdown",
   "id": "85b7cf2d",
   "metadata": {},
   "source": [
    "QUESTION 2.1 : Déterminer la solution optimale (distance et temps d'application de la limitation de vitesses) en termes d'efficacité du réseau. "
   ]
  },
  {
   "cell_type": "code",
   "execution_count": null,
   "id": "b7884b3a",
   "metadata": {},
   "outputs": [],
   "source": [
    "### Réponse 2.1: codes, graphes et analyses attendus"
   ]
  },
  {
   "cell_type": "markdown",
   "id": "5724adb3",
   "metadata": {},
   "source": [
    "QUESTION 2.2: Déterminer la solution optimale en termes environnementaux."
   ]
  },
  {
   "cell_type": "code",
   "execution_count": null,
   "id": "56b9bb53",
   "metadata": {},
   "outputs": [],
   "source": [
    "### Réponse 2.2: codes, graphes et analyses attendus"
   ]
  },
  {
   "cell_type": "markdown",
   "id": "370fd0b8",
   "metadata": {},
   "source": [
    "QUESTION 2.3: Déterminer la solution optimale en termes de sécurité sur le réseau. "
   ]
  },
  {
   "cell_type": "code",
   "execution_count": null,
   "id": "8e71866b",
   "metadata": {},
   "outputs": [],
   "source": [
    "### Réponse 2.3: codes, graphes et analyses attendus"
   ]
  },
  {
   "cell_type": "markdown",
   "id": "b7ca8f72",
   "metadata": {},
   "source": [
    "Bilan: Faites un bilan de vos réponses et justifier le choix de votre solution optimale"
   ]
  },
  {
   "cell_type": "code",
   "execution_count": null,
   "id": "c32c1e32",
   "metadata": {},
   "outputs": [],
   "source": [
    "### Réponse bilan: justification libre"
   ]
  },
 
  {
   "cell_type": "markdown",
   "id": "8ba5c5c0",
   "metadata": {},
   "source": [
    "## Partie 2 : Etudier l'impact du taux de pénétration et de la combinaison de différentes stratégies sur l'efficacité du système de contrôle"
   ]
  },
  {
   "cell_type": "markdown",
   "id": "f5e624c6",
   "metadata": {},
   "source": [
    "On travaillait sur un réseau entièrement connecté (taux de pénétration =100%) c'est à dire que tous les véhicules compris dans la zone de limitation de vitesse surant le temps de contrôle recevait la consigne de limitation de vitesse. \n",
    "Désormais, le traffic est mixte et on a également des véhicules non connectés. "
   ]
  },
  {
   "cell_type": "markdown",
   "id": "e9596ace",
   "metadata": {},
   "source": [
    "### 2.1 Impact du taux de pénétration sur l'efficacité du système de régulation dynamique des vitesses "
   ]
  },
  {
   "cell_type": "markdown",
   "id": "10b11792",
   "metadata": {},
   "source": [
    "A l'aide des différents fichiers de demande, faites varier le taux de pénétration:\n",
    "-100% réseau entièrement connecté (situation précédente de contrôle) (fichier demand100.rou)\n",
    "-75 (fichier demand75.rou)\n",
    "-50% (demand50.rou)\n",
    "-30%\n",
    "-10%\n",
    "-0% : situation de référence sans contrôle)\n",
    "\n",
    "Note : Le fichier de simulation appelle le fichier de demande appelé demand.rou, vous devez donc renommer le fichier de demande que vous voulez utiliser avec ce nom. Quelle que soit votre technique faites attention à bien conserver les différents fichiers de demande, par exemple veillez à bien copier le fichier de demande que vous voulez utiliser puis renommer cette copie en demand.rou."
   ]
  },
  {
   "cell_type": "markdown",
   "id": "85e6b18c",
   "metadata": {},
   "source": [
    "QUESTION 3 : Quel est l'impact du taux de pénétration sur l'efficacité du système de contrôle? Justifier avec les indicateurs utilisés précédemment."
   ]
  },
  {
   "cell_type": "code",
   "execution_count": null,
   "id": "c27cb5b2",
   "metadata": {},
   "outputs": [],
   "source": [
    "### Réponse 3: codes, graphes et analyses attendus pour les 3 dimensions "
   ]
  },
  {
   "cell_type": "markdown",
   "id": "e95fa82e",
   "metadata": {},
   "source": [
    "### 2.2 Combinaison de différentes stratégies de contrôle"
   ]
  },
  {
   "cell_type": "markdown",
   "id": "6dffe6b0",
   "metadata": {},
   "source": [
    "Il est également possible de combiner différents types de message pour une stratégie de contrôle plus efficace.\n",
    "\n",
    "Ici, l'idée est de faire changer de voie les véhicules connectés en amont de la zone de congestion pour anticiper la voie d'insertion, en plus de la limitation de vitesse.\n",
    "\n",
    "Décommentez la partie où on demande aux véhicules connectés de changer de voie à une certaine distance de la zone de congestion et pour un certain temps. Observez la situation puis associer cette consigne à celle de limitation de vitesse (avecle couple distance/temps de limitation choisi dans la partie 1 et la valeur de limitation de vitesse toujours égal à 80 km/h). Observez."
   ]
  },
  {
   "cell_type": "markdown",
   "id": "3e00b99d",
   "metadata": {},
   "source": [
    "QUESTION 4 : Trouver le trio (distance/temps/valeur de la limitation de vitesse) optimum. \n",
    "\n",
    "Note : Le but ici est de d'utiliser la combinaison des deux stratégies pour améliorer au moins une des 3 dimensions vues précedemment sur le réseau. Ainsi, utiliser la combinaison des deux stratégies pour augmenter le valeur de la limitation de vitesse (90 km/h par exemple) ou pour appliquer une plus petite distance de limitation de vitesse pourrait permettre d'augmenter l'efficacité du réseau, en termes de temps de parcours par exemple. \n",
    "\n",
    "Note : Vous pouvez bien évidemment améliorer les stratégies proposées.\n",
    "\n",
    "Faites ensuite varier le taux de pénétration et regardez son impact sur cette stratégie. "
   ]
  },
  {
   "cell_type": "code",
   "execution_count": null,
   "id": "061dbe55",
   "metadata": {},
   "outputs": [],
   "source": [
    "### Réponse 4: codes, graphes et analyses "
   ]
  },
  {
   "cell_type": "markdown",
   "id": "acc06072",
   "metadata": {},
   "source": [
    "QUESTION 5 : Quel est désormais l'impact du taux de pénétration sur l'efficacité du système de contrôle? "
   ]
  },
  {
   "cell_type": "code",
   "execution_count": null,
   "id": "2907d4a7",
   "metadata": {},
   "outputs": [],
   "source": [
    "### Réponse 5: codes, graphes et analyses "
   ]
  }
 ],
 "metadata": {
  "kernelspec": {
   "display_name": "Python 3 (ipykernel)",
   "language": "python",
   "name": "python3"
  },
  "language_info": {
   "codemirror_mode": {
    "name": "ipython",
    "version": 3
   },
   "file_extension": ".py",
   "mimetype": "text/x-python",
   "name": "python",
   "nbconvert_exporter": "python",
   "pygments_lexer": "ipython3",
   "version": "3.9.7"
  }
 },
 "nbformat": 4,
 "nbformat_minor": 5
}

