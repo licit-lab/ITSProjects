{
 "cells": [
  {
   "cell_type": "markdown",
   "metadata": {
    "papermill": {
     "duration": 0.013152,
     "end_time": "2019-11-26T15:01:36.194135",
     "exception": false,
     "start_time": "2019-11-26T15:01:36.180983",
     "status": "completed"
    },
    "tags": []
   },
   "source": [
    "# Project Description\n",
    "\n",
    "## Analyzing Impact of V2I connectivity in terms of traffic\n",
    "\n",
    "In this project the main objective is to understand the impact of vehicle-to-infrastructure (V2I) communication in traffic systems. In particular the focus will be oriented towards the creation of different kind of messages and understanding the effects of those messages in the traffic network.\n",
    "\n",
    "<img src=\"assets/img/01_v2i.jpg\" alt=\"drawing\" width=\"600\"/>\n",
    "\n",
    "\n",
    "In order to do that we are going to make use of the package `connectv2x` that includes some basic models and communication for `V2I` systems. For more information about the source code of this package please go [here](https://github.com/research-licit/connectv2x). Over there you will find a folder called `connectv2x` containing all the models in the submodules `carfollow`, `vehicles`, `demand`, `messages` etc. Some of these will be explored along the module and may help you to progress faster in the project.   "
   ]
  },
  {
   "cell_type": "code",
   "execution_count": null,
   "metadata": {},
   "outputs": [],
   "source": [
    "# Try this on google collab only\n",
    "# !pip install -r https://raw.githubusercontent.com/research-licit/ITSProjects/main/requirements.txt"
   ]
  },
  {
   "cell_type": "markdown",
   "metadata": {
    "papermill": {
     "duration": 0.013152,
     "end_time": "2019-11-26T15:01:36.194135",
     "exception": false,
     "start_time": "2019-11-26T15:01:36.180983",
     "status": "completed"
    },
    "tags": []
   },
   "source": [
    "## Contents and structure \n",
    "\n",
    "* Exploration and modeling of vehicle dynamics\n",
    "* Traffic indicators \n",
    "* Analyzing different scenarios of V2I messaging \n",
    "* Compute emissions from trajectories \n",
    "* Scaling up and analyzing deep characteristics. \n",
    "\n",
    "Let's begin by importing some plotting libraries that will help us with data visualization"
   ]
  },
  {
   "cell_type": "code",
   "execution_count": null,
   "metadata": {},
   "outputs": [],
   "source": [
    "from bokeh.plotting import show\n",
    "from bokeh.io import output_notebook\n",
    "output_notebook()"
   ]
  },
  {
   "cell_type": "markdown",
   "metadata": {
    "papermill": {
     "duration": 0.013152,
     "end_time": "2019-11-26T15:01:36.194135",
     "exception": false,
     "start_time": "2019-11-26T15:01:36.180983",
     "status": "completed"
    },
    "tags": []
   },
   "source": [
    "## Understanding the basics \n",
    "\n",
    "For this application it is considered the simulation of [microscopic traffic models](https://en.wikipedia.org/wiki/Microscopic_traffic_flow_model) where *longitudinal position* follow a specified behavior defined as a function of  two main components, the *headway space* and the *speed differential*. The *car following* behavior describes the behavior of the vehicle in its longitudinal dynamics while the *lane change* behavior describes the behavior in the lateral position. \n",
    "\n",
    "In order to modify traffic behavior for a condition, the system is modeled via traffic model where V2I messages modify vehicle speed or lateral position   "
   ]
  },
  {
   "cell_type": "markdown",
   "metadata": {},
   "source": [
    "#### Traffic model and the fundamental diagram\n",
    "\n",
    "Before pursuing it is important to understand the value of the fundamental diagram. The fundamental diagram describe the relation ship between ***density*** or concentration of vehicles and the ***flow*** or speed of vehicles. The density is regularly denoted as $\\kappa$ for this scenarios as `K`, in the meanwhile the flow is denoted by `Q`. We are going to consider the fact that the relationship follows a piecewise linear behavior as follows:\n",
    "\n",
    "\n",
    "\\begin{aligned}\n",
    "Q(\\kappa) = \\begin{cases}\n",
    "u\\kappa\\quad 0\\leq\\kappa\\leq \\kappa_c\\\\\n",
    "w\\left(\\kappa_x-\\kappa\\right)\\quad \\kappa_c\\leq\\kappa\\leq \\kappa_x\n",
    "\\end{cases}\n",
    "\\end{aligned}\n",
    "\n",
    "\n",
    "Let's define the number of vehicles and their initial positions, in order to determine the initial position let's find the minimum spacing. For the moment let's consider the following parameters. `W=5`, `K_X=0.2` and `U=20`. Let's trace the fundamental diagram for this case. We will make use of the `FundamentalDiagram` class in the `traffic` submodule"
   ]
  },
  {
   "cell_type": "code",
   "execution_count": null,
   "metadata": {},
   "outputs": [],
   "source": [
    "from itstools.connectv2x.traffic import FundamentalDiagram\n",
    "from bokeh.plotting import show\n",
    "\n",
    "f = FundamentalDiagram(w=5,u=25,k_x=0.2)\n",
    "p = f.plot_diagram()\n",
    "show(p)"
   ]
  },
  {
   "cell_type": "markdown",
   "metadata": {},
   "source": [
    "We can easily establish the ***critical density*** which corresponds to the amount of vehicles at which there is maximum flow via"
   ]
  },
  {
   "cell_type": "code",
   "execution_count": null,
   "metadata": {},
   "outputs": [],
   "source": [
    "print(f\"Capacity: {f.C}\")\n",
    "print(f\"Critical density: {f.k_c}\")\n",
    "print(f\"Maximum density: {f.k_x}\")\n",
    "print(f\"Speed limit: {f.u}\")\n",
    "print(f\"Congestion speed: {f.w}\")"
   ]
  },
  {
   "cell_type": "markdown",
   "metadata": {},
   "source": [
    "The critical density represent the minimum tolerable inter-vehicle distance **critical headway space** before vehicles start to decrease their speed. On the other hand when the value of density is maximum, and the flow is 0, the vehicles respect the **minimum headway space** that can be computed from the maximum value of density $\\kappa_x$ via\n",
    "\n",
    "\\begin{aligned}\n",
    "\\kappa_x = \\frac{N}{d} \\approx \\frac{1}{s_0}  \\approx \\frac{1}{l_{\\text{avg}}+s_{\\text{min}}} \n",
    "\\end{aligned}\n",
    "\n",
    "Where $l_{\\text{avg}}$ is the average vehicle length and $s_{text{min}}$ represents the minimum tolerated headway spacing between two vehicles. \n",
    "\n",
    "By computing the case in the fundamental diagram"
   ]
  },
  {
   "cell_type": "code",
   "execution_count": null,
   "metadata": {},
   "outputs": [],
   "source": [
    "print(f\"Minimum headway space: {1/f.k_x}\")"
   ]
  },
  {
   "cell_type": "markdown",
   "metadata": {},
   "source": [
    "**Q1**: Supose a vehicle has an average length of $l_{\\text{avg}}=4$ [m] and the minimum tolerable inter vehicle distance is $s_{\\text{min}}=2.25$[m]. Consider the congestion wave speed $w=6.25$ [m/s] and a free flow speed of $u=25$ [m/s]. Compute and plot the fundamental diagram for this case and find the value of the capacity and minimum headway space:\n",
    "\n",
    "<span style= \"color:blue\">Provide your answers below:</span>"
   ]
  },
  {
   "cell_type": "code",
   "execution_count": null,
   "metadata": {},
   "outputs": [],
   "source": []
  },
  {
   "cell_type": "markdown",
   "metadata": {
    "papermill": {
     "duration": 0.013152,
     "end_time": "2019-11-26T15:01:36.194135",
     "exception": false,
     "start_time": "2019-11-26T15:01:36.180983",
     "status": "completed"
    },
    "tags": []
   },
   "source": [
    "#### Car following behavior and traffic model \n",
    "\n",
    "Keep in mind the constants `K_X`, `W`, `U` you have computed, they will be useful for building up the behavior of cars in traffic. \n",
    "\n",
    "For the sake of clarity, the following corresponds to the notations for variable description in the model. It is considered the vehicle position of a vehicle as $x_n$ and the headway space between a vehicle and its leader as $s_n = x_{n-1}-x_{n}$. The vehicle's speed and acceleration are defined as $v_n$,$a_n$ respectively. The operator $\\Delta v_n = v_{n-1} - v_{n}$ refers to the difference between the leading vehicle and the following one. \n",
    "\n",
    "For a determined vehicle in the network the longitudinal dynamics are determined by the acceleration behavior. In this case it is considred Tampere's Law. \n",
    "\n",
    "$$ \n",
    "a_n(t+T_n) = \\min \\left(c_{1,n-1}\\Delta v_{n-1,n} + \n",
    "c_{2}\\left(\\Delta x_{n,n-1} - \\left(s_0+\\tau v_n(t)\\right)\\right),\n",
    "c_{3}\\left(v^\\star(t) - v_n(t)\\right)\\right)\n",
    "$$\n",
    "\n",
    "One of the main features of this model is the adaptability to a specific speed condition, while preserving properties of the traffic such as the car following behavior in congestion situation. This feature makes it possible to trace features in the fundamental diagram. \n",
    "\n",
    "*To implement the model a `class` object called `Tampere` has been implemented. The class intends to describe the full behavior of the vehicle.* \n",
    "\n",
    "#### Parameters \n",
    "\n",
    "So far parameters in the model have been fixed although random scenarios can be also considered.\n",
    "\n",
    "| Parameter     | Value     | Units |\n",
    ":--------------:|:---------:|:------:\n",
    "$$c_1,c_2,c_3$$ | 0.5       |\n",
    "$$\\tau$$        | $$\\frac{1}{wk_x}$$ | [s]\n",
    "$$w$$           | $$6.25$$  | [m/s]\n",
    "$$k_x$$         | $$0.16$$  | [veh/km]\n",
    "$$u_i$$         | $$25$$    | [m/s]"
   ]
  },
  {
   "cell_type": "markdown",
   "metadata": {},
   "source": [
    "Please follow step by step variable definitions for more detail into simulations. Let define the parameters declared in the table as `C_1,C_2,C_3,W,K_X,W` and import the class `Tampere` from the submodule `connectv2x.carfollow`. "
   ]
  },
  {
   "cell_type": "code",
   "execution_count": null,
   "metadata": {},
   "outputs": [],
   "source": [
    "from itstools.connectv2x.carfollow import Tampere\n",
    "\n",
    "C_1, C_2, C_3 = (0.5,0.5,0.5)"
   ]
  },
  {
   "cell_type": "markdown",
   "metadata": {},
   "source": [
    "In the following we are going to compute the initial speeds `V_0`, positions `X_0` for simulating the vehicle's dynamic. Let's consider for the moment a set of two vehicles "
   ]
  },
  {
   "cell_type": "code",
   "execution_count": null,
   "metadata": {},
   "outputs": [],
   "source": [
    "import numpy as np \n",
    "\n",
    "# Initialize the vehicles. Run from here to repeat the dynamic evolution \n",
    "\n",
    "N_VEH = 2 # Number of vehicles \n",
    "X0 = np.array([25,0])\n",
    "V0 = np.ones(N_VEH) * f.u\n",
    "A0 = np.zeros(N_VEH)\n",
    "V_CLASS = [\"HDV\", \"HDV\"]\n",
    "\n",
    "veh_list = []\n",
    "Tampere.reset()\n",
    "for x0, v0, vtype in zip(X0, V0, V_CLASS):\n",
    "    veh_list.append(Tampere(x0=x0, v0=v0, veh_type=vtype))\n",
    "print(f\"List of vehicles: {veh_list}\")"
   ]
  },
  {
   "cell_type": "markdown",
   "metadata": {},
   "source": [
    "Up to the moment vehicles have been created only, it is required to link them in order to indicate who is the leader and who is the follower. For that it is possible to use the method `set_leader`"
   ]
  },
  {
   "cell_type": "code",
   "execution_count": null,
   "metadata": {},
   "outputs": [],
   "source": [
    "veh_list[1].set_leader(veh_list[0])\n",
    "print(f\"Leader for vehicle {veh_list[0].idx}: {veh_list[0].veh_lead}\")\n",
    "print(f\"Leader for vehicle {veh_list[1].idx}: {veh_list[1].veh_lead.idx}\")"
   ]
  },
  {
   "cell_type": "markdown",
   "metadata": {},
   "source": [
    "Based on the definition of the fundamental diagram let's compute the parameters required to evolve the acceleration equation. In general in order to evolve the acceleration equation it is required to solve the following dynamical system: \n",
    "\n",
    "\n",
    "\\begin{aligned}\n",
    "x_n(t+T) &= x_n(t) + v_n(t)T\\\\\n",
    "v_n(t+T) &= v_n(t) + a_n(t) T\\\\\n",
    "\\end{aligned}\n",
    "\n",
    "In order to evolve this set of equations in time it is required to account for the initial positions for all vehicles and in particular for a particular definition of $a_0(t)$ the first vehicle in the formation."
   ]
  },
  {
   "cell_type": "markdown",
   "metadata": {},
   "source": [
    "#### Setting a desired control speed \n",
    "\n",
    "Let's consider the *sigmoid* function as a principle to create a change in speed via the equation : \n",
    "\n",
    "$$\n",
    "S(A,a,d,B,x) = \\frac{A}{\\textstyle 1+e^{\\displaystyle-\\frac{\\left(x-d\\right)}{a}}}+B\n",
    "$$"
   ]
  },
  {
   "cell_type": "code",
   "execution_count": null,
   "metadata": {},
   "outputs": [],
   "source": [
    "# Sigmoid function \n",
    "from itstools.connectv2x.support import sigmoid\n",
    "from bokeh.plotting import figure \n",
    "from bokeh.layouts import column \n",
    "from bokeh.palettes import Spectral5\n",
    "\n",
    "x = np.linspace(-6,6,100)\n",
    "\n",
    "A_range = np.linspace(1,2,5)\n",
    "d_range = np.linspace(0,2,5)\n",
    "a_range = np.linspace(0.5,2,5)\n",
    "B_range = np.linspace(0,1,5)\n",
    "\n",
    "# Figure creation \n",
    "p = [figure(title=\"S(t)\",plot_height=350,plot_width=500) for _ in range(4)]\n",
    "\n",
    "for A,d,a,b, color in zip(A_range,d_range,a_range, B_range, Spectral5):\n",
    "    p[0].line(x,sigmoid(x,A,1,0),color=color,legend_label = f\"A: {A}\")\n",
    "    p[1].line(x,sigmoid(x,1,1,d),color=color,legend_label = f\"d: {d}\")\n",
    "    p[2].line(x,sigmoid(x,1,a,0),color=color,legend_label = f\"a: {a}\")\n",
    "    p[3].line(x,sigmoid(x,1,1,0)+b,color=color,legend_label = f\"B: {b}\")\n",
    "\n",
    "    \n",
    "p[0].legend.location = \"top_left\";\n",
    "p[1].legend.location = \"top_left\"\n",
    "p[2].legend.location = \"top_left\"\n",
    "p[3].legend.location = \"top_left\"\n",
    "\n",
    "show(column(p[0],p[1],p[2],p[3]))"
   ]
  },
  {
   "cell_type": "markdown",
   "metadata": {},
   "source": [
    "Now you have seen how to transform the signal such that it can be *amplified*, *delayed*, *compressed*, *displaced* according to the parameters `A`, `d`, `a`,`B` respectively "
   ]
  },
  {
   "cell_type": "markdown",
   "metadata": {},
   "source": [
    "**Q2:** Consider the sigmoid function presented before. Create a `distance` vector of $1000$[m] with steps of 1 meter and create a sigmoid function that starts a signal at $25$ [m/s] and drops down the speed to $10$[m/s] in an interval of $300$[m]. Start this maneuver at around $200$[m]\n",
    "\n",
    "<span style= \"color:blue\">Provide your answers below:</span>"
   ]
  },
  {
   "cell_type": "code",
   "execution_count": null,
   "metadata": {},
   "outputs": [],
   "source": []
  },
  {
   "cell_type": "markdown",
   "metadata": {},
   "source": [
    "##### Main dynamic evolution \n",
    "\n",
    "In order to evolve the system it is necessary a loop going step by step and computing the position of each vehicle. In this case we consider the scenario under which the leader vehicle is affected by a profile of speed. In this case we consider the following case: "
   ]
  },
  {
   "cell_type": "code",
   "execution_count": null,
   "metadata": {},
   "outputs": [],
   "source": [
    "# Road works speed profile\n",
    "from itstools.connectv2x.support import speed_pulse \n",
    "\n",
    "def lead_spd(x):\n",
    "    \"\"\"  Leader's function to control speed drop in space \n",
    "         Speed Drop: 20 m/s \n",
    "         Position: 15 Km\n",
    "         Duration: 20 Km\n",
    "    \"\"\"\n",
    "    return speed_pulse(x, drop=20, delay=5000, duration=2000)\n",
    "\n",
    "x_t = np.linspace(0, 10000, 10000)\n",
    "v_t = lead_spd(x_t)\n",
    "\n",
    "p = figure(title=\"V(x)\",plot_height=350,plot_width=500)\n",
    "p.line(x_t, v_t, legend_label=\"Lead speed\")\n",
    "p.legend.location = \"bottom_left\"\n",
    "p.xaxis.axis_label = \"Position [m]\"\n",
    "p.yaxis.axis_label = \"Speed [m/s]\"\n",
    "show(p)"
   ]
  },
  {
   "cell_type": "markdown",
   "metadata": {},
   "source": [
    "#### Time iteration \n",
    "\n",
    "In this case we consider the application of the former profile. As you can see there is a function `lead_spd` that computes the speed as a function of the distance `x`. It is possible to create multiple functions broadcasting messages in this case. "
   ]
  },
  {
   "cell_type": "code",
   "execution_count": null,
   "metadata": {},
   "outputs": [],
   "source": [
    "# Dynamical evolution \n",
    "def evolve_dynamics(veh_list, lead_spd, X0,V0,A0):\n",
    "    X = X0\n",
    "    V = V0\n",
    "    A = A0\n",
    "\n",
    "    # Declaring time vector\n",
    "    T_STEP = 960\n",
    "    time = np.linspace(0,T_STEP,T_STEP)\n",
    "\n",
    "    for t in time:\n",
    "        for veh in veh_list:\n",
    "            veh.step_evolution(control=lead_spd)\n",
    "\n",
    "        V = np.vstack((V, np.array([veh.v for veh in veh_list])))\n",
    "        X = np.vstack((X, np.array([veh.x for veh in veh_list])))\n",
    "        A = np.vstack((A, np.array([veh.a for veh in veh_list])))\n",
    "\n",
    "    V = V[1:, :]\n",
    "    X = X[1:, :]\n",
    "    A = A[1:, :]\n",
    "    return time, X,V,A \n",
    "\n",
    "time, X,V,A = evolve_dynamics(veh_list,lead_spd, X0,V0,A0)"
   ]
  },
  {
   "cell_type": "code",
   "execution_count": null,
   "metadata": {},
   "outputs": [],
   "source": [
    "from itstools.connectv2x.plottools import plot_xva\n",
    "\n",
    "zooms = (\n",
    "(0,10000),\n",
    "(-1,26),\n",
    "(-5,5)\n",
    ")\n",
    "\n",
    "titles = (\n",
    "    f\"X-Time \",\n",
    "    f\"V-Time \",\n",
    "    f\"X-Time \"\n",
    "  )\n",
    "pos, spd, acc = plot_xva(time, X, V, A, y_range=zooms, titles=titles)\n",
    "show(column(pos,spd,acc))"
   ]
  },
  {
   "cell_type": "markdown",
   "metadata": {},
   "source": [
    "**Q3:** Determine and find based on the data given before find the `headway space` defined as $x_{n-1}-x_n$. Plot the variation of the headway space in as a function of `time` and as a function of `X`. \n",
    "\n",
    "*Note*: `X`, `V`,`A` are matrices where the columns represent information  particular for a vehicle and the rows is the variable at a specific time instant e.g `X[10,0]` is the position of the first vehicle at time instant `10` \n",
    "\n",
    "<span style= \"color:blue\">Provide your answers below:</span>"
   ]
  },
  {
   "cell_type": "code",
   "execution_count": null,
   "metadata": {},
   "outputs": [],
   "source": []
  },
  {
   "cell_type": "markdown",
   "metadata": {},
   "source": [
    "**Q4:** Based on the function created in the step *Q2* create a function that receives as an input the position `x` and returns the speed of the leading vehicle. \n",
    "\n",
    "<span style= \"color:blue\">Provide your answers below:</span>"
   ]
  },
  {
   "cell_type": "code",
   "execution_count": null,
   "metadata": {},
   "outputs": [],
   "source": [
    "# Prototype a function as \n",
    "\n",
    "def my_leader_speed(x):\n",
    "    # Compute the leader speed as a function of the position. \n",
    "    return v"
   ]
  },
  {
   "cell_type": "markdown",
   "metadata": {},
   "source": [
    "**Q5:** Based on the function `evolve_dynamics` given by : \n",
    "\n",
    "```{python}\n",
    "# Dynamical evolution \n",
    "X = X0\n",
    "V = V0\n",
    "A = A0\n",
    "\n",
    "for t in time:\n",
    "    for veh in veh_list:\n",
    "        veh.step_evolution(control=lead_spd)\n",
    "\n",
    "    V = np.vstack((V, np.array([veh.v for veh in veh_list])))\n",
    "    X = np.vstack((X, np.array([veh.x for veh in veh_list])))\n",
    "    A = np.vstack((A, np.array([veh.a for veh in veh_list])))\n",
    "```\n",
    "\n",
    "Determine the evolution of the vehicles and trace the curves `Position`, `Speed` and `Acceleration` as a function of time. \n",
    "\n",
    "<span style= \"color:blue\">Provide your answers below:</span>"
   ]
  },
  {
   "cell_type": "code",
   "execution_count": null,
   "metadata": {},
   "outputs": [],
   "source": []
  },
  {
   "cell_type": "markdown",
   "metadata": {},
   "source": [
    "#### Scaling up the number of vehicles \n",
    "\n",
    "We have seen up the moment a simulation with very few vehicles. We are interested in observing the same behavior with more vehicles. Let's consider the case where vehicles are now around `20`. In this case we well consider the case where the vehicles are spaced at double of the minimum allowed vehicle distance $x_{n-1}-x_{n} = 3 * s_x$ "
   ]
  },
  {
   "cell_type": "code",
   "execution_count": null,
   "metadata": {},
   "outputs": [],
   "source": [
    "# Initialize the network. Run from here to repeat the dynamic evolution \n",
    "\n",
    "def initialize_network():\n",
    "    N_VEH = 20 # Number of vehicles \n",
    "    X0 = np.flip(np.arange(0, N_VEH) * f.s_x * 4)\n",
    "    V0 = np.ones(N_VEH) * f.u\n",
    "    A0 = np.zeros(N_VEH)\n",
    "    V_CLASS = [\"HDV\" for _ in range(N_VEH)]\n",
    "\n",
    "    veh_list = []\n",
    "\n",
    "    # Initializing vehicles\n",
    "    Tampere.reset()\n",
    "    for x0, v0, vtype in zip(X0, V0, V_CLASS):\n",
    "        veh_list.append(Tampere(x0=x0, v0=v0, l0=0, veh_type=vtype))\n",
    "\n",
    "    # Setting leader for vehicle i\n",
    "    for i in range(1, N_VEH):\n",
    "        veh_list[i].set_leader(veh_list[i - 1])\n",
    "\n",
    "    return veh_list,X0,V0,A0\n",
    "\n",
    "veh_list,X0,V0,A0 = initialize_network()"
   ]
  },
  {
   "cell_type": "code",
   "execution_count": null,
   "metadata": {},
   "outputs": [],
   "source": [
    "# Evolution of the system \n",
    "time, X,V,A = evolve_dynamics(veh_list, lead_spd, X0,V0,A0)\n",
    "\n",
    "pos, spd, acc = plot_xva(time, X, V, A, y_range=zooms, titles=titles)\n",
    "show(column(pos,spd,acc))"
   ]
  },
  {
   "cell_type": "markdown",
   "metadata": {},
   "source": [
    "**Q6**: Create a list of $50$ vehicles. Set the initial condition of the vehicle such that vehicles are spaced at an average distance of $3*s_x$. Determine this value from the fundamental diagram. Set the initial condition of all vehicles in $25$ [m/s] and set the speed of the leader as the function created in the step *Q4* `my_lead_speed`. Compute the evolution of all vehicles and store the answers in the variables `Xa`,`Va`,`Aa` \n",
    "\n",
    "<span style= \"color:blue\">Provide your answers below:</span>"
   ]
  },
  {
   "cell_type": "code",
   "execution_count": null,
   "metadata": {},
   "outputs": [],
   "source": []
  },
  {
   "cell_type": "markdown",
   "metadata": {},
   "source": [
    "#### Compute Total Travel Time \n",
    "\n",
    "To compute the total travel time we consider the time taken from the position where the leader starts its trip until a specified distance in kilometers `d`. We make use of `pandas` to filter data, the module `datetime` to find the time diference and the method `apply` to compute the values for all vehicles in the network. Examine the code down below for details on this computation. "
   ]
  },
  {
   "cell_type": "code",
   "execution_count": null,
   "metadata": {},
   "outputs": [],
   "source": [
    "import datetime  as dt \n",
    "import pandas as pd \n",
    "\n",
    "# Creation of Pandas dataframe \n",
    "df_x = pd.DataFrame(X)\n",
    "\n",
    "now = dt.datetime(2019,12,17,13,0) # This is to set a special day for synchronous purposes \n",
    "delta = dt.timedelta(seconds=1)\n",
    "time_vector = [now+n*delta for n in range(int(np.max(time)))]\n",
    "df_x.index = time_vector \n",
    "\n",
    "# Compute the total travel time from 0 to Km 8000\n",
    "def find_travel_time(df,max_dist = 8000):\n",
    "    time_entry  = min(df[df>df_x.iloc[0,0]].index) # minimum time after leader entrance \n",
    "    time_exit = max(df[df<max_dist].index) # maximum time before exit\n",
    "    travel_time = time_exit-time_entry\n",
    "    return travel_time.total_seconds()\n",
    "\n",
    "ttt = df_x.apply(find_travel_time)\n",
    "tt_mean,tt_var = np.mean(ttt),np.std(ttt) \n",
    "ttt = sum(ttt)\n",
    "\n",
    "print(f\"Mean Travel time: {tt_mean}, Variance Travel time: {tt_var}, Total Traveltime:{ttt}\")"
   ]
  },
  {
   "cell_type": "markdown",
   "metadata": {},
   "source": [
    "#### Broadcasting messages from infrastructure towards vehicles \n",
    "\n",
    "Up to the moment all vehicle classes have been denominated `HDV` standing for human driven vehicle. Let's say we want to send a message to a vehicle in the formation, we are then interested in broadcasting messages for vehicles, in order to do that we are going to make use of a special vehicle class denominated `CAV` (connected and automated vehicle), those vehicles will correspond to connected vehicles and they will be perceiving messages from the infrastructure. Let's reinitialize the network of vehicles. "
   ]
  },
  {
   "cell_type": "code",
   "execution_count": null,
   "metadata": {},
   "outputs": [],
   "source": [
    "# Initialize the network. Run from here to repeat the dynamic evolution \n",
    "veh_list,X0,V0,A0 = initialize_network()"
   ]
  },
  {
   "cell_type": "markdown",
   "metadata": {},
   "source": [
    "Let suppose that the vehicle with index $10$ is going to be a connected one, then"
   ]
  },
  {
   "cell_type": "code",
   "execution_count": null,
   "metadata": {},
   "outputs": [],
   "source": [
    "# Modify a single vehicle type: \n",
    "veh_list[10].type = \"CAV\"\n",
    "\n",
    "print([veh.type for veh in veh_list])"
   ]
  },
  {
   "cell_type": "markdown",
   "metadata": {},
   "source": [
    "The objective of the message sent to the `CAV` will be to indicate a decrease in speed. Due to the presence of a congestion. We expect to send this message starting from $2000$[m] to the connected vehicles. "
   ]
  },
  {
   "cell_type": "code",
   "execution_count": null,
   "metadata": {},
   "outputs": [],
   "source": [
    "from itstools.connectv2x.messages import Msg2\n",
    "\n",
    "send_message = Msg2\n",
    "d_accept = 2000\n",
    "tx_message = []\n",
    "\n",
    "for veh in veh_list:\n",
    "    tx_message.append(send_message(d_accept))\n",
    "    \n",
    "x_ss = np.linspace(0,8000,10000)\n",
    "    \n",
    "acc_values = np.array(list(map(lambda x: x(x_ss), tx_message)))\n",
    "\n",
    "p = figure(title=\"Transmitted message to CAV\")\n",
    "p.line(x_ss,acc_values[0])\n",
    "p.xaxis.axis_label = \"Position [m]\"\n",
    "p.yaxis.axis_label = \"Speed [m/s]\"\n",
    "show(p)"
   ]
  },
  {
   "cell_type": "markdown",
   "metadata": {},
   "source": [
    "Let's compute the dynamical evolution of the new system with the function `evolve_dynamics_cav`. Note that in general the function has the same behavior as `evolve_dynamics` it only changes by registering the message to the `CAV` "
   ]
  },
  {
   "cell_type": "code",
   "execution_count": null,
   "metadata": {},
   "outputs": [],
   "source": [
    "# Dynamical evalution\n",
    "def evolve_dynamics_cav(veh_list, lead_spd, X0,V0,A0):\n",
    "    X = X0\n",
    "    V = V0\n",
    "    A = A0\n",
    "\n",
    "    send_message = Msg2  # Msg2 # Defines the type of message to be send\n",
    "\n",
    "    d_accept = 2000 # Distance at which the message is transmitted \n",
    "\n",
    "    for t in time:\n",
    "        for veh in veh_list:\n",
    "            if veh.type == \"CAV\" and not veh.acc:\n",
    "                msg = send_message(d_accept)\n",
    "                veh.register_control_speed(msg)\n",
    "\n",
    "            veh.step_evolution(control=lead_spd)\n",
    "\n",
    "        V = np.vstack((V, np.array([veh.v for veh in veh_list])))\n",
    "        X = np.vstack((X, np.array([veh.x for veh in veh_list])))\n",
    "        A = np.vstack((A, np.array([veh.a for veh in veh_list])))\n",
    "\n",
    "    V = V[1:, :]\n",
    "    X = X[1:, :]\n",
    "    A = A[1:, :]\n",
    "    return time, X,V,A \n",
    "\n",
    "time, X_CAV,V_CAV,A_CAV = evolve_dynamics_cav(veh_list,lead_spd, X0,V0,A0)    \n",
    "pos, spd, acc = plot_xva(time, X_CAV, V_CAV, A_CAV, y_range=zooms, titles=titles)\n",
    "show(column(pos,spd,acc))"
   ]
  },
  {
   "cell_type": "markdown",
   "metadata": {},
   "source": [
    "**Q7**: For the case of the `CAV` compute again the *total travel time* and plot the *headway space* in terms of time. How has the messages impacted the traffic? \n",
    "\n",
    "<span style= \"color:blue\">Provide your answers below:</span>"
   ]
  },
  {
   "cell_type": "code",
   "execution_count": null,
   "metadata": {},
   "outputs": [],
   "source": []
  },
  {
   "cell_type": "markdown",
   "metadata": {},
   "source": [
    "**Q8**: Now select the message `my_lead_speed` and a random number of `10` vehicles among the total simulated when obtained `Xa`,`Va`,`Aa`. Apply a similar message like `Msg2` to this case and find the corresponding evolution. Extract the results in matrices `XaCAV`, `VaCAV` and `AaCAV`.\n",
    "\n",
    "<span style= \"color:blue\">Provide your answers below:</span>\n"
   ]
  },
  {
   "cell_type": "code",
   "execution_count": null,
   "metadata": {},
   "outputs": [],
   "source": []
  },
  {
   "cell_type": "markdown",
   "metadata": {},
   "source": [
    "#### Computing emissions and side effects \n",
    "\n",
    "When checking emissions we can refer multiple models, in this case we are going to make use of the model given by [Treiber, 2014](http://traffic-flow-dynamics.org). The function to compute instantaneous $CO_2$ emissions is given by: \n",
    "\n",
    "$$\\dot{CO}_2 =  2.3 \\frac{100000}{C_{\\text{spec}}} \\frac{P(v,\\dot{v})}{v}$$\n",
    "\n",
    "where \n",
    "\n",
    "$$P(v,\\dot{v}) = max(P_0+ v F(v,\\dot{v}),0)$$\n",
    "\n",
    "$$F(v,\\dot{v}) = m\\dot{v} + (\\mu+\\phi)mg + \\frac{1}{2}\\rho c_d A v^2$$\n",
    "\n",
    "Some of these parameters are: \n",
    "\n",
    "| Parameter     | Value     | Units |\n",
    ":--------------:|:---------:|:------:\n",
    "$$m$$           | 1500      | [kg]\n",
    "$$P_0$$         | 3         | [kW]\n",
    "$$C_{\\text{spec}}$$| 300    | [ml/kWh]\n",
    "$$\\rho$$        | 1.3       | [kg/m$^3$]\n",
    "$$\\mu$$         | 0.02      | [veh/km]\n",
    "$$c_d$$         | 0.3       | \n",
    "$$A$$           | 2         | [m$^2$]\n",
    "\n",
    "$\\dot{v}$ denote the vehicle acceleration and $v$ denote the vehicle speed"
   ]
  },
  {
   "cell_type": "markdown",
   "metadata": {},
   "source": [
    "**Q9**: Design a function that accepts the matrices `V` and `A` and returns the emissions of each vehicle in time. Compute the cumulated emissions in time for all vehicles and compare to the case of `V_CAV`,  `A_CAV`. \n",
    "\n",
    "<span style= \"color:blue\">Provide your answers below:</span>\n"
   ]
  },
  {
   "cell_type": "code",
   "execution_count": null,
   "metadata": {},
   "outputs": [],
   "source": []
  },
  {
   "cell_type": "markdown",
   "metadata": {},
   "source": [
    "## Project 02\n",
    "\n",
    "* One of the main concerns when speaking about `V2V` technologies is related to the messages sent from the infrastructure towards the vehicle in this case we have considered a jump in speed from $25$[m/s] to $18$[m/s]. Study the case where the jump is less abrupt e.g $25-22$ and extract the trajectories and speeds. For the case where there are only two connected vehicles. \n",
    "* Consider applying this messages to up to 5 vehicles out of 20 in the network at positions $500$[m], $1000$[m], $1500$[m], $2000$[m] and $2500[m]$. Extract the trajectory profiles for this case. Compare two cases when the speed drop have the following characteristics. Situation A: $25$[m/s] to $18$[m/s]. Situation B: $25$[m/s] to $22$[m/s]\n",
    "* Study the behavior of the average `headway space` when both situations and provide conclusions on how V2I messaging could impact the performance of the network, take into account both situations A and B applied.  \n",
    "* What is the impact in terms of `total travel time` when the number of vehicles affected by the policy augment?\n",
    "* Determine the net effect on estimated `CO_2` emissions due to the aplication of both policies. Situation A and Situation B. \n",
    "* For which case in terms of distance at which the message is received the behavior of the system performs better?"
   ]
  },
  {
   "cell_type": "markdown",
   "metadata": {
    "papermill": {
     "duration": 0.014573,
     "end_time": "2019-11-26T15:02:00.616508",
     "exception": false,
     "start_time": "2019-11-26T15:02:00.601935",
     "status": "completed"
    },
    "tags": []
   },
   "source": [
    "A. Ladino"
   ]
  }
 ],
 "metadata": {
  "celltoolbar": "Tags",
  "file_extension": ".py",
  "kernelspec": {
   "display_name": "ITS Tools",
   "language": "python",
   "name": "itstools"
  },
  "language_info": {
   "codemirror_mode": {
    "name": "ipython",
    "version": 3
   },
   "file_extension": ".py",
   "mimetype": "text/x-python",
   "name": "python",
   "nbconvert_exporter": "python",
   "pygments_lexer": "ipython3",
   "version": "3.8.5"
  },
  "mimetype": "text/x-python",
  "name": "python",
  "npconvert_exporter": "python",
  "papermill": {
   "duration": 25.858946,
   "end_time": "2019-11-26T15:02:01.261550",
   "environment_variables": {},
   "exception": null,
   "input_path": "general.ipynb",
   "output_path": "general.ipynb",
   "parameters": {
    "MIN_DIST": 10000,
    "MPR": 0.4,
    "Q_PERC": 1
   },
   "start_time": "2019-11-26T15:01:35.402604",
   "version": "1.2.0"
  },
  "pygments_lexer": "ipython3",
  "version": 3
 },
 "nbformat": 4,
 "nbformat_minor": 4
}
