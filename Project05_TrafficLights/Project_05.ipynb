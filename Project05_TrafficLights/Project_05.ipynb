{
 "cells": [
  {
   "cell_type": "markdown",
   "metadata": {},
   "source": [
    "# Project Description \n",
    "\n",
    "## Designing control policies for traffic lights\n",
    "\n",
    "The main objective of this project is to understand the way traffic lights can be controlled to provide improvements in the performance of a traffic network. \n",
    "\n",
    "<img src=\"assets/img/traffic-light.png\" alt=\"drawing\" width=\"600\"/>\n",
    "\n",
    "In order to do that we are going to make use of the package `macrotrasim` that includes some network traffic modeling to model macroscopic traffic networks. This models include the deployment of hybrid switching traffic lights via the switched cell transmission model s-CTM , and a relaxed version considered as the average cell transmition model Avg-CTM. For more information about the source code of this package please go [here](https://github.com/research-licit/itstools/tree/main/itstools) .Over there you will find a folder called `macrotrasim` containing all the models in the submodules `lights`, `manhattan`, `traffic` etc. Some of these will be explored along the module and may help you to progress faster in the project.   "
   ]
  },
  {
   "cell_type": "code",
   "execution_count": null,
   "metadata": {},
   "outputs": [],
   "source": [
    "# Try this on google collab only\n",
    "# !pip install -r https://raw.githubusercontent.com/research-licit/ITSProjects/main/requirements.txt"
   ]
  },
  {
   "cell_type": "markdown",
   "metadata": {
    "papermill": {
     "duration": 0.013152,
     "end_time": "2019-11-26T15:01:36.194135",
     "exception": false,
     "start_time": "2019-11-26T15:01:36.180983",
     "status": "completed"
    },
    "tags": []
   },
   "source": [
    "## Contents and structure \n",
    "\n",
    "* Exploration and modeling of a traffic network \n",
    "* Creating a Manhattan network\n",
    "* Comparing the evolution of the average and switched models\n",
    "* Extracting data information from simulations\n",
    "* Computing indicators \n",
    "\n",
    "Let's begin by importing some plotting libraries that will help us with data visualization"
   ]
  },
  {
   "cell_type": "code",
   "execution_count": null,
   "metadata": {},
   "outputs": [],
   "source": [
    "from bokeh.plotting import show\n",
    "from bokeh.io import output_notebook\n",
    "output_notebook()"
   ]
  }
 ],
 "metadata": {
  "kernelspec": {
   "display_name": "ITS Tools",
   "language": "python",
   "name": "itstools"
  },
  "language_info": {
   "codemirror_mode": {
    "name": "ipython",
    "version": 3
   },
   "file_extension": ".py",
   "mimetype": "text/x-python",
   "name": "python",
   "nbconvert_exporter": "python",
   "pygments_lexer": "ipython3",
   "version": "3.8.5"
  }
 },
 "nbformat": 4,
 "nbformat_minor": 4
}
