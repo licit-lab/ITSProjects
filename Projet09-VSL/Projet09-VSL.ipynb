{
 "cells": [
  {
   "cell_type": "markdown",
   "id": "4aca4202",
   "metadata": {},
   "source": [
    "# TP ITS : Implémentation d'un système de régulation dynamique de vitesses basé sur les véhicules connectés"
   ]
  },
  {
   "cell_type": "markdown",
   "id": "d1c990b7",
   "metadata": {},
   "source": [
    "## Partie 1 : Implémentation d'un système de régulation dynamique des vitesses "
   ]
  },
  {
   "cell_type": "markdown",
   "id": "e9a68f8a",
   "metadata": {},
   "source": [
    "La première partie du TP a pour objectif:\n",
    "- Prendre en main les outils SUMO/Traci \n",
    "- Trouver le couple distance/temps d'activation de la limitation de vitesse optimum pour le cas étudié.\n",
    "    \n",
    "On travaille à taux de pénétration constant et égal à 100% (tous les véhicules sont connectés).\n",
    "On travaille sur une unique simulation (seed = str(30)).\n",
    "La vitesse limite à appliquer est pré-déterminée (80 km/h)."
   ]
  },
  {
   "cell_type": "markdown",
   "id": "b69d1771",
   "metadata": {},
   "source": [
    "### 1.1 Prise en main de l'outil de simulation SUMO et du module TRACI "
   ]
  },
  {
   "cell_type": "markdown",
   "id": "f80b37f1",
   "metadata": {},
   "source": [
    "#### 1.1.1 Analyse de la situation de référence "
   ]
  },
  {
   "cell_type": "markdown",
   "id": "b160880c",
   "metadata": {},
   "source": [
    "Commencez par lancer la simulation SUMO à l'aide du script python pour observer la situation et récupérer les fichiers de sortie.\n",
    "\n",
    "Note : Vous pouvez activer l'option de SUMO-GUI où la couleur des véhicules dépend de leur vitesse pour avoir un premier aperçu de la situation."
   ]
  },
  {
   "cell_type": "markdown",
   "id": "a6fbcfd7",
   "metadata": {},
   "source": [
    "QUESTION 0 : Faire tourner le fichier notebook Outils_analyses.ipynb"
   ]
  },
  {
   "cell_type": "markdown",
   "id": "cf10974f",
   "metadata": {},
   "source": [
    "QUESTION 1 : Caractériser la situation de référence à l'aide des outils à disposition et des indicateurs de traffic choisis."
   ]
  },
  {
   "cell_type": "markdown",
   "id": "0a35298e",
   "metadata": {},
   "source": [
    "1.1 Après avoir établi la propagation spatiale et temporelle de la congestion, caractériser l'efficacité du réseau avec un (ou des) indicateurs(s) de votre choix (Temps Total Passé par tous les véhicules sur le réseau, vitesse moyenne, etc)."
   ]
  },
  {
   "cell_type": "code",
   "execution_count": null,
   "id": "1b5322f1",
   "metadata": {},
   "outputs": [],
   "source": [
    "### Réponse 1.1 : codes, graphes et analyses attendus"
   ]
  },
  {
   "cell_type": "markdown",
   "id": "5fd52127",
   "metadata": {},
   "source": [
    "1.2 Caractériser la situation de référence du réseau à travers une dimension environnementale à l'aide des indicateurs de votre choix (emissions CO2, Nox, etc)."
   ]
  },
  {
   "cell_type": "code",
   "execution_count": null,
   "id": "78ae52ec",
   "metadata": {},
   "outputs": [],
   "source": [
    "### Réponse 1.2 : codes, graphes et analyses attendus"
   ]
  },
  {
   "cell_type": "markdown",
   "id": "01bf5c85",
   "metadata": {},
   "source": [
    "1.3 Caractériser le réseau en termes de sécurité à l'aide d'un indicateur de votre choix (homogénisation des vitesses, facteur d'accélération/décélération des véhicules)."
   ]
  },
  {
   "cell_type": "code",
   "execution_count": null,
   "id": "0189bb2a",
   "metadata": {},
   "outputs": [],
   "source": [
    "### Réponse 1.3: codes, graphes et analyses attendus"
   ]
  },
  {
   "cell_type": "markdown",
   "id": "ca0de5f4",
   "metadata": {},
   "source": [
    "#### 1.1.2 Construction d'un scénario VSL en s'appuyant sur la situation de référence"
   ]
  },
  {
   "cell_type": "markdown",
   "id": "845e789d",
   "metadata": {},
   "source": [
    "Avec le module TRAffic Control Interface (TRACI), il est possible d'accéder à une simulation en cours pour récupérer des données et contrôler le comportement des objets simulés grâce à un script python. \n"
   ]
  },
  {
   "cell_type": "markdown",
   "id": "0741f752",
   "metadata": {},
   "source": [
    "Après avoir décommenté la partie \"Système VSL\" du script python, lancez le script depuis votre terminal et observez ce qu'il se passe."
   ]
  },
  {
   "cell_type": "markdown",
   "id": "37fc96ab",
   "metadata": {},
   "source": [
    "Note : Il est conseillé de conserver les fichiers des précédentes simulations et notamment ceux associés à la situation de référence. Vous pouvez ainsi créer une fichier du script python appelée TP_ITS_ref.py avant de le modifier, ou encore renommer le dossier Stats en Stats_ref."
   ]
  },
  {
   "cell_type": "markdown",
   "id": "709ebe85",
   "metadata": {},
   "source": [
    "### 1.2 Implémentation du système de régulation dynamique "
   ]
  },
  {
   "cell_type": "markdown",
   "id": "a3eace57",
   "metadata": {},
   "source": [
    "On cherche la solution optimum d'application de la limitation de vitesse c'est à dire le couple distance/temps qui réduit la congestion le plus efficacement et/ou maximise les indicateurs de trafic choisis. \n",
    "\n",
    "La vitesse limite à imposer aux véhicules est 80 km/h."
   ]
  },
  {
   "cell_type": "markdown",
   "id": "9e6f21a7",
   "metadata": {},
   "source": [
    "QUESTION 2 : Déterminer la distance et le temps d'application de la limitation de vitesse permettant une situation optimum, en utilisant les outils à disposition et en justifiant avec les indicateurs de traffic choisis dans la partie précédente.\n",
    "\n",
    "Note : Il est attendu une comparaison avec la situation de référence mais aussi entre plusieurs couples de solution pour justifier votre choix."
   ]
  },
  {
   "cell_type": "markdown",
   "id": "85b7cf2d",
   "metadata": {},
   "source": [
    "QUESTION 2.1 : Déterminer la solution optimale (distance et temps d'application de la limitation de vitesses) en termes d'efficacité du réseau. "
   ]
  },
  {
   "cell_type": "code",
   "execution_count": null,
   "id": "b7884b3a",
   "metadata": {},
   "outputs": [],
   "source": [
    "### Réponse 2.1: codes, graphes et analyses attendus"
   ]
  },
  {
   "cell_type": "markdown",
   "id": "5724adb3",
   "metadata": {},
   "source": [
    "QUESTION 2.2: Déterminer la solution optimale en termes environnementaux."
   ]
  },
  {
   "cell_type": "code",
   "execution_count": null,
   "id": "56b9bb53",
   "metadata": {},
   "outputs": [],
   "source": [
    "### Réponse 2.2: codes, graphes et analyses attendus"
   ]
  },
  {
   "cell_type": "markdown",
   "id": "370fd0b8",
   "metadata": {},
   "source": [
    "QUESTION 2.3: Déterminer la solution optimale en termes de sécurité sur le réseau. "
   ]
  },
  {
   "cell_type": "code",
   "execution_count": null,
   "id": "8e71866b",
   "metadata": {},
   "outputs": [],
   "source": [
    "### Réponse 2.3: codes, graphes et analyses attendus"
   ]
  },
  {
   "cell_type": "markdown",
   "id": "b7ca8f72",
   "metadata": {},
   "source": [
    "Bilan: Faites un bilan de vos réponses et justifier le choix de votre solution optimale"
   ]
  },
  {
   "cell_type": "code",
   "execution_count": null,
   "id": "c32c1e32",
   "metadata": {},
   "outputs": [],
   "source": [
    "### Réponse bilan: justification libre"
   ]
  },
  {
   "cell_type": "markdown",
   "id": "a244bd7b",
   "metadata": {},
   "source": [
    "## Partie 2 : Etudier l'impact du taux de pénétration et du choix des véhicules limités sur l'efficacité du système de contrôle"
   ]
  },
  {
   "cell_type": "markdown",
   "id": "b74da3db",
   "metadata": {},
   "source": [
    "On travaillait sur un réseau entièrement connecté (taux de pénétration =100%) c'est à dire que tous les véhicules compris dans la zone de limitation de vitesse durant le temps de contrôle recevait la consigne de limitation de vitesse. \n",
    "Désormais, le traffic est mixte et on a également des véhicules non connectés. "
   ]
  },
  {
   "cell_type": "markdown",
   "id": "cff4875d",
   "metadata": {},
   "source": [
    "### 2.1 Impact du taux de pénétration sur l'efficacité du système de régulation dynamique des vitesses "
   ]
  },
  {
   "cell_type": "markdown",
   "id": "cc6e252e",
   "metadata": {},
   "source": [
    "A l'aide des différents fichiers de demande, faites varier le taux de pénétration:\n",
    "-100% réseau entièrement connecté (situation précédente de contrôle) (fichier demand100.rou)\n",
    "-75 (fichier demand75.rou)\n",
    "-50% (demand50.rou)\n",
    "-30%\n",
    "-10%\n",
    "-0% : situation de référence sans contrôle)\n",
    "\n",
    "Note : Le fichier de simulation appelle le fichier de demande appelé demand.rou, vous devez donc renommer le fichier de demande que vous voulez utiliser avec ce nom. Quelle que soit votre technique faites attention à bien conserver les différents fichiers de demande, par exemple veillez à bien copier le fichier de demande que vous voulez utiliser puis renommer cette copie en demand.rou."
   ]
  },
  {
   "cell_type": "markdown",
   "id": "61a74fae",
   "metadata": {},
   "source": [
    "QUESTION 3 : Quel est l'impact du taux de pénétration sur l'efficacité du système de contrôle? Justifier avec les indicateurs utilisés précédemment."
   ]
  },
  {
   "cell_type": "code",
   "execution_count": null,
   "id": "9c6437f6",
   "metadata": {},
   "outputs": [],
   "source": [
    "### Réponse 3: codes, graphes et analyses attendus pour les 3 dimensions (efficacité, sécurité et environnementale)"
   ]
  },
  {
   "cell_type": "markdown",
   "id": "a5d555a2",
   "metadata": {},
   "source": [
    "### 2.2 Choix des véhicules connectés à qui appliquer la limitation de vitesse "
   ]
  },
  {
   "cell_type": "markdown",
   "id": "638c7c52",
   "metadata": {},
   "source": [
    "On cherche à avoir un système VSL performant même avec un faible taux de pénétration en choisissant les meilleurs VC à limiter.\n",
    "\n",
    "Ici, l'idée est de choisisr deux véhicules connectés le plus côte à côte possible à limiter pour obliger les véhicules derrières à également appliquer la limitation.\n",
    "\n",
    "Décommentez la partie où on choisit deux véhicules le plus côte-à-côte possible et appliquez la distance et le temps que vous avez trouvé à la partie 1.\n",
    "\n",
    "Faites ensuite varier le taux de pénétration (à l'aide des différents fichiers de demandes) et regardez son impact sur cette stratégie. "
   ]
  },
  {
   "cell_type": "markdown",
   "id": "4856305a",
   "metadata": {},
   "source": [
    "QUESTION 4 : Quelle est l'efficacité d'un tel système (par rapport au système où on applique la limitation à tous les véhicules connectés) à taux de pénétration égal à 100%? \n",
    "\n",
    "Quel est alors l'impact du taux de pénétration sur l'efficacité de ce système de contrôle? "
   ]
  },
  {
   "cell_type": "code",
   "execution_count": null,
   "id": "0f529d3c",
   "metadata": {},
   "outputs": [],
   "source": [
    "### Réponse 4: codes, graphes et analyses attendus"
   ]
  },
  {
   "cell_type": "markdown",
   "id": "32d69116",
   "metadata": {},
   "source": [
    "La stratégie proposée ici dans le script python est une ébauche. Le but est donc ici d'améliorer cette dernière pour la rendre la plus efficace possible même à faible taux de pénétration. \n",
    "\n",
    "En effet, à faible taux de pénétration il sera probablement nécessaire d'élaborer une autre et meilleure stratégie pour choisir les deux véhicules côte à côte voir même de les rapprocher. Ou encore, il pourrait être pertinent de ne plus choisir seulement deux véhicules côte à côte  mais un petit groupe de véhicules proches. "
   ]
  },
  {
   "cell_type": "markdown",
   "id": "1c75d6af",
   "metadata": {},
   "source": [
    "QUESTION 5 : Proposer une nouvelle stratégie de régulation choisissant les véhicules connectés les plus pertinent possibles à limiter pour appliquer le contôle le plus efficacement possible même à faible taux de pénétration. "
   ]
  },
  {
   "cell_type": "code",
   "execution_count": null,
   "id": "56ff3973",
   "metadata": {},
   "outputs": [],
   "source": [
    "### Réponse 5: codes, graphes et analyses attendus "
   ]
  },
 
 ],
 "metadata": {
  "kernelspec": {
   "display_name": "Python 3 (ipykernel)",
   "language": "python",
   "name": "python3"
  },
  "language_info": {
   "codemirror_mode": {
    "name": "ipython",
    "version": 3
   },
   "file_extension": ".py",
   "mimetype": "text/x-python",
   "name": "python",
   "nbconvert_exporter": "python",
   "pygments_lexer": "ipython3",
   "version": "3.9.7"
  }
 },
 "nbformat": 4,
 "nbformat_minor": 5
}
