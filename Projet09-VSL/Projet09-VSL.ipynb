{
 "cells": [
  {
   "cell_type": "markdown",
   "id": "c4d5a4f0",
   "metadata": {},
   "source": [
    "# TP ITS : Implémentation d'un système de régulation dynamique de vitesses basé sur les véhicules connectés"
   ]
  },
  {
   "cell_type": "markdown",
   "id": "049d773d",
   "metadata": {},
   "source": [
    "Les systèmes de régulation dynamiques consistent à: \n",
    "- détecter dynamiquement une zone de congestion sur une voie rapide \n",
    "- donner une consigne de limitation de vitesse en amont de cette zone. \n",
    "\n",
    "Le but est ainsi de limiter le flux arrivant sur la zone de congestion pour limiter sa propagation voir même la dissiper.\n",
    "\n",
    "Le système détermine donc à partir de quelle distance et pour combien de temps il est nécessaire que les véhicules appliquent la limitation de vitesse pour que lorsqu'ils arrivent au niveau de l'embouiteillage celui-ci soit dissipé. \n"
   ]
  },
  {
   "cell_type": "markdown",
   "id": "bb90c209",
   "metadata": {},
   "source": [
    "## Partie 1 : Implémentation d'un système de régulation dynamique des vitesses "
   ]
  },
  {
   "cell_type": "markdown",
   "id": "3085a029",
   "metadata": {},
   "source": [
    "La première partie du TP a pour objectif:\n",
    "- Prendre en main les outils SUMO/Traci \n",
    "- Trouver la distance et le temps d'activation de la limitation de vitesse optimum pour le cas étudié.\n",
    "    \n",
    "On travaille à taux de pénétration constant et égal à 100% (tous les véhicules sont connectés).\n",
    "On travaille sur une unique seed.\n",
    "La vitesse seuil et la vitesse limite sont pré-déterminées."
   ]
  },
  {
   "cell_type": "markdown",
   "id": "87f7c980",
   "metadata": {},
   "source": [
    "### Prise en main de l'outil de simulation SUMO et du module TRACI "
   ]
  },
  {
   "cell_type": "markdown",
   "id": "93c2b287",
   "metadata": {},
   "source": [
    "#### Analyse de la situation de référence "
   ]
  },
  {
   "cell_type": "raw",
   "id": "b8b4de0d",
   "metadata": {},
   "source": [
    "Commencez par lancer la simulation SUMO depuis SUMO-GUI en activant l'option où la couleur des véhicules est déterminée en fonction de leur vitesse. Observez la situation et récupérez les fichiers de sortie."
   ]
  },
  {
   "cell_type": "raw",
   "id": "2503f6d7",
   "metadata": {},
   "source": [
    "QUESTION 1 : Caractériser la situation de référence à l'aide des outils à disposition et des indicateurs de traffic choisis (propagation spatiale et temporelle de la congestion, Temps Total Passé par les véhicules sur le réseau, émissions, etc) (cf fichier Hugues et librairie plotly)"
   ]
  },
  {
   "cell_type": "raw",
   "id": "e0418725",
   "metadata": {},
   "source": [
    "REPONSE (codes et textes)"
   ]
  },
  {
   "cell_type": "markdown",
   "id": "d3e7a9e4",
   "metadata": {},
   "source": [
    "#### Modification de la situation de référence"
   ]
  },
  {
   "cell_type": "raw",
   "id": "95ca4af7",
   "metadata": {},
   "source": [
    "Avec le module TRAffic Control Interface (TRACI), il est possible d'accéder à une simulation en cours pour récupérer des données et contrôler le comportement des objets simulés grâce à un script python. \n"
   ]
  },
  {
   "cell_type": "raw",
   "id": "0ef0140e",
   "metadata": {},
   "source": [
    "Après avoir décommenté la partie \"Système VSL\" du script python, lancez le script depuis votre terminal et observez ce qu'il se passe."
   ]
  },
  {
   "cell_type": "markdown",
   "id": "a3ba706f",
   "metadata": {},
   "source": [
    "### Implémentation du système de régulation dynamique "
   ]
  },
  {
   "cell_type": "raw",
   "id": "53c9a191",
   "metadata": {},
   "source": [
    "On cherche la solution optimum d'application de la limitation de vitesse c'est à dire le couple distance/temps qui réduit la congestion le plus efficacement et/ou maximise les indicateurs de trafic choisis. \n",
    "\n",
    "La vitesse limite à imposer aux véhicules est : ... km/h."
   ]
  },
  {
   "cell_type": "raw",
   "id": "2ab5e093",
   "metadata": {},
   "source": [
    "QUESTION 2 : Déterminer la distance et le temps d'application de la limitation de vitesse permettant une situation optimum, en utilisant les outils à disposition et en justifiant avec les indicateurs de traffic). "
   ]
  },
  {
   "cell_type": "raw",
   "id": "230543a7",
   "metadata": {},
   "source": [
    "REPONSE : (code, texte, graphes)"
   ]
  },
  {
   "cell_type": "markdown",
   "id": "9d0ffff9",
   "metadata": {},
   "source": [
    "## Partie 2 : Etudier l'impact du taux de pénétration et la répartition des véhicules sur l'efficacité du système de contrôle"
   ]
  },
  {
   "cell_type": "markdown",
   "id": "037ce823",
   "metadata": {},
   "source": [
    "On travaillait sur un réseau entièrement connecté (taux de pénétration =100%) c'est à dire que tous les véhicules compris dans la zone de limitation de vitesse surant le temps de contrôle recevait la consigne de limitation de vitesse. \n",
    "\n",
    "Désormais, le traffic est mixte et on a également des véhicules non connectés. \n",
    "\n",
    "A l'aide du fichier de demande, faites varier le taux de pénétration.\n",
    "\n",
    "Il est également possible de choisir les véhicules qui recevront le message (par voie, par groupe)."
   ]
  },
  {
   "cell_type": "raw",
   "id": "f9de98f9",
   "metadata": {},
   "source": [
    "QUESTION 3 : Quel est l'impact du taux de pénétration sur l'efficacité du système de contrôle? Et/ou de la répartition des véhicules?"
   ]
  },
  {
   "cell_type": "markdown",
   "id": "0cda2de0",
   "metadata": {},
   "source": [
    "## Partie 2 : Etudier l'impact du taux de pénétration et la répartition des véhicules sur l'efficacité du système de contrôle¶"
   ]
  },
  {
   "cell_type": "raw",
   "id": "2a55beb7",
   "metadata": {},
   "source": [
    "On travaillait sur un réseau entièrement connecté (taux de pénétration =100%) c'est à dire que tous les véhicules compris dans la zone de limitation de vitesse surant le temps de contrôle recevait la consigne de limitation de vitesse. \n",
    "\n",
    "Désormais, le traffic est mixte et on a également des véhicules non connectés. \n",
    "\n",
    "A l'aide du fichier de demande, faites varier le taux de pénétration.\n",
    "\n",
    "Il est également possible de combiner différents types de message pour une stratégie de contrôle plus efficace. On peut par exemple mettre deux VC de front sur les deux voies pour obliger les véhicules derrière à appliquer la limitation de vitesse."
   ]
  },
  {
   "cell_type": "raw",
   "id": "cc0458e9",
   "metadata": {},
   "source": [
    "QUESTION 3 : Quel est l'impact du taux de pénétration sur l'efficacité du système de contrôle? QUelle(s) stratégie(s) peut-on combiner au système de régulation dynamique de vitesse pour un système de contrôle optimum?"
   ]
  }
 ],
 "metadata": {
  "kernelspec": {
   "display_name": "Python 3 (ipykernel)",
   "language": "python",
   "name": "python3"
  },
  "language_info": {
   "codemirror_mode": {
    "name": "ipython",
    "version": 3
   },
   "file_extension": ".py",
   "mimetype": "text/x-python",
   "name": "python",
   "nbconvert_exporter": "python",
   "pygments_lexer": "ipython3",
   "version": "3.8.8"
  }
 },
 "nbformat": 4,
 "nbformat_minor": 5
}
