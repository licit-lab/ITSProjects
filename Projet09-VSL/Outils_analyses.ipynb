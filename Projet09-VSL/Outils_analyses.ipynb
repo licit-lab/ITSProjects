{
 "cells": [
  {
   "cell_type": "markdown",
   "id": "0574c50f",
   "metadata": {},
   "source": [
    "# Outil pour analyse des fichiers de sortie"
   ]
  },
  {
   "cell_type": "code",
   "execution_count": null,
   "id": "e78a6f1d",
   "metadata": {},
   "outputs": [],
   "source": [
    "import pandas as pd\n",
    "import plotly.express as px\n",
    "import plotly.graph_objects as go\n",
    "import numpy as np"
   ]
  },
  {
   "cell_type": "markdown",
   "id": "0681bcfb",
   "metadata": {},
   "source": [
    "## 0. Format du fichier"
   ]
  },
  {
   "cell_type": "markdown",
   "id": "47ee04bd",
   "metadata": {},
   "source": [
    "### 0.1 Visulation des données"
   ]
  },
  {
   "cell_type": "code",
   "execution_count": null,
   "id": "f11fecde",
   "metadata": {},
   "outputs": [],
   "source": [
    "trip_info_analyses_0 = pd.read_xml(\"C:/Users/eleon/OneDrive - entpe.fr/Documents/these/ITS/ITS/ITS/Projet_09_VSL/stats/tripinfo.xml\")\n"
   ]
  },
  {
   "cell_type": "code",
   "execution_count": null,
   "id": "6063fc73",
   "metadata": {},
   "outputs": [],
   "source": [
    "trip_info_analyses_0.head()"
   ]
  },
  {
   "cell_type": "code",
   "execution_count": null,
   "id": "7bb23a0b",
   "metadata": {},
   "outputs": [],
   "source": [
    "print(trip_info_analyses_0.columns)"
   ]
  },
  {
   "cell_type": "code",
   "execution_count": null,
   "id": "579e694a",
   "metadata": {
    "scrolled": true
   },
   "outputs": [],
   "source": [
    "trip_info_analyses_0.duration.describe()"
   ]
  },
  {
   "cell_type": "code",
   "execution_count": null,
   "id": "48c62cb7",
   "metadata": {},
   "outputs": [],
   "source": [
    "trip_info_analyses_0.vType"
   ]
  },
  {
   "cell_type": "markdown",
   "id": "d36342cc",
   "metadata": {},
   "source": [
    "### 0.2 Tri des données"
   ]
  },
  {
   "cell_type": "code",
   "execution_count": null,
   "id": "ef1fc073",
   "metadata": {},
   "outputs": [],
   "source": [
    "trip_info_tri = trip_info_analyses_0[trip_info_analyses_0.depart > 300]\n",
    "number_rows = len(trip_info_analyses_0.index)\n",
    "print(number_rows)\n",
    "number_rows_tri = len(trip_info_tri.index)\n",
    "print(number_rows_tri)"
   ]
  },
  {
   "cell_type": "code",
   "execution_count": null,
   "id": "5ebd26db",
   "metadata": {},
   "outputs": [],
   "source": [
    "trip_info_tri_2 = trip_info_tri[trip_info_tri.vType != \"autre\"]\n",
    "print(len(trip_info_tri_2.index))"
   ]
  },
  {
   "cell_type": "code",
   "execution_count": null,
   "id": "029aceb6",
   "metadata": {},
   "outputs": [],
   "source": [
    "trip_info_tri_2.duration.describe()"
   ]
  },
  {
   "cell_type": "code",
   "execution_count": null,
   "id": "b7e785e8",
   "metadata": {},
   "outputs": [],
   "source": [
    "def tri_colonne(path):\n",
    "    trip_info = pd.read_xml(path)\n",
    "    trip_info_tri = trip_info[trip_info.depart > 300]\n",
    "    trip_info_tri_2 = trip_info_tri[trip_info_tri.vType != \"autre\"]\n",
    "    return trip_info_tri_2\n",
    "    "
   ]
  },
  {
   "cell_type": "code",
   "execution_count": null,
   "id": "3179220f",
   "metadata": {},
   "outputs": [],
   "source": [
    "path = \"C:/Users/eleon/OneDrive - entpe.fr/Documents/these/ITS/ITS/ITS/Projet_09_VSL/stats/tripinfo.xml\"\n",
    "trip_info_0 = tri_colonne(path)"
   ]
  },
  {
   "cell_type": "markdown",
   "id": "e291294d",
   "metadata": {},
   "source": [
    "## 1. Exemples d'indicateurs et d'outils pour observer l'efficacité du réseau"
   ]
  },
  {
   "cell_type": "markdown",
   "id": "1ce4a4c6",
   "metadata": {},
   "source": [
    "### 1.1 Indicateur: temps de parcours"
   ]
  },
  {
   "cell_type": "code",
   "execution_count": null,
   "id": "9fde2def",
   "metadata": {
    "scrolled": true
   },
   "outputs": [],
   "source": [
    "### box plot\n",
    "\n",
    "fig = go.Figure()\n",
    "fig.add_trace(go.Box(y=trip_info_0[\"duration\"], name = \"Baseline\"))\n",
    "fig.show()"
   ]
  },
  {
   "cell_type": "code",
   "execution_count": null,
   "id": "62fb569f",
   "metadata": {},
   "outputs": [],
   "source": [
    "fig = go.Figure()\n",
    "fig.add_trace(go.Box(y=trip_info_0[\"duration\"], name = \"Baseline\"))\n",
    "fig.show()"
   ]
  },
  {
   "cell_type": "code",
   "execution_count": null,
   "id": "3d3947c2",
   "metadata": {},
   "outputs": [],
   "source": [
    "### histogramme\n",
    "\n",
    "fig = go.Figure()\n",
    "fig.add_trace(go.Histogram(x=trip_info_0[\"duration\"], name = \"Baseline\"))\n",
    "fig.update_layout(barmode = \"overlay\")\n",
    "fig.update_traces(opacity = 0.5)\n",
    "fig.show()"
   ]
  },
  {
   "cell_type": "code",
   "execution_count": null,
   "id": "83474a22",
   "metadata": {},
   "outputs": [],
   "source": [
    "fig = go.Figure()\n",
    "fig.add_trace(go.Histogram(y=trip_info_0[\"duration\"], name = \"Baseline\"))\n",
    "fig.update_layout(barmode = \"overlay\")\n",
    "fig.update_traces(opacity = 0.5)\n",
    "fig.show()"
   ]
  },
  {
   "cell_type": "code",
   "execution_count": null,
   "id": "d22d89b8",
   "metadata": {},
   "outputs": [],
   "source": [
    "print(trip_info_0.duration.describe())"
   ]
  },
  {
   "cell_type": "code",
   "execution_count": null,
   "id": "705f1bb3",
   "metadata": {},
   "outputs": [],
   "source": [
    "print('Total Time Spent (h)', trip_info_0[\"duration\"].sum()/3600)\n"
   ]
  },
  {
   "cell_type": "code",
   "execution_count": null,
   "id": "7ad9ae4c",
   "metadata": {},
   "outputs": [],
   "source": [
    "ar = np.array([[trip_info_0[\"duration\"].sum()/3600]])\n",
    "df = pd.DataFrame(ar, index = ['Baseline'], columns = ['Total Time Spent '])\n",
    "print(df)   "
   ]
  },
  {
   "cell_type": "markdown",
   "id": "9b7cf8a4",
   "metadata": {},
   "source": [
    "### 1.2 Indicateur: vitesse moyenne"
   ]
  },
  {
   "cell_type": "code",
   "execution_count": null,
   "id": "5bbf798a",
   "metadata": {},
   "outputs": [],
   "source": [
    "path_traj = \"C:/Users/eleon/OneDrive - entpe.fr/Documents/these/ITS/ITS/ITS/Projet_09_VSL/stats/trajectoriesStats.xml\"\n",
    "traj_analyses_0 = pd.read_xml(path_traj)\n",
    "traj_analyses_0.head()\n",
    "## nécessaire de convertir xml en csv"
   ]
  },
  {
   "cell_type": "code",
   "execution_count": null,
   "id": "0b7ca02d",
   "metadata": {},
   "outputs": [],
   "source": [
    "path_fcd_csv = \"C:/Users/eleon/OneDrive - entpe.fr/Documents/these/ITS/ITS/ITS/Projet_09_VSL/stats/fcdStats.csv\"\n",
    "fcd_analyses_0 = pd.read_csv(path_fcd_csv, sep = ';')\n",
    "fcd_analyses_0.head()"
   ]
  },
  {
   "cell_type": "code",
   "execution_count": null,
   "id": "e67d0729",
   "metadata": {},
   "outputs": [],
   "source": [
    "print(fcd_analyses_0.columns)"
   ]
  },
  {
   "cell_type": "code",
   "execution_count": null,
   "id": "ccc8eaa2",
   "metadata": {},
   "outputs": [],
   "source": [
    "fcd_0_tri = fcd_analyses_0[fcd_analyses_0.timestep_time > 300]\n",
    "number_rows = len(fcd_analyses_0.index)\n",
    "print(number_rows)\n",
    "number_rows_tri = len(fcd_0_tri.index)\n",
    "print(number_rows_tri)\n",
    "\n",
    "fcd_0_tri_2 = fcd_0_tri[fcd_0_tri.vehicle_type != \"autre\"]\n",
    "print(len(fcd_0_tri_2.index))"
   ]
  },
  {
   "cell_type": "code",
   "execution_count": null,
   "id": "689c2afe",
   "metadata": {},
   "outputs": [],
   "source": [
    "## Groupe les vehicles dans le même pas de temps et fait la moyenne\n",
    "fcd_0 = fcd_0_tri_2.groupby('timestep_time',as_index=False)\n",
    "fcd_mean_0=fcd_0.mean()"
   ]
  },
  {
   "cell_type": "code",
   "execution_count": null,
   "id": "ae0f264c",
   "metadata": {},
   "outputs": [],
   "source": [
    "fig = go.Figure()\n",
    "fig.add_trace(go.Scatter(x=fcd_mean_0[\"timestep_time\"].tolist(), y=fcd_mean_0[\"vehicle_speed\"].tolist() ,name = 'Baseline mean speed'))\n",
    "\n",
    "fig.show()"
   ]
  },
  {
   "cell_type": "markdown",
   "id": "112628a1",
   "metadata": {},
   "source": [
    "### 1.3 Indicateur: trajectoire des véhicules"
   ]
  },
  {
   "cell_type": "code",
   "execution_count": null,
   "id": "40e2b8f4",
   "metadata": {},
   "outputs": [],
   "source": [
    "#det\n",
    "print(len(fcd_0_tri_2.index))\n",
    "index_with_nan = fcd_0_tri_2.index[fcd_0_tri_2.isnull().any(axis=1)]\n",
    "fcd_0_tri_2.drop(index_with_nan,0, inplace=True)\n",
    "print(len(fcd_0_tri_2.index))\n",
    "\n",
    "fig = px.scatter(fcd_0_tri_2, x='timestep_time', y='vehicle_pos', color='vehicle_speed', color_continuous_scale='jet_r' )\n",
    "fig.show()"
   ]
  },
  {
   "cell_type": "markdown",
   "id": "8c25f024",
   "metadata": {},
   "source": [
    "## 2. Exemples d'indicateurs pour observer l'impact environnmental du réseau"
   ]
  },
  {
   "cell_type": "markdown",
   "id": "917763b6",
   "metadata": {},
   "source": [
    "### 2.1 Indicateur: émissions CO2"
   ]
  },
  {
   "cell_type": "code",
   "execution_count": null,
   "id": "35972276",
   "metadata": {},
   "outputs": [],
   "source": [
    "path_tripinfo_csv = \"C:/Users/eleon/OneDrive - entpe.fr/Documents/these/ITS/ITS/ITS/Projet_09_VSL/stats/tripinfo.csv\"\n",
    "trip_csv_0 = pd.read_csv(path_tripinfo_csv, sep = ';')\n",
    "print(trip_csv_0.head())"
   ]
  },
  {
   "cell_type": "code",
   "execution_count": null,
   "id": "4f841993",
   "metadata": {},
   "outputs": [],
   "source": [
    "print(trip_csv_0.columns)"
   ]
  },
  {
   "cell_type": "code",
   "execution_count": null,
   "id": "b49ada27",
   "metadata": {},
   "outputs": [],
   "source": [
    "print(len(trip_csv_0.index))\n",
    "trip_tri_1 = trip_csv_0[trip_csv_0.tripinfo_depart > 300]\n",
    "print(len(trip_tri_1))\n",
    "trip_tri_2 = trip_tri_1[trip_tri_1.tripinfo_vType != \"autre\"]\n",
    "print(len(trip_tri_2))"
   ]
  },
  {
   "cell_type": "code",
   "execution_count": null,
   "id": "988c48a5",
   "metadata": {},
   "outputs": [],
   "source": [
    "trip_tri_2.emissions_CO2_abs.describe()"
   ]
  },
  {
   "cell_type": "code",
   "execution_count": null,
   "id": "48e03f35",
   "metadata": {},
   "outputs": [],
   "source": [
    "trip_tri_2.emissions_CO2_abs.sum()"
   ]
  },
  {
   "cell_type": "markdown",
   "id": "7296ac88",
   "metadata": {},
   "source": [
    "## 3. Exemples d'indicateurs pour observer la sécurité sur le réseau"
   ]
  },
  {
   "cell_type": "markdown",
   "id": "7a769370",
   "metadata": {},
   "source": [
    "### 3.1 Indicateur: homogénéisation des vitesses"
   ]
  }
 ],
 "metadata": {
  "kernelspec": {
   "display_name": "Python 3 (ipykernel)",
   "language": "python",
   "name": "python3"
  },
  "language_info": {
   "codemirror_mode": {
    "name": "ipython",
    "version": 3
   },
   "file_extension": ".py",
   "mimetype": "text/x-python",
   "name": "python",
   "nbconvert_exporter": "python",
   "pygments_lexer": "ipython3",
   "version": "3.9.7"
  }
 },
 "nbformat": 4,
 "nbformat_minor": 5
}
