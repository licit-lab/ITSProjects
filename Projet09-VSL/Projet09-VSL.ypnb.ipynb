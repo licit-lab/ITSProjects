{
 "cells": [
  {
   "cell_type": "markdown",
   "id": "c4d5a4f0",
   "metadata": {},
   "source": [
    "# TP ITS : Implémentation d'un système de régulation dynamique de vitesses basé sur les véhicules connectés"
   ]
  },
  {
   "cell_type": "markdown",
   "id": "bb90c209",
   "metadata": {},
   "source": [
    "## Partie 1 : Implémentation d'un système de régulation dynamique des vitesses "
   ]
  },
  {
   "cell_type": "markdown",
   "id": "3085a029",
   "metadata": {},
   "source": [
    "La première partie du TP a pour objectif:\n",
    "- Prendre en main les outils SUMO/Traci \n",
    "- Trouver la distance et le temps d'activation de la limitation de vitesse optimum pour le cas étudié.\n",
    "    \n",
    "On travaille à taux de pénétration constant et égal à 100% (tous les véhicules sont connectés).\n",
    "On travaille sur une unique seed.\n",
    "La vitesse limite à appliquer est pré-déterminée."
   ]
  },
  {
   "cell_type": "markdown",
   "id": "87f7c980",
   "metadata": {},
   "source": [
    "### 1.1 Prise en main de l'outil de simulation SUMO et du module TRACI "
   ]
  },
  {
   "cell_type": "markdown",
   "id": "93c2b287",
   "metadata": {},
   "source": [
    "#### 1.1.1 Analyse de la situation de référence "
   ]
  },
  {
   "cell_type": "markdown",
   "id": "461b3a68",
   "metadata": {},
   "source": [
    "Commencez par lancer la simulation SUMO depuis SUMO-GUI pour observer la situation et récupérer les fichiers de sortie.\n",
    "\n",
    "Note : Vous pouvez activer l'option de SUMO-GUI où la couleur des véhicules dépend de leur vitesse."
   ]
  },
  {
   "cell_type": "markdown",
   "id": "077e4454",
   "metadata": {},
   "source": [
    "QUESTION 1 : Caractériser la situation de référence à l'aide des outils à disposition et des indicateurs de traffic choisis (propagation spatiale et temporelle de la congestion, Temps Total Passé par les véhicules sur le réseau, émissions, etc) (cf outils de traitement des fichiers)"
   ]
  },
  {
   "cell_type": "code",
   "execution_count": null,
   "id": "e2781fc9",
   "metadata": {},
   "outputs": [],
   "source": [
    "#REPONSE (codes et textes)"
   ]
  },
  {
   "cell_type": "markdown",
   "id": "d3e7a9e4",
   "metadata": {},
   "source": [
    "#### 1.1.2 Modification de la situation de référence"
   ]
  },
  {
   "cell_type": "markdown",
   "id": "26ac4e23",
   "metadata": {},
   "source": [
    "Avec le module TRAffic Control Interface (TRACI), il est possible d'accéder à une simulation en cours pour récupérer des données et contrôler le comportement des objets simulés grâce à un script python. \n"
   ]
  },
  {
   "cell_type": "markdown",
   "id": "ad5d5ecb",
   "metadata": {},
   "source": [
    "Après avoir décommenté la partie \"Système VSL\" du script python, lancez le script depuis votre terminal et observez ce qu'il se passe."
   ]
  },
  {
   "cell_type": "markdown",
   "id": "a3ba706f",
   "metadata": {},
   "source": [
    "### 1.2 Implémentation du système de régulation dynamique "
   ]
  },
  {
   "cell_type": "markdown",
   "id": "008189b6",
   "metadata": {},
   "source": [
    "On cherche la solution optimum d'application de la limitation de vitesse c'est à dire le couple distance/temps qui réduit la congestion le plus efficacement et/ou maximise les indicateurs de trafic choisis. \n",
    "\n",
    "La vitesse limite à imposer aux véhicules est 80 km/h."
   ]
  },
  {
   "cell_type": "markdown",
   "id": "82193880",
   "metadata": {},
   "source": [
    "QUESTION 2 : Déterminer la distance et le temps d'application de la limitation de vitesse permettant une situation optimum, en utilisant les outils à disposition et en justifiant avec les indicateurs de traffic). "
   ]
  },
  {
   "cell_type": "code",
   "execution_count": null,
   "id": "b8b176e9",
   "metadata": {},
   "outputs": [],
   "source": [
    "#REPONSE : (code, texte, graphes)"
   ]
  },
  {
   "cell_type": "markdown",
   "id": "9d0ffff9",
   "metadata": {},
   "source": [
    "## Partie 2 : Etudier l'impact du taux de pénétration et du choix des véhicules limités sur l'efficacité du système de contrôle"
   ]
  },
  {
   "cell_type": "markdown",
   "id": "037ce823",
   "metadata": {},
   "source": [
    "On travaillait sur un réseau entièrement connecté (taux de pénétration =100%) c'est à dire que tous les véhicules compris dans la zone de limitation de vitesse surant le temps de contrôle recevait la consigne de limitation de vitesse. \n",
    "Désormais, le traffic est mixte et on a également des véhicules non connectés. "
   ]
  },
  {
   "cell_type": "markdown",
   "id": "d8c7be62",
   "metadata": {},
   "source": [
    "### 2.1 Impact du taux de pénétration sur l'efficacité du système de régulation dynamique des vitesses "
   ]
  },
  {
   "cell_type": "markdown",
   "id": "d2479540",
   "metadata": {},
   "source": [
    "A l'aide du fichier de demande, faites varier le taux de pénétration:\n",
    "-100% réseau entièrement connecté (situation précédente de contrôle)\n",
    "-75%\n",
    "-50% \n",
    "-30%\n",
    "-10%\n",
    "-0% : situation de référence sans contrôle)"
   ]
  },
  {
   "cell_type": "markdown",
   "id": "c8688ae2",
   "metadata": {},
   "source": [
    "QUESTION 3 : Quel est l'impact du taux de pénétration sur l'efficacité du système de contrôle? "
   ]
  },
  {
   "cell_type": "code",
   "execution_count": null,
   "id": "12561075",
   "metadata": {},
   "outputs": [],
   "source": [
    "#REPONSE : (code, texte, graphes)"
   ]
  },
  {
   "cell_type": "markdown",
   "id": "0db84b39",
   "metadata": {},
   "source": [
    "### 2.2 Choix des véhicules connectés à qui appliquer la limitation de vitesse "
   ]
  },
  {
   "cell_type": "markdown",
   "id": "4ed0521c",
   "metadata": {},
   "source": [
    "On cherche à avoir un système VSL performant même avec un faible taux de pénétration en choisissant les meilleurs VC à limiter pour appliquer le plus efficacement possible la stratégie de contrôle même à faible taux de pénétration. \n",
    "\n",
    "Ici, l'idée est de choisisr deux véhicules connectés le plus côte à côte possible à limiter pour obliger les véhicules derrières à également appliquer la limitation.\n",
    "\n",
    "Décommentez la partie où on choisit deux véhicules le plus côte-à-côte possible et appliquez la distance et le temps que vous avez trouvé à la partie 1. Eventuellement, améliorer la stratégie.\n",
    "\n",
    "Faites ensuite varier le taux de pénétration et regardez son impact sur cette stratégie. "
   ]
  },
  {
   "cell_type": "markdown",
   "id": "53ee616b",
   "metadata": {},
   "source": [
    "QUESTION 4 : Quelle est l'efficacité d'un tel système (par rapport au système où on applique la limitation à tous les véhicules connectés) à taux de pénétration égal à 100%? \n",
    "\n",
    "Quel est alors l'impact du taux de pénétration sur l'efficacité de ce système de contrôle? "
   ]
  },
  {
   "cell_type": "code",
   "execution_count": null,
   "id": "c92537f8",
   "metadata": {},
   "outputs": [],
   "source": [
    "#REPONSE : (code, texte, graphes)"
   ]
  },
  {
   "cell_type": "markdown",
   "id": "0cda2de0",
   "metadata": {},
   "source": [
    "## Partie 2bis : Etudier l'impact du taux de pénétration et de la combinaison de différentes stratégies sur l'efficacité du système de contrôle"
   ]
  },
  {
   "cell_type": "markdown",
   "id": "ba3a30fe",
   "metadata": {},
   "source": [
    "On travaillait sur un réseau entièrement connecté (taux de pénétration =100%) c'est à dire que tous les véhicules compris dans la zone de limitation de vitesse surant le temps de contrôle recevait la consigne de limitation de vitesse. \n",
    "Désormais, le traffic est mixte et on a également des véhicules non connectés. "
   ]
  },
  {
   "cell_type": "markdown",
   "id": "2222d1c5",
   "metadata": {},
   "source": [
    "### 2.1 Impact du taux de pénétration sur l'efficacité du système de régulation dynamique des vitesses "
   ]
  },
  {
   "cell_type": "markdown",
   "id": "8bc04ad1",
   "metadata": {},
   "source": [
    "A l'aide du fichier de demande, faites varier le taux de pénétration:\n",
    "-100% réseau entièrement connecté (situation précédente de contrôle)\n",
    "-75%\n",
    "-50% \n",
    "-30%\n",
    "-10%\n",
    "-0% : situation de référence sans contrôle)"
   ]
  },
  {
   "cell_type": "markdown",
   "id": "50c58418",
   "metadata": {},
   "source": [
    "QUESTION 3bis : Quel est l'impact du taux de pénétration sur l'efficacité du système de contrôle? "
   ]
  },
  {
   "cell_type": "code",
   "execution_count": null,
   "id": "97216537",
   "metadata": {},
   "outputs": [],
   "source": [
    "#REPONSE : (code, texte, graphes)"
   ]
  },
  {
   "cell_type": "markdown",
   "id": "a0819d2c",
   "metadata": {},
   "source": [
    "### 2.2 Combinaison de différentes stratégies de contrôle"
   ]
  },
  {
   "cell_type": "markdown",
   "id": "ac50b019",
   "metadata": {},
   "source": [
    "Il est également possible de combiner différents types de message pour une stratégie de contrôle plus efficace.\n",
    "\n",
    "Ici, l'idée et de faire changer de voie les véhicules connectés en amont de la zone de congestion pour anticiper la voie d'insertion, en plus de la limitation de vitesse.\n",
    "\n",
    "Décommentez la partie où on demande aux véhicules connectés de changer de voie à une certaine distance de la zone de congestion et pour un certain temps. \n",
    "\n",
    "Associer cette consigne à la limitation de vitesse. Trouver les distances, temps et valeur de limitation de vitesse optimales pour ces deux stratégies.\n",
    "\n",
    "Faites ensuite varier le taux de pénétration et regardez son impact sur cette stratégie. "
   ]
  },
  {
   "cell_type": "markdown",
   "id": "28d5c9af",
   "metadata": {},
   "source": [
    "QUESTION 4bis : Quelle est l'efficacité de ce nouveau système de contrôle? Est-il intéressant de combiner plusieurs stratégie? Quel est désormais l'impact du taux de pénétration sur l'efficacité du système de contrôle? "
   ]
  },
  {
   "cell_type": "code",
   "execution_count": null,
   "id": "3e8b79c3",
   "metadata": {},
   "outputs": [],
   "source": [
    "#REPONSE : (code, texte, graphes)"
   ]
  }
 ],
 "metadata": {
  "kernelspec": {
   "display_name": "Python 3 (ipykernel)",
   "language": "python",
   "name": "python3"
  },
  "language_info": {
   "codemirror_mode": {
    "name": "ipython",
    "version": 3
   },
   "file_extension": ".py",
   "mimetype": "text/x-python",
   "name": "python",
   "nbconvert_exporter": "python",
   "pygments_lexer": "ipython3",
   "version": "3.8.8"
  }
 },
 "nbformat": 4,
 "nbformat_minor": 5
}
