{
 "cells": [
  {
   "cell_type": "markdown",
   "metadata": {},
   "source": [
    "# TP ITS : Implémentation d'un système de régulation dynamique de vitesses basé sur les véhicules connectés"
   ]
  },
  {
   "cell_type": "markdown",
   "metadata": {},
   "source": [
    "## Partie 1 : Implémentation d'un système de régulation dynamique des vitesses "
   ]
  },
  {
   "cell_type": "markdown",
   "metadata": {},
   "source": [
    "La première partie du TP a pour objectif:\n",
    "- Prendre en main les outils SUMO/Traci \n",
    "- Trouver la distance et le temps d'activation de la limitation de vitesse optimum pour le cas étudié.\n",
    "    \n",
    "On travaille à taux de pénétration constant et égal à 100% (tous les véhicules sont connectés).\n",
    "On travaille sur une unique seed.\n",
    "La vitesse limite à appliquer est pré-déterminée."
   ]
  },
  {
   "cell_type": "markdown",
   "metadata": {},
   "source": [
    "### 1.1 Prise en main de l'outil de simulation SUMO et du module TRACI "
   ]
  },
  {
   "cell_type": "markdown",
   "metadata": {},
   "source": [
    "#### 1.1.1 Analyse de la situation de référence "
   ]
  },
  {
   "cell_type": "markdown",
   "metadata": {},
   "source": [
    "Commencez par lancer la simulation SUMO depuis SUMO-GUI pour observer la situation et récupérer les fichiers de sortie.\n",
    "\n",
    "Note : Vous pouvez activer l'option de SUMO-GUI où la couleur des véhicules dépend de leur vitesse."
   ]
  },
  {
   "cell_type": "markdown",
   "metadata": {},
   "source": [
    "QUESTION 1 : Caractériser la situation de référence à l'aide des outils à disposition et des indicateurs de traffic choisis (cf outils de traitement des fichiers)."
   ]
  },
  {
   "cell_type": "raw",
   "metadata": {},
   "source": [
    "1.1 Après avoir établi la propagation spatiale et temporelle de la congestion, caractériser l'efficacité du réseau avec un (ou des) indicateurs(s) de votre choix (Temps Toal Passé par tous les véhicules sur le réseau, vitesse moyenne, etc)."
   ]
  },
  {
   "cell_type": "code",
   "execution_count": null,
   "metadata": {},
   "outputs": [],
   "source": [
    "### Réponse 1.1 : codes, graphes et analyses attendus"
   ]
  },
  {
   "cell_type": "raw",
   "metadata": {},
   "source": [
    "1.2 Caractériser le réseau à travers une dimension environnmentale à l'aide des indicateurs de votre choix (emissions CO2, Nox, etc)."
   ]
  },
  {
   "cell_type": "code",
   "execution_count": null,
   "metadata": {},
   "outputs": [],
   "source": [
    "### Réponse 1.2 : codes, graphes et analyses attendus"
   ]
  },
  {
   "cell_type": "raw",
   "metadata": {},
   "source": [
    "1.3 Caractériser le réseau en termes de sécurité à l'aide d'un indicateur de votre choix (homogénisation des vitesses, facteur d'accélération/décélération des véhicules)."
   ]
  },
  {
   "cell_type": "code",
   "execution_count": null,
   "metadata": {},
   "outputs": [],
   "source": [
    "### Réponse 1.3: codes, graphes et analyses attendus"
   ]
  },
  {
   "cell_type": "markdown",
   "metadata": {},
   "source": [
    "#### 1.1.2 Modification de la situation de référence"
   ]
  },
  {
   "cell_type": "markdown",
   "metadata": {},
   "source": [
    "Avec le module TRAffic Control Interface (TRACI), il est possible d'accéder à une simulation en cours pour récupérer des données et contrôler le comportement des objets simulés grâce à un script python. \n"
   ]
  },
  {
   "cell_type": "markdown",
   "metadata": {},
   "source": [
    "Après avoir décommenté la partie \"Système VSL\" du script python, lancez le script depuis votre terminal et observez ce qu'il se passe."
   ]
  },
  {
   "cell_type": "markdown",
   "metadata": {},
   "source": [
    "### 1.2 Implémentation du système de régulation dynamique "
   ]
  },
  {
   "cell_type": "markdown",
   "metadata": {},
   "source": [
    "On cherche la solution optimum d'application de la limitation de vitesse c'est à dire le couple distance/temps qui réduit la congestion le plus efficacement et/ou maximise les indicateurs de trafic choisis. \n",
    "\n",
    "La vitesse limite à imposer aux véhicules est 80 km/h."
   ]
  },
  {
   "cell_type": "markdown",
   "metadata": {},
   "source": [
    "QUESTION 2 : Déterminer la distance et le temps d'application de la limitation de vitesse permettant une situation optimum, en utilisant les outils à disposition et en justifiant avec les indicateurs de traffic choisis dans la partie précédente."
   ]
  },
  {
   "cell_type": "raw",
   "metadata": {},
   "source": [
    "QUESTION 2.1 : Déterminer la solution optimale (distance et temps d'application de la limitation de vitesses) en termes d'efficacité du réseau. "
   ]
  },
  {
   "cell_type": "code",
   "execution_count": null,
   "metadata": {},
   "outputs": [],
   "source": [
    "### Réponse 2.1: codes, graphes et analyses attendus"
   ]
  },
  {
   "cell_type": "raw",
   "metadata": {},
   "source": [
    "QUESTION 2.2: Déterminer la solution optimale en termes environnementaux."
   ]
  },
  {
   "cell_type": "code",
   "execution_count": null,
   "metadata": {},
   "outputs": [],
   "source": [
    "### Réponse 2.2: codes, graphes et analyses attendus"
   ]
  },
  {
   "cell_type": "raw",
   "metadata": {},
   "source": [
    "QUESTION 2.3: Déterminer la solution optimale en termes de sécurité sur le réseau. "
   ]
  },
  {
   "cell_type": "code",
   "execution_count": null,
   "metadata": {},
   "outputs": [],
   "source": [
    "### Réponse 2.3: codes, graphes et analyses attendus"
   ]
  },
  {
   "cell_type": "raw",
   "metadata": {},
   "source": [
    "Bilan: Faites un bilan de vos réponses et justifier le choix de votre solution optimale"
   ]
  },
  {
   "cell_type": "code",
   "execution_count": null,
   "metadata": {},
   "outputs": [],
   "source": [
    "### Réponse bilan: justification libre"
   ]
  },
  {
   "cell_type": "markdown",
   "metadata": {},
   "source": [
    "## Partie 2 : Etudier l'impact du taux de pénétration et du choix des véhicules limités sur l'efficacité du système de contrôle"
   ]
  },
  {
   "cell_type": "markdown",
   "metadata": {},
   "source": [
    "On travaillait sur un réseau entièrement connecté (taux de pénétration =100%) c'est à dire que tous les véhicules compris dans la zone de limitation de vitesse surant le temps de contrôle recevait la consigne de limitation de vitesse. \n",
    "Désormais, le traffic est mixte et on a également des véhicules non connectés. "
   ]
  },
  {
   "cell_type": "markdown",
   "metadata": {},
   "source": [
    "### 2.1 Impact du taux de pénétration sur l'efficacité du système de régulation dynamique des vitesses "
   ]
  },
  {
   "cell_type": "markdown",
   "metadata": {},
   "source": [
    "A l'aide du fichier de demande, faites varier le taux de pénétration:\n",
    "-100% réseau entièrement connecté (situation précédente de contrôle)\n",
    "-75%\n",
    "-50% \n",
    "-30%\n",
    "-10%\n",
    "-0% : situation de référence sans contrôle)"
   ]
  },
  {
   "cell_type": "markdown",
   "metadata": {},
   "source": [
    "QUESTION 3 : Quel est l'impact du taux de pénétration sur l'efficacité du système de contrôle? "
   ]
  },
  {
   "cell_type": "code",
   "execution_count": null,
   "metadata": {},
   "outputs": [],
   "source": [
    "### Réponse 3: codes, graphes et analyses attendus pour les 3 dimensions (efficacité, sécurité et environnementale)"
   ]
  },
  {
   "cell_type": "markdown",
   "metadata": {},
   "source": [
    "### 2.2 Choix des véhicules connectés à qui appliquer la limitation de vitesse "
   ]
  },
  {
   "cell_type": "markdown",
   "metadata": {},
   "source": [
    "On cherche à avoir un système VSL performant même avec un faible taux de pénétration en choisissant les meilleurs VC à limiter pour appliquer le plus efficacement possible la stratégie de contrôle même à faible taux de pénétration. \n",
    "\n",
    "Ici, l'idée est de choisisr deux véhicules connectés le plus côte à côte possible à limiter pour obliger les véhicules derrières à également appliquer la limitation.\n",
    "\n",
    "Décommentez la partie où on choisit deux véhicules le plus côte-à-côte possible et appliquez la distance et le temps que vous avez trouvé à la partie 1. Eventuellement, améliorer la stratégie.\n",
    "\n",
    "Faites ensuite varier le taux de pénétration et regardez son impact sur cette stratégie. "
   ]
  },
  {
   "cell_type": "markdown",
   "metadata": {},
   "source": [
    "QUESTION 4 : Quelle est l'efficacité d'un tel système (par rapport au système où on applique la limitation à tous les véhicules connectés) à taux de pénétration égal à 100%? \n",
    "\n",
    "Quel est alors l'impact du taux de pénétration sur l'efficacité de ce système de contrôle? "
   ]
  },
  {
   "cell_type": "code",
   "execution_count": null,
   "metadata": {},
   "outputs": [],
   "source": [
    "### Réponse 4: codes, graphes et analyses attendus pour les 3 dimensions"
   ]
  },
  {
   "cell_type": "markdown",
   "metadata": {},
   "source": [
    "## Partie 2bis : Etudier l'impact du taux de pénétration et de la combinaison de différentes stratégies sur l'efficacité du système de contrôle"
   ]
  },
  {
   "cell_type": "markdown",
   "metadata": {},
   "source": [
    "On travaillait sur un réseau entièrement connecté (taux de pénétration =100%) c'est à dire que tous les véhicules compris dans la zone de limitation de vitesse surant le temps de contrôle recevait la consigne de limitation de vitesse. \n",
    "Désormais, le traffic est mixte et on a également des véhicules non connectés. "
   ]
  },
  {
   "cell_type": "markdown",
   "metadata": {},
   "source": [
    "### 2.1 Impact du taux de pénétration sur l'efficacité du système de régulation dynamique des vitesses "
   ]
  },
  {
   "cell_type": "markdown",
   "metadata": {},
   "source": [
    "A l'aide du fichier de demande, faites varier le taux de pénétration:\n",
    "-100% réseau entièrement connecté (situation précédente de contrôle)\n",
    "-75%\n",
    "-50% \n",
    "-30%\n",
    "-10%\n",
    "-0% : situation de référence sans contrôle)"
   ]
  },
  {
   "cell_type": "markdown",
   "metadata": {},
   "source": [
    "QUESTION 3bis : Quel est l'impact du taux de pénétration sur l'efficacité du système de contrôle? "
   ]
  },
  {
   "cell_type": "code",
   "execution_count": null,
   "metadata": {},
   "outputs": [],
   "source": [
    "### Réponse 3bis: codes, graphes et analyses attendus pour les 3 dimensions"
   ]
  },
  {
   "cell_type": "markdown",
   "metadata": {},
   "source": [
    "### 2.2 Combinaison de différentes stratégies de contrôle"
   ]
  },
  {
   "cell_type": "markdown",
   "metadata": {},
   "source": [
    "Il est également possible de combiner différents types de message pour une stratégie de contrôle plus efficace.\n",
    "\n",
    "Ici, l'idée et de faire changer de voie les véhicules connectés en amont de la zone de congestion pour anticiper la voie d'insertion, en plus de la limitation de vitesse.\n",
    "\n",
    "Décommentez la partie où on demande aux véhicules connectés de changer de voie à une certaine distance de la zone de congestion et pour un certain temps. \n",
    "\n",
    "Associer cette consigne à la limitation de vitesse. Trouver les distances, temps et valeur de limitation de vitesse optimales pour ces deux stratégies.\n",
    "\n",
    "Faites ensuite varier le taux de pénétration et regardez son impact sur cette stratégie. "
   ]
  },
  {
   "cell_type": "markdown",
   "metadata": {},
   "source": [
    "QUESTION 4bis : Quelle est l'efficacité de ce nouveau système de contrôle? Est-il intéressant de combiner plusieurs stratégie? Quel est désormais l'impact du taux de pénétration sur l'efficacité du système de contrôle? "
   ]
  },
  {
   "cell_type": "code",
   "execution_count": null,
   "metadata": {},
   "outputs": [],
   "source": [
    "### Réponse 4bis: codes, graphes et analyses attendus pour les 3 dimensions"
   ]
  }
 ],
 "metadata": {
  "kernelspec": {
   "display_name": "Python 3",
   "language": "python",
   "name": "python3"
  },
  "language_info": {
   "codemirror_mode": {
    "name": "ipython",
    "version": 3
   },
   "file_extension": ".py",
   "mimetype": "text/x-python",
   "name": "python",
   "nbconvert_exporter": "python",
   "pygments_lexer": "ipython3",
   "version": "3.7.6"
  }
 },
 "nbformat": 4,
 "nbformat_minor": 5
}
