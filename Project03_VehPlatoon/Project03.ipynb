{
 "cells": [
  {
   "cell_type": "markdown",
   "metadata": {},
   "source": [
    "# Project Description \n",
    "\n",
    "## Analyzing Platooning Technologies and their benefits for transportation\n",
    "\n",
    "The main objective of this project is to understand a traffic phenomena denominated \"vehicle platooning\" and design proper control strategies for a platoon of vehicles in order to optimize the traffic flow and reduce the fuel consumption. \n",
    "\n",
    "<img src=\"assets/img/truck-platooning.jpg\" alt=\"drawing\" width=\"600\"/>\n",
    "\n",
    "In order to do that we are going to make use of the package `vplatoon` that includes some basic models to deploy platooning systems including the implemenation of [`ACC/CACC`](https://en.wikipedia.org/wiki/Adaptive_cruise_control) systems. For more information about the source code of this package please go [here](https://github.com/research-licit/itstools/tree/main/itstools). Over there you will find a folder called `vplatoon` containing all the models in the submodules `carfollow`, `vehicles`, `demand`, `messages` etc. Some of these will be explored along the module and may help you to progress faster in the project.   \n"
   ]
  },
  {
   "cell_type": "code",
   "execution_count": 1,
   "metadata": {},
   "outputs": [],
   "source": [
    "# Try this on google collab only\n",
    "# !pip install -r https://raw.githubusercontent.com/research-licit/ITSProjects/main/requirements.txt"
   ]
  },
  {
   "cell_type": "markdown",
   "metadata": {
    "papermill": {
     "duration": 0.013152,
     "end_time": "2019-11-26T15:01:36.194135",
     "exception": false,
     "start_time": "2019-11-26T15:01:36.180983",
     "status": "completed"
    },
    "tags": []
   },
   "source": [
    "## Contents and structure \n",
    "\n",
    "* Exploration and modeling of vehicle dynamics and feedback systems \n",
    "* Basic control systems PID\n",
    "* Implementation of a platoon via control systems \n",
    "* Compute emissions from trajectories \n",
    "* Understanding side effects of platoon (Stability) \n",
    "\n",
    "Let's begin by importing some plotting libraries that will help us with data visualization"
   ]
  },
  {
   "cell_type": "code",
   "execution_count": 2,
   "metadata": {},
   "outputs": [
    {
     "data": {
      "text/html": [
       "\n",
       "    <div class=\"bk-root\">\n",
       "        <a href=\"https://bokeh.org\" target=\"_blank\" class=\"bk-logo bk-logo-small bk-logo-notebook\"></a>\n",
       "        <span id=\"1001\">Loading BokehJS ...</span>\n",
       "    </div>"
      ]
     },
     "metadata": {},
     "output_type": "display_data"
    },
    {
     "data": {
      "application/javascript": [
       "\n",
       "(function(root) {\n",
       "  function now() {\n",
       "    return new Date();\n",
       "  }\n",
       "\n",
       "  var force = true;\n",
       "\n",
       "  if (typeof root._bokeh_onload_callbacks === \"undefined\" || force === true) {\n",
       "    root._bokeh_onload_callbacks = [];\n",
       "    root._bokeh_is_loading = undefined;\n",
       "  }\n",
       "\n",
       "  var JS_MIME_TYPE = 'application/javascript';\n",
       "  var HTML_MIME_TYPE = 'text/html';\n",
       "  var EXEC_MIME_TYPE = 'application/vnd.bokehjs_exec.v0+json';\n",
       "  var CLASS_NAME = 'output_bokeh rendered_html';\n",
       "\n",
       "  /**\n",
       "   * Render data to the DOM node\n",
       "   */\n",
       "  function render(props, node) {\n",
       "    var script = document.createElement(\"script\");\n",
       "    node.appendChild(script);\n",
       "  }\n",
       "\n",
       "  /**\n",
       "   * Handle when an output is cleared or removed\n",
       "   */\n",
       "  function handleClearOutput(event, handle) {\n",
       "    var cell = handle.cell;\n",
       "\n",
       "    var id = cell.output_area._bokeh_element_id;\n",
       "    var server_id = cell.output_area._bokeh_server_id;\n",
       "    // Clean up Bokeh references\n",
       "    if (id != null && id in Bokeh.index) {\n",
       "      Bokeh.index[id].model.document.clear();\n",
       "      delete Bokeh.index[id];\n",
       "    }\n",
       "\n",
       "    if (server_id !== undefined) {\n",
       "      // Clean up Bokeh references\n",
       "      var cmd = \"from bokeh.io.state import curstate; print(curstate().uuid_to_server['\" + server_id + \"'].get_sessions()[0].document.roots[0]._id)\";\n",
       "      cell.notebook.kernel.execute(cmd, {\n",
       "        iopub: {\n",
       "          output: function(msg) {\n",
       "            var id = msg.content.text.trim();\n",
       "            if (id in Bokeh.index) {\n",
       "              Bokeh.index[id].model.document.clear();\n",
       "              delete Bokeh.index[id];\n",
       "            }\n",
       "          }\n",
       "        }\n",
       "      });\n",
       "      // Destroy server and session\n",
       "      var cmd = \"import bokeh.io.notebook as ion; ion.destroy_server('\" + server_id + \"')\";\n",
       "      cell.notebook.kernel.execute(cmd);\n",
       "    }\n",
       "  }\n",
       "\n",
       "  /**\n",
       "   * Handle when a new output is added\n",
       "   */\n",
       "  function handleAddOutput(event, handle) {\n",
       "    var output_area = handle.output_area;\n",
       "    var output = handle.output;\n",
       "\n",
       "    // limit handleAddOutput to display_data with EXEC_MIME_TYPE content only\n",
       "    if ((output.output_type != \"display_data\") || (!output.data.hasOwnProperty(EXEC_MIME_TYPE))) {\n",
       "      return\n",
       "    }\n",
       "\n",
       "    var toinsert = output_area.element.find(\".\" + CLASS_NAME.split(' ')[0]);\n",
       "\n",
       "    if (output.metadata[EXEC_MIME_TYPE][\"id\"] !== undefined) {\n",
       "      toinsert[toinsert.length - 1].firstChild.textContent = output.data[JS_MIME_TYPE];\n",
       "      // store reference to embed id on output_area\n",
       "      output_area._bokeh_element_id = output.metadata[EXEC_MIME_TYPE][\"id\"];\n",
       "    }\n",
       "    if (output.metadata[EXEC_MIME_TYPE][\"server_id\"] !== undefined) {\n",
       "      var bk_div = document.createElement(\"div\");\n",
       "      bk_div.innerHTML = output.data[HTML_MIME_TYPE];\n",
       "      var script_attrs = bk_div.children[0].attributes;\n",
       "      for (var i = 0; i < script_attrs.length; i++) {\n",
       "        toinsert[toinsert.length - 1].firstChild.setAttribute(script_attrs[i].name, script_attrs[i].value);\n",
       "        toinsert[toinsert.length - 1].firstChild.textContent = bk_div.children[0].textContent\n",
       "      }\n",
       "      // store reference to server id on output_area\n",
       "      output_area._bokeh_server_id = output.metadata[EXEC_MIME_TYPE][\"server_id\"];\n",
       "    }\n",
       "  }\n",
       "\n",
       "  function register_renderer(events, OutputArea) {\n",
       "\n",
       "    function append_mime(data, metadata, element) {\n",
       "      // create a DOM node to render to\n",
       "      var toinsert = this.create_output_subarea(\n",
       "        metadata,\n",
       "        CLASS_NAME,\n",
       "        EXEC_MIME_TYPE\n",
       "      );\n",
       "      this.keyboard_manager.register_events(toinsert);\n",
       "      // Render to node\n",
       "      var props = {data: data, metadata: metadata[EXEC_MIME_TYPE]};\n",
       "      render(props, toinsert[toinsert.length - 1]);\n",
       "      element.append(toinsert);\n",
       "      return toinsert\n",
       "    }\n",
       "\n",
       "    /* Handle when an output is cleared or removed */\n",
       "    events.on('clear_output.CodeCell', handleClearOutput);\n",
       "    events.on('delete.Cell', handleClearOutput);\n",
       "\n",
       "    /* Handle when a new output is added */\n",
       "    events.on('output_added.OutputArea', handleAddOutput);\n",
       "\n",
       "    /**\n",
       "     * Register the mime type and append_mime function with output_area\n",
       "     */\n",
       "    OutputArea.prototype.register_mime_type(EXEC_MIME_TYPE, append_mime, {\n",
       "      /* Is output safe? */\n",
       "      safe: true,\n",
       "      /* Index of renderer in `output_area.display_order` */\n",
       "      index: 0\n",
       "    });\n",
       "  }\n",
       "\n",
       "  // register the mime type if in Jupyter Notebook environment and previously unregistered\n",
       "  if (root.Jupyter !== undefined) {\n",
       "    var events = require('base/js/events');\n",
       "    var OutputArea = require('notebook/js/outputarea').OutputArea;\n",
       "\n",
       "    if (OutputArea.prototype.mime_types().indexOf(EXEC_MIME_TYPE) == -1) {\n",
       "      register_renderer(events, OutputArea);\n",
       "    }\n",
       "  }\n",
       "\n",
       "  \n",
       "  if (typeof (root._bokeh_timeout) === \"undefined\" || force === true) {\n",
       "    root._bokeh_timeout = Date.now() + 5000;\n",
       "    root._bokeh_failed_load = false;\n",
       "  }\n",
       "\n",
       "  var NB_LOAD_WARNING = {'data': {'text/html':\n",
       "     \"<div style='background-color: #fdd'>\\n\"+\n",
       "     \"<p>\\n\"+\n",
       "     \"BokehJS does not appear to have successfully loaded. If loading BokehJS from CDN, this \\n\"+\n",
       "     \"may be due to a slow or bad network connection. Possible fixes:\\n\"+\n",
       "     \"</p>\\n\"+\n",
       "     \"<ul>\\n\"+\n",
       "     \"<li>re-rerun `output_notebook()` to attempt to load from CDN again, or</li>\\n\"+\n",
       "     \"<li>use INLINE resources instead, as so:</li>\\n\"+\n",
       "     \"</ul>\\n\"+\n",
       "     \"<code>\\n\"+\n",
       "     \"from bokeh.resources import INLINE\\n\"+\n",
       "     \"output_notebook(resources=INLINE)\\n\"+\n",
       "     \"</code>\\n\"+\n",
       "     \"</div>\"}};\n",
       "\n",
       "  function display_loaded() {\n",
       "    var el = document.getElementById(\"1001\");\n",
       "    if (el != null) {\n",
       "      el.textContent = \"BokehJS is loading...\";\n",
       "    }\n",
       "    if (root.Bokeh !== undefined) {\n",
       "      if (el != null) {\n",
       "        el.textContent = \"BokehJS \" + root.Bokeh.version + \" successfully loaded.\";\n",
       "      }\n",
       "    } else if (Date.now() < root._bokeh_timeout) {\n",
       "      setTimeout(display_loaded, 100)\n",
       "    }\n",
       "  }\n",
       "\n",
       "\n",
       "  function run_callbacks() {\n",
       "    try {\n",
       "      root._bokeh_onload_callbacks.forEach(function(callback) {\n",
       "        if (callback != null)\n",
       "          callback();\n",
       "      });\n",
       "    } finally {\n",
       "      delete root._bokeh_onload_callbacks\n",
       "    }\n",
       "    console.debug(\"Bokeh: all callbacks have finished\");\n",
       "  }\n",
       "\n",
       "  function load_libs(css_urls, js_urls, callback) {\n",
       "    if (css_urls == null) css_urls = [];\n",
       "    if (js_urls == null) js_urls = [];\n",
       "\n",
       "    root._bokeh_onload_callbacks.push(callback);\n",
       "    if (root._bokeh_is_loading > 0) {\n",
       "      console.debug(\"Bokeh: BokehJS is being loaded, scheduling callback at\", now());\n",
       "      return null;\n",
       "    }\n",
       "    if (js_urls == null || js_urls.length === 0) {\n",
       "      run_callbacks();\n",
       "      return null;\n",
       "    }\n",
       "    console.debug(\"Bokeh: BokehJS not loaded, scheduling load and callback at\", now());\n",
       "    root._bokeh_is_loading = css_urls.length + js_urls.length;\n",
       "\n",
       "    function on_load() {\n",
       "      root._bokeh_is_loading--;\n",
       "      if (root._bokeh_is_loading === 0) {\n",
       "        console.debug(\"Bokeh: all BokehJS libraries/stylesheets loaded\");\n",
       "        run_callbacks()\n",
       "      }\n",
       "    }\n",
       "\n",
       "    function on_error() {\n",
       "      console.error(\"failed to load \" + url);\n",
       "    }\n",
       "\n",
       "    for (var i = 0; i < css_urls.length; i++) {\n",
       "      var url = css_urls[i];\n",
       "      const element = document.createElement(\"link\");\n",
       "      element.onload = on_load;\n",
       "      element.onerror = on_error;\n",
       "      element.rel = \"stylesheet\";\n",
       "      element.type = \"text/css\";\n",
       "      element.href = url;\n",
       "      console.debug(\"Bokeh: injecting link tag for BokehJS stylesheet: \", url);\n",
       "      document.body.appendChild(element);\n",
       "    }\n",
       "\n",
       "    const hashes = {\"https://cdn.bokeh.org/bokeh/release/bokeh-2.2.3.min.js\": \"T2yuo9Oe71Cz/I4X9Ac5+gpEa5a8PpJCDlqKYO0CfAuEszu1JrXLl8YugMqYe3sM\", \"https://cdn.bokeh.org/bokeh/release/bokeh-widgets-2.2.3.min.js\": \"98GDGJ0kOMCUMUePhksaQ/GYgB3+NH9h996V88sh3aOiUNX3N+fLXAtry6xctSZ6\", \"https://cdn.bokeh.org/bokeh/release/bokeh-tables-2.2.3.min.js\": \"89bArO+nlbP3sgakeHjCo1JYxYR5wufVgA3IbUvDY+K7w4zyxJqssu7wVnfeKCq8\"};\n",
       "\n",
       "    for (var i = 0; i < js_urls.length; i++) {\n",
       "      var url = js_urls[i];\n",
       "      var element = document.createElement('script');\n",
       "      element.onload = on_load;\n",
       "      element.onerror = on_error;\n",
       "      element.async = false;\n",
       "      element.src = url;\n",
       "      if (url in hashes) {\n",
       "        element.crossOrigin = \"anonymous\";\n",
       "        element.integrity = \"sha384-\" + hashes[url];\n",
       "      }\n",
       "      console.debug(\"Bokeh: injecting script tag for BokehJS library: \", url);\n",
       "      document.head.appendChild(element);\n",
       "    }\n",
       "  };\n",
       "\n",
       "  function inject_raw_css(css) {\n",
       "    const element = document.createElement(\"style\");\n",
       "    element.appendChild(document.createTextNode(css));\n",
       "    document.body.appendChild(element);\n",
       "  }\n",
       "\n",
       "  \n",
       "  var js_urls = [\"https://cdn.bokeh.org/bokeh/release/bokeh-2.2.3.min.js\", \"https://cdn.bokeh.org/bokeh/release/bokeh-widgets-2.2.3.min.js\", \"https://cdn.bokeh.org/bokeh/release/bokeh-tables-2.2.3.min.js\"];\n",
       "  var css_urls = [];\n",
       "  \n",
       "\n",
       "  var inline_js = [\n",
       "    function(Bokeh) {\n",
       "      Bokeh.set_log_level(\"info\");\n",
       "    },\n",
       "    function(Bokeh) {\n",
       "    \n",
       "    \n",
       "    }\n",
       "  ];\n",
       "\n",
       "  function run_inline_js() {\n",
       "    \n",
       "    if (root.Bokeh !== undefined || force === true) {\n",
       "      \n",
       "    for (var i = 0; i < inline_js.length; i++) {\n",
       "      inline_js[i].call(root, root.Bokeh);\n",
       "    }\n",
       "    if (force === true) {\n",
       "        display_loaded();\n",
       "      }} else if (Date.now() < root._bokeh_timeout) {\n",
       "      setTimeout(run_inline_js, 100);\n",
       "    } else if (!root._bokeh_failed_load) {\n",
       "      console.log(\"Bokeh: BokehJS failed to load within specified timeout.\");\n",
       "      root._bokeh_failed_load = true;\n",
       "    } else if (force !== true) {\n",
       "      var cell = $(document.getElementById(\"1001\")).parents('.cell').data().cell;\n",
       "      cell.output_area.append_execute_result(NB_LOAD_WARNING)\n",
       "    }\n",
       "\n",
       "  }\n",
       "\n",
       "  if (root._bokeh_is_loading === 0) {\n",
       "    console.debug(\"Bokeh: BokehJS loaded, going straight to plotting\");\n",
       "    run_inline_js();\n",
       "  } else {\n",
       "    load_libs(css_urls, js_urls, function() {\n",
       "      console.debug(\"Bokeh: BokehJS plotting callback run at\", now());\n",
       "      run_inline_js();\n",
       "    });\n",
       "  }\n",
       "}(window));"
      ],
      "application/vnd.bokehjs_load.v0+json": "\n(function(root) {\n  function now() {\n    return new Date();\n  }\n\n  var force = true;\n\n  if (typeof root._bokeh_onload_callbacks === \"undefined\" || force === true) {\n    root._bokeh_onload_callbacks = [];\n    root._bokeh_is_loading = undefined;\n  }\n\n  \n\n  \n  if (typeof (root._bokeh_timeout) === \"undefined\" || force === true) {\n    root._bokeh_timeout = Date.now() + 5000;\n    root._bokeh_failed_load = false;\n  }\n\n  var NB_LOAD_WARNING = {'data': {'text/html':\n     \"<div style='background-color: #fdd'>\\n\"+\n     \"<p>\\n\"+\n     \"BokehJS does not appear to have successfully loaded. If loading BokehJS from CDN, this \\n\"+\n     \"may be due to a slow or bad network connection. Possible fixes:\\n\"+\n     \"</p>\\n\"+\n     \"<ul>\\n\"+\n     \"<li>re-rerun `output_notebook()` to attempt to load from CDN again, or</li>\\n\"+\n     \"<li>use INLINE resources instead, as so:</li>\\n\"+\n     \"</ul>\\n\"+\n     \"<code>\\n\"+\n     \"from bokeh.resources import INLINE\\n\"+\n     \"output_notebook(resources=INLINE)\\n\"+\n     \"</code>\\n\"+\n     \"</div>\"}};\n\n  function display_loaded() {\n    var el = document.getElementById(\"1001\");\n    if (el != null) {\n      el.textContent = \"BokehJS is loading...\";\n    }\n    if (root.Bokeh !== undefined) {\n      if (el != null) {\n        el.textContent = \"BokehJS \" + root.Bokeh.version + \" successfully loaded.\";\n      }\n    } else if (Date.now() < root._bokeh_timeout) {\n      setTimeout(display_loaded, 100)\n    }\n  }\n\n\n  function run_callbacks() {\n    try {\n      root._bokeh_onload_callbacks.forEach(function(callback) {\n        if (callback != null)\n          callback();\n      });\n    } finally {\n      delete root._bokeh_onload_callbacks\n    }\n    console.debug(\"Bokeh: all callbacks have finished\");\n  }\n\n  function load_libs(css_urls, js_urls, callback) {\n    if (css_urls == null) css_urls = [];\n    if (js_urls == null) js_urls = [];\n\n    root._bokeh_onload_callbacks.push(callback);\n    if (root._bokeh_is_loading > 0) {\n      console.debug(\"Bokeh: BokehJS is being loaded, scheduling callback at\", now());\n      return null;\n    }\n    if (js_urls == null || js_urls.length === 0) {\n      run_callbacks();\n      return null;\n    }\n    console.debug(\"Bokeh: BokehJS not loaded, scheduling load and callback at\", now());\n    root._bokeh_is_loading = css_urls.length + js_urls.length;\n\n    function on_load() {\n      root._bokeh_is_loading--;\n      if (root._bokeh_is_loading === 0) {\n        console.debug(\"Bokeh: all BokehJS libraries/stylesheets loaded\");\n        run_callbacks()\n      }\n    }\n\n    function on_error() {\n      console.error(\"failed to load \" + url);\n    }\n\n    for (var i = 0; i < css_urls.length; i++) {\n      var url = css_urls[i];\n      const element = document.createElement(\"link\");\n      element.onload = on_load;\n      element.onerror = on_error;\n      element.rel = \"stylesheet\";\n      element.type = \"text/css\";\n      element.href = url;\n      console.debug(\"Bokeh: injecting link tag for BokehJS stylesheet: \", url);\n      document.body.appendChild(element);\n    }\n\n    const hashes = {\"https://cdn.bokeh.org/bokeh/release/bokeh-2.2.3.min.js\": \"T2yuo9Oe71Cz/I4X9Ac5+gpEa5a8PpJCDlqKYO0CfAuEszu1JrXLl8YugMqYe3sM\", \"https://cdn.bokeh.org/bokeh/release/bokeh-widgets-2.2.3.min.js\": \"98GDGJ0kOMCUMUePhksaQ/GYgB3+NH9h996V88sh3aOiUNX3N+fLXAtry6xctSZ6\", \"https://cdn.bokeh.org/bokeh/release/bokeh-tables-2.2.3.min.js\": \"89bArO+nlbP3sgakeHjCo1JYxYR5wufVgA3IbUvDY+K7w4zyxJqssu7wVnfeKCq8\"};\n\n    for (var i = 0; i < js_urls.length; i++) {\n      var url = js_urls[i];\n      var element = document.createElement('script');\n      element.onload = on_load;\n      element.onerror = on_error;\n      element.async = false;\n      element.src = url;\n      if (url in hashes) {\n        element.crossOrigin = \"anonymous\";\n        element.integrity = \"sha384-\" + hashes[url];\n      }\n      console.debug(\"Bokeh: injecting script tag for BokehJS library: \", url);\n      document.head.appendChild(element);\n    }\n  };\n\n  function inject_raw_css(css) {\n    const element = document.createElement(\"style\");\n    element.appendChild(document.createTextNode(css));\n    document.body.appendChild(element);\n  }\n\n  \n  var js_urls = [\"https://cdn.bokeh.org/bokeh/release/bokeh-2.2.3.min.js\", \"https://cdn.bokeh.org/bokeh/release/bokeh-widgets-2.2.3.min.js\", \"https://cdn.bokeh.org/bokeh/release/bokeh-tables-2.2.3.min.js\"];\n  var css_urls = [];\n  \n\n  var inline_js = [\n    function(Bokeh) {\n      Bokeh.set_log_level(\"info\");\n    },\n    function(Bokeh) {\n    \n    \n    }\n  ];\n\n  function run_inline_js() {\n    \n    if (root.Bokeh !== undefined || force === true) {\n      \n    for (var i = 0; i < inline_js.length; i++) {\n      inline_js[i].call(root, root.Bokeh);\n    }\n    if (force === true) {\n        display_loaded();\n      }} else if (Date.now() < root._bokeh_timeout) {\n      setTimeout(run_inline_js, 100);\n    } else if (!root._bokeh_failed_load) {\n      console.log(\"Bokeh: BokehJS failed to load within specified timeout.\");\n      root._bokeh_failed_load = true;\n    } else if (force !== true) {\n      var cell = $(document.getElementById(\"1001\")).parents('.cell').data().cell;\n      cell.output_area.append_execute_result(NB_LOAD_WARNING)\n    }\n\n  }\n\n  if (root._bokeh_is_loading === 0) {\n    console.debug(\"Bokeh: BokehJS loaded, going straight to plotting\");\n    run_inline_js();\n  } else {\n    load_libs(css_urls, js_urls, function() {\n      console.debug(\"Bokeh: BokehJS plotting callback run at\", now());\n      run_inline_js();\n    });\n  }\n}(window));"
     },
     "metadata": {},
     "output_type": "display_data"
    }
   ],
   "source": [
    "from bokeh.plotting import show\n",
    "from bokeh.io import output_notebook\n",
    "output_notebook()"
   ]
  },
  {
   "cell_type": "markdown",
   "metadata": {
    "papermill": {
     "duration": 0.013152,
     "end_time": "2019-11-26T15:01:36.194135",
     "exception": false,
     "start_time": "2019-11-26T15:01:36.180983",
     "status": "completed"
    },
    "tags": []
   },
   "source": [
    "## Understanding the basics \n",
    "\n",
    "For this application it is considered the simulation of [microscopic traffic models](https://en.wikipedia.org/wiki/Microscopic_traffic_flow_model) where *longitudinal position* follow a specified behavior defined as a function of  two main components, the *headway space* and the *speed differential*. The *car following* behavior describes the behavior of the vehicle in its longitudinal dynamics while the *lane change* behavior describes the behavior in the lateral position. \n",
    "\n",
    "In order to modify traffic behavior for a condition, the system is modeled via traffic model where a specific control algorithm regulates the vehicle speed or the inter vehicle distance."
   ]
  },
  {
   "cell_type": "markdown",
   "metadata": {},
   "source": [
    "#### Traffic model and the fundamental diagram\n",
    "\n",
    "Before pursuing it is important to understand the value of the fundamental diagram. The fundamental diagram describe the relation ship between ***density*** or concentration of vehicles and the ***flow*** or speed of vehicles. The density is regularly denoted as $\\kappa$ for this scenarios as `K`, in the meanwhile the flow is denoted by `Q`. We are going to consider the fact that the relationship follows a piecewise linear behavior as follows:\n",
    "\n",
    "\n",
    "\\begin{aligned}\n",
    "Q(\\kappa) = \\begin{cases}\n",
    "u\\kappa\\quad 0\\leq\\kappa\\leq \\kappa_c\\\\\n",
    "w\\left(\\kappa_x-\\kappa\\right)\\quad \\kappa_c\\leq\\kappa\\leq \\kappa_x\n",
    "\\end{cases}\n",
    "\\end{aligned}\n",
    "\n",
    "\n",
    "Let's define the number of vehicles and their initial positions, in order to determine the initial position let's find the minimum spacing. For the moment let's consider the following parameters. `W=5`, `K_X=0.2` and `U=20`. Let's trace the fundamental diagram for this case. We will make use of the `FundamentalDiagram` class in the `traffic` submodule"
   ]
  },
  {
   "cell_type": "code",
   "execution_count": 3,
   "metadata": {},
   "outputs": [
    {
     "data": {
      "text/html": [
       "\n",
       "\n",
       "\n",
       "\n",
       "\n",
       "\n",
       "  <div class=\"bk-root\" id=\"16bae7be-767d-4c44-beec-612de29b7a58\" data-root-id=\"1002\"></div>\n"
      ]
     },
     "metadata": {},
     "output_type": "display_data"
    },
    {
     "data": {
      "application/javascript": [
       "(function(root) {\n",
       "  function embed_document(root) {\n",
       "    \n",
       "  var docs_json = {\"c0bde855-c5de-446c-a20d-f26deddf6dfb\":{\"roots\":{\"references\":[{\"attributes\":{\"below\":[{\"id\":\"1013\"}],\"center\":[{\"id\":\"1016\"},{\"id\":\"1020\"}],\"left\":[{\"id\":\"1017\"}],\"plot_height\":500,\"plot_width\":500,\"renderers\":[{\"id\":\"1025\"}],\"title\":{\"id\":\"1003\"},\"toolbar\":{\"id\":\"1021\"},\"x_range\":{\"id\":\"1005\"},\"x_scale\":{\"id\":\"1009\"},\"y_range\":{\"id\":\"1007\"},\"y_scale\":{\"id\":\"1011\"}},\"id\":\"1002\",\"subtype\":\"Figure\",\"type\":\"Plot\"},{\"attributes\":{\"source\":{\"id\":\"1022\"}},\"id\":\"1026\",\"type\":\"CDSView\"},{\"attributes\":{\"line_alpha\":0.1,\"line_color\":\"#1f77b4\",\"x\":{\"field\":\"x\"},\"y\":{\"field\":\"y\"}},\"id\":\"1024\",\"type\":\"Line\"},{\"attributes\":{\"axis\":{\"id\":\"1017\"},\"dimension\":1,\"ticker\":null},\"id\":\"1020\",\"type\":\"Grid\"},{\"attributes\":{},\"id\":\"1032\",\"type\":\"Selection\"},{\"attributes\":{},\"id\":\"1033\",\"type\":\"UnionRenderers\"},{\"attributes\":{\"axis_label\":\"Density [veh/km]\",\"formatter\":{\"id\":\"1028\"},\"ticker\":{\"id\":\"1014\"}},\"id\":\"1013\",\"type\":\"LinearAxis\"},{\"attributes\":{\"active_drag\":\"auto\",\"active_inspect\":\"auto\",\"active_multi\":null,\"active_scroll\":\"auto\",\"active_tap\":\"auto\"},\"id\":\"1021\",\"type\":\"Toolbar\"},{\"attributes\":{\"axis_label\":\"Flow [veh/h]\",\"formatter\":{\"id\":\"1030\"},\"ticker\":{\"id\":\"1018\"}},\"id\":\"1017\",\"type\":\"LinearAxis\"},{\"attributes\":{},\"id\":\"1014\",\"type\":\"BasicTicker\"},{\"attributes\":{\"data\":{\"x\":{\"__ndarray__\":\"AAAAAAAAAADiZXWzq4xgP+JldbOrjHA/0xgwjQHTeD/iZXWzq4yAP1q/UqDWr4Q/0xgwjQHTiD9Mcg16LPaMP+JldbOrjJA/nhLkKUGekj9av1Kg1q+UPxdswRZswZY/0xgwjQHTmD+PxZ4Dl+SaP0xyDXos9pw/CB988MEHnz/iZXWzq4ygP0C8rG52laE/nhLkKUGeoj/8aBvlC6ejP1q/UqDWr6Q/uRWKW6G4pT8XbMEWbMGmP3XC+NE2yqc/0xgwjQHTqD8xb2dIzNupP4/FngOX5Ko/7RvWvmHtqz9Mcg16LPasP6rIRDX3/q0/CB988MEHrz+zutlVRgiwP+JldbOrjLA/ERERERERsT9AvKxudpWxP29nSMzbGbI/nhLkKUGesj/NvX+HpiKzP/xoG+ULp7M/KxS3QnErtD9av1Kg1q+0P4pq7v07NLU/uRWKW6G4tT/owCW5Bj22PxdswRZswbY/RhdddNFFtz91wvjRNsq3P6RtlC+cTrg/0xgwjQHTuD8CxMvqZle5PzFvZ0jM27k/YBoDpjFguj+PxZ4Dl+S6P75wOmH8aLs/7RvWvmHtuz8cx3Ecx3G8P0xyDXos9rw/ex2p15F6vT+qyEQ19/69P9lz4JJcg74/CB988MEHvz83yhdOJ4y/P7O62VVGCMA/SpCnBHlKwD/iZXWzq4zAP3o7Q2LezsA/ERERERERwT+p5t6/Q1PBP0C8rG52lcE/2JF6HanXwT9vZ0jM2xnCPwc9FnsOXMI/nhLkKUGewj826LHYc+DCP829f4emIsM/ZZNNNtlkwz/8aBvlC6fDP5Q+6ZM+6cM/KxS3QnErxD/D6YTxo23EP1q/UqDWr8Q/8pQgTwnyxD+Kau79OzTFPyFAvKxudsU/uRWKW6G4xT9Q61cK1PrFP+jAJbkGPcY/f5bzZzl/xj8XbMEWbMHGP65Bj8WeA8c/RhdddNFFxz/d7CojBIjHP3XC+NE2ysc/DJjGgGkMyD+kbZQvnE7IPztDYt7OkMg/0xgwjQHTyD9r7v07NBXJPwLEy+pmV8k/mpmZmZmZyT8=\",\"dtype\":\"float64\",\"order\":\"little\",\"shape\":[100]},\"y\":{\"__ndarray__\":\"AAAAAAAAAAAxb2dIzNupPzFvZ0jM27k/ZZNNNtlkwz8xb2dIzNvJP36lQK1fKdA/ZZNNNtlk0z9LgVq/UqDWPzFvZ0jM29k/F1100UUX3T9+pUCtXyngP3Icx3Ecx+E/ZZNNNtlk4z9YCtT6lQLlP0uBWr9SoOY/Pvjggw8+6D8xb2dIzNvpPywFav1Kgeo/Lrrooosu6j8yb2dIzNvpPzUk5u0Miek/N9lkk0026T85juM4juPoPzxDYt7OkOg/Pvjggw8+6D9CrV8pUOvnP0Ri3s6QmOc/RxdddNFF5z9JzNsZEvPmP0yBWr9SoOY/TjbZZJNN5j9Q61cK1PrlP1Og1q8UqOU/VlVVVVVV5T9YCtT6lQLlP1q/UqDWr+Q/XnTRRRdd5D9hKVDrVwrkP2PezpCYt+M/ZpNNNtlk4z9oSMzbGRLjP2r9SoFav+I/bbLJJpts4j9wZ0jM2xniP3Icx3Ecx+E/ddFFF1104T93hsS8nSHhP3o7Q2LezuA/ffDBBx984D9/pUCtXyngPwS1fqVArd8/CR988MEH3z8OiXk7Q2LePxTzdobEvN0/GV100UUX3T8ex3Ecx3HcPyIxb2dIzNs/J5tssskm2z8sBWr9SoHaPzJvZ0jM29k/N9lkk0022T88Q2LezpDYP0KtXylQ69c/SBdddNFF1z9MgVq/UqDWP1DrVwrU+tU/VlVVVVVV1T9av1Kg1q/UP2EpUOtXCtQ/ZZNNNtlk0z9s/UqBWr/SP3BnSMzbGdI/dtFFF1100T96O0Ni3s7QP4ClQK1fKdA/CR988MEHzz8W83aGxLzNPx7HcRzHccw/K5tssskmyz8zb2dIzNvJP0BDYt7OkMg/SBdddNFFxz9Q61cK1PrFP12/UqDWr8Q/ZZNNNtlkwz9yZ0jM2xnCP3o7Q2LezsA/Dh988MEHvz8ex3Ecx3G8PzhvZ0jM27k/SBdddNFFtz9iv1Kg1q+0P3JnSMzbGbI/GB988MEHrz84b2dIzNupP2y/UqDWr6Q/GB988MEHnz9Yv1Kg1q+UP4C/UqDWr4Q/AAAAAAAAAIA=\",\"dtype\":\"float64\",\"order\":\"little\",\"shape\":[100]}},\"selected\":{\"id\":\"1032\"},\"selection_policy\":{\"id\":\"1033\"}},\"id\":\"1022\",\"type\":\"ColumnDataSource\"},{\"attributes\":{\"text\":\"Fundamental diagram w: 5, u:25, k_x:0.2\"},\"id\":\"1003\",\"type\":\"Title\"},{\"attributes\":{},\"id\":\"1018\",\"type\":\"BasicTicker\"},{\"attributes\":{},\"id\":\"1007\",\"type\":\"DataRange1d\"},{\"attributes\":{},\"id\":\"1028\",\"type\":\"BasicTickFormatter\"},{\"attributes\":{},\"id\":\"1030\",\"type\":\"BasicTickFormatter\"},{\"attributes\":{},\"id\":\"1009\",\"type\":\"LinearScale\"},{\"attributes\":{\"axis\":{\"id\":\"1013\"},\"ticker\":null},\"id\":\"1016\",\"type\":\"Grid\"},{\"attributes\":{\"data_source\":{\"id\":\"1022\"},\"glyph\":{\"id\":\"1023\"},\"hover_glyph\":null,\"muted_glyph\":null,\"nonselection_glyph\":{\"id\":\"1024\"},\"selection_glyph\":null,\"view\":{\"id\":\"1026\"}},\"id\":\"1025\",\"type\":\"GlyphRenderer\"},{\"attributes\":{},\"id\":\"1011\",\"type\":\"LinearScale\"},{\"attributes\":{},\"id\":\"1005\",\"type\":\"DataRange1d\"},{\"attributes\":{\"line_color\":\"#1f77b4\",\"x\":{\"field\":\"x\"},\"y\":{\"field\":\"y\"}},\"id\":\"1023\",\"type\":\"Line\"}],\"root_ids\":[\"1002\"]},\"title\":\"Bokeh Application\",\"version\":\"2.2.3\"}};\n",
       "  var render_items = [{\"docid\":\"c0bde855-c5de-446c-a20d-f26deddf6dfb\",\"root_ids\":[\"1002\"],\"roots\":{\"1002\":\"16bae7be-767d-4c44-beec-612de29b7a58\"}}];\n",
       "  root.Bokeh.embed.embed_items_notebook(docs_json, render_items);\n",
       "\n",
       "  }\n",
       "  if (root.Bokeh !== undefined) {\n",
       "    embed_document(root);\n",
       "  } else {\n",
       "    var attempts = 0;\n",
       "    var timer = setInterval(function(root) {\n",
       "      if (root.Bokeh !== undefined) {\n",
       "        clearInterval(timer);\n",
       "        embed_document(root);\n",
       "      } else {\n",
       "        attempts++;\n",
       "        if (attempts > 100) {\n",
       "          clearInterval(timer);\n",
       "          console.log(\"Bokeh: ERROR: Unable to run BokehJS code because BokehJS library is missing\");\n",
       "        }\n",
       "      }\n",
       "    }, 10, root)\n",
       "  }\n",
       "})(window);"
      ],
      "application/vnd.bokehjs_exec.v0+json": ""
     },
     "metadata": {
      "application/vnd.bokehjs_exec.v0+json": {
       "id": "1002"
      }
     },
     "output_type": "display_data"
    }
   ],
   "source": [
    "from itstools.vplatoon.traffic import FundamentalDiagram\n",
    "from bokeh.plotting import show\n",
    "\n",
    "f = FundamentalDiagram(w=5,u=25,k_x=0.2)\n",
    "p = f.plot_diagram()\n",
    "show(p)"
   ]
  },
  {
   "cell_type": "markdown",
   "metadata": {},
   "source": [
    "We can easily establish the ***critical density*** which corresponds to the amount of vehicles at which there is maximum flow via"
   ]
  },
  {
   "cell_type": "code",
   "execution_count": 4,
   "metadata": {},
   "outputs": [
    {
     "name": "stdout",
     "output_type": "stream",
     "text": [
      "Capacity: 0.8333333333333334\n",
      "Critical density: 0.03333333333333333\n",
      "Maximum density: 0.2\n",
      "Speed limit: 25\n",
      "Congestion speed: 5\n"
     ]
    }
   ],
   "source": [
    "print(f\"Capacity: {f.C}\")\n",
    "print(f\"Critical density: {f.k_c}\")\n",
    "print(f\"Maximum density: {f.k_x}\")\n",
    "print(f\"Speed limit: {f.u}\")\n",
    "print(f\"Congestion speed: {f.w}\")"
   ]
  },
  {
   "cell_type": "markdown",
   "metadata": {},
   "source": [
    "The critical density represent the minimum tolerable inter-vehicle distance **critical headway space** before vehicles start to decrease their speed. On the other hand when the value of density is maximum, and the flow is 0, the vehicles respect the **minimum headway space** that can be computed from the maximum value of density $\\kappa_x$ via\n",
    "\n",
    "\\begin{aligned}\n",
    "\\kappa_x = \\frac{N}{d} \\approx \\frac{1}{s_0}  \\approx \\frac{1}{l_{\\text{avg}}+s_{\\text{min}}} \n",
    "\\end{aligned}\n",
    "\n",
    "Where $l_{\\text{avg}}$ is the average vehicle length and $s_{text{min}}$ represents the minimum tolerated headway spacing between two vehicles. \n",
    "\n",
    "By computing the case in the fundamental diagram"
   ]
  },
  {
   "cell_type": "code",
   "execution_count": 5,
   "metadata": {},
   "outputs": [
    {
     "name": "stdout",
     "output_type": "stream",
     "text": [
      "Minimum headway space: 5.0\n"
     ]
    }
   ],
   "source": [
    "print(f\"Minimum headway space: {1/f.k_x}\")"
   ]
  },
  {
   "cell_type": "markdown",
   "metadata": {},
   "source": [
    "**Q1**: Supose a vehicle has an average length of $l_{\\text{avg}}=4$ [m] and the minimum tolerable inter vehicle distance is $s_{\\text{min}}=2.25$[m]. Consider the congestion wave speed $w=6.25$ [m/s] and a free flow speed of $u=25$ [m/s]. Compute and plot the fundamental diagram for this case and find the value of the capacity and minimum headway space:\n",
    "\n",
    "<span style= \"color:blue\">Provide your answers below:</span>"
   ]
  },
  {
   "cell_type": "code",
   "execution_count": null,
   "metadata": {},
   "outputs": [],
   "source": []
  },
  {
   "cell_type": "markdown",
   "metadata": {},
   "source": [
    "#### Platooning behaviors and car following model \n",
    "\n",
    "Keep in mind the constants you have computed `K_X`, `W`, `U`, these parameters although apply for pure [car-following](https://en.wikipedia.org/wiki/Microscopic_traffic_flow_model) they will be useful to construct and understand the behavior of truck platoons. \n",
    "\n",
    "Let's consider the following figure.\n",
    "\n",
    "<img src=\"assets/img/p2-cavs.png\" alt=\"drawing\" width=\"600\"/>\n",
    "\n",
    "For the sake of clarity, the following corresponds to the notations for variable description in the model. It is considered the vehicle position of a vehicle as $x_n$ and the headway space between a vehicle and its leader as $s_n = x_{n-1}-x_{n}$. The vehicle's speed and acceleration are defined as $v_n$,$a_n$ respectively. The operator $\\Delta v_n = v_{n-1} - v_{n}$ refers to the difference between the leading vehicle and the following one. \n",
    "\n",
    "By introducing newton's law over one of the vehicles we can consider the following force set up and compute the accelertion given by the following expression: \n",
    "\n",
    "$$\n",
    "a_n(t+T) = a_n(t) + T \\frac{{u(t) - Mg\\mu - {\\scriptsize\\frac{1}{2}}\\rho C_d A v^2_n(t)}}{M} = a_n(t) + T g(C_d,v_n, u_n)\n",
    "$$\n",
    "\n",
    "Where $m$ corresponds to the truck mass, $C_d$ the drag coefficient, $A$ the frontal truck area, $\\rho$ is the density of the air.  \n",
    "\n",
    "Each one of the vehicles can follow the dynamics given by the following dynamic equation\n",
    "\n",
    "\\begin{aligned}\n",
    "\\frac{dx}{dt}\\approx \\frac{x_n(t+T) - x_n(t)}{T} \\rightarrow x_n(t+T) &= x_n(t) + v_n(t)T\\\\\n",
    "\\frac{dv}{dt}\\approx \\frac{v_n(t+T) - v_n(t)}{T} \\rightarrow v_n(t+T) &= v_n(t) + a_n(t) T\\\\\n",
    "\\frac{da}{dt}\\approx \\frac{a_n(t+T) - a_n(t)}{T} \\rightarrow a_n(t+T) &= a_n(t) + T g(C_d,v_n,u_n)\\\\\n",
    "\\end{aligned}\n",
    "\n",
    "*To implement the model a `class` object called `PlatoonDyn` has been implemented. The class intends to emulate these equations and keep track of the vehicle evolution. \n",
    "\n",
    "#### Parameters \n",
    "\n",
    "So far parameters in the model have been fixed although random scenarios can be also considered\n",
    "\n",
    "| Parameter     | Value     | Units |\n",
    ":--------------:|:---------:|:------:\n",
    "$$M$$           | 0.5       |       |\n",
    "$$A$$           | 10        | [m$^2$]\n",
    "$$\\rho$$        | 1.3       | [kg/m$^3$]\n",
    "$${C_d}^\\star$$ | 0.5 - 1.5 | \n",
    "$$\\tau$$        | $$\\frac{1}{wk_x}$$ | [s]\n",
    "$$w$$           | $$6.25$$  | [m/s]\n",
    "$$k_x$$         | $$0.16$$  | [veh/km]\n",
    "$$u_i$$         | $$25$$    | [m/s]\n",
    "\n",
    "\n",
    "$\\star$: ${C_d}$ although is presented as parameter is a coefficient that changes according to the intervehicle distance. For the moment we have not considered the model but we will introduce this further in the system. \n",
    "\n",
    "Please follow step by step variable definition for more detail into simulations. Let define in this case the parameters `M`, `A`, `W`,`K_X` and import the class `VehiclePlatoon` from the submodule `vplatoon.carfollow`. In this time we will use simpler blocks but feel free to give it a look or ask any questions on how this class may work. \n"
   ]
  },
  {
   "cell_type": "markdown",
   "metadata": {},
   "source": [
    "#### Modeling a ACC Closed loop \n",
    "\n",
    "The objective in the upcoming will be to model the following closed loop:\n",
    "\n",
    "<img src=\"assets/img/ctr-acc.png\" alt=\"drawing\" width=\"500\"/>\n",
    "\n",
    "This system is known as a feedback loop where $C(s)$ is denominated the **controller** $G(s)$ is denominated the **process** and the signals $r$, $u$, $y$ are denominated the **reference**, **control** and **output** signals respectively. The symbol in the $r$ signal represents a *step response* meaning the dynamic response of the system when the system changes abruptly from 0 to a particular value. \n",
    "\n",
    "First we are going to simulate this system via simple blocks and then use it to construct a platoon system. Consider just that the approximations of the derivative systems explained in the *Platoon behavior* section can be expressed as *transfer functions* \n",
    "\n",
    "<img src=\"assets/img/acc-det.png\" alt=\"drawing\" width=\"500\"/>\n",
    "\n",
    "$\\tau$ represents the reaction time of the vehicle, $u$ the control signal (applied throttle), $a$ the real accelearation, $v$ the speed of the system. For the moment we are going to select a Proportional Integral Controller. For more details about the controller please see [here](https://fr.wikipedia.org/wiki/Régulateur_PID)"
   ]
  },
  {
   "cell_type": "code",
   "execution_count": 6,
   "metadata": {},
   "outputs": [],
   "source": [
    "from itstools.vplatoon.vehicles import System,Integrator \n",
    "from itstools.vplatoon.pid import PID \n",
    "import numpy as np\n",
    "\n",
    "# Declares each one of the systems\n",
    "g1, g2, g3 = System(), System(), Integrator() # Declaring the system 1/(Tau s + 1) → System and the system 1/s→ Integrator\n",
    "\n",
    "pid = PID(k_p=0.2, k_i=0.015,k_d=0) # PID Controller with initial gains\n",
    "\n",
    "e_v = []\n",
    "r_v = np.concatenate([np.zeros(10),np.concatenate([np.ones(600),0.5*np.ones(600)])]) # Creating reference signal\n",
    "\n",
    "for ct in r_v:\n",
    "    err = ct - g3.x[-1] \n",
    "    e_v.append(err)    \n",
    "    uct = pid(err)\n",
    "    g3(g2(g1(uct)))"
   ]
  },
  {
   "cell_type": "markdown",
   "metadata": {},
   "source": [
    "The foor loop will run over all the samples of $r_v$ and apply each one of the entries to the system. It is possible to check the state of the system by checking the value $x$. Here the sytem allows to query the speed value."
   ]
  },
  {
   "cell_type": "code",
   "execution_count": 7,
   "metadata": {},
   "outputs": [
    {
     "data": {
      "text/html": [
       "\n",
       "\n",
       "\n",
       "\n",
       "\n",
       "\n",
       "  <div class=\"bk-root\" id=\"6f057748-4244-4b35-9053-62572a24c681\" data-root-id=\"1069\"></div>\n"
      ]
     },
     "metadata": {},
     "output_type": "display_data"
    },
    {
     "data": {
      "application/javascript": [
       "(function(root) {\n",
       "  function embed_document(root) {\n",
       "    \n",
       "  var docs_json = {\"0c188374-49e1-412b-bc9d-a2156c9c0db4\":{\"roots\":{\"references\":[{\"attributes\":{\"below\":[{\"id\":\"1078\"}],\"center\":[{\"id\":\"1081\"},{\"id\":\"1085\"},{\"id\":\"1114\"}],\"left\":[{\"id\":\"1082\"}],\"renderers\":[{\"id\":\"1103\"},{\"id\":\"1119\"}],\"title\":{\"id\":\"1105\"},\"toolbar\":{\"id\":\"1093\"},\"x_range\":{\"id\":\"1070\"},\"x_scale\":{\"id\":\"1074\"},\"y_range\":{\"id\":\"1072\"},\"y_scale\":{\"id\":\"1076\"}},\"id\":\"1069\",\"subtype\":\"Figure\",\"type\":\"Plot\"},{\"attributes\":{\"active_drag\":\"auto\",\"active_inspect\":\"auto\",\"active_multi\":null,\"active_scroll\":\"auto\",\"active_tap\":\"auto\",\"tools\":[{\"id\":\"1086\"},{\"id\":\"1087\"},{\"id\":\"1088\"},{\"id\":\"1089\"},{\"id\":\"1090\"},{\"id\":\"1091\"}]},\"id\":\"1093\",\"type\":\"Toolbar\"},{\"attributes\":{},\"id\":\"1087\",\"type\":\"WheelZoomTool\"},{\"attributes\":{},\"id\":\"1089\",\"type\":\"SaveTool\"},{\"attributes\":{},\"id\":\"1090\",\"type\":\"ResetTool\"},{\"attributes\":{},\"id\":\"1091\",\"type\":\"HelpTool\"},{\"attributes\":{\"axis\":{\"id\":\"1078\"},\"ticker\":null},\"id\":\"1081\",\"type\":\"Grid\"},{\"attributes\":{\"line_alpha\":0.1,\"line_color\":\"#1f77b4\",\"x\":{\"field\":\"x\"},\"y\":{\"field\":\"y\"}},\"id\":\"1102\",\"type\":\"Line\"},{\"attributes\":{\"label\":{\"value\":\"v\"},\"renderers\":[{\"id\":\"1103\"}]},\"id\":\"1115\",\"type\":\"LegendItem\"},{\"attributes\":{},\"id\":\"1129\",\"type\":\"Selection\"},{\"attributes\":{\"items\":[{\"id\":\"1115\"},{\"id\":\"1132\"}]},\"id\":\"1114\",\"type\":\"Legend\"},{\"attributes\":{\"line_color\":\"#1f77b4\",\"x\":{\"field\":\"x\"},\"y\":{\"field\":\"y\"}},\"id\":\"1101\",\"type\":\"Line\"},{\"attributes\":{},\"id\":\"1130\",\"type\":\"UnionRenderers\"},{\"attributes\":{},\"id\":\"1076\",\"type\":\"LinearScale\"},{\"attributes\":{\"source\":{\"id\":\"1100\"}},\"id\":\"1104\",\"type\":\"CDSView\"},{\"attributes\":{},\"id\":\"1111\",\"type\":\"Selection\"},{\"attributes\":{\"text\":\"\"},\"id\":\"1105\",\"type\":\"Title\"},{\"attributes\":{},\"id\":\"1086\",\"type\":\"PanTool\"},{\"attributes\":{},\"id\":\"1112\",\"type\":\"UnionRenderers\"},{\"attributes\":{},\"id\":\"1079\",\"type\":\"BasicTicker\"},{\"attributes\":{\"axis\":{\"id\":\"1082\"},\"dimension\":1,\"ticker\":null},\"id\":\"1085\",\"type\":\"Grid\"},{\"attributes\":{},\"id\":\"1107\",\"type\":\"BasicTickFormatter\"},{\"attributes\":{},\"id\":\"1109\",\"type\":\"BasicTickFormatter\"},{\"attributes\":{\"bottom_units\":\"screen\",\"fill_alpha\":0.5,\"fill_color\":\"lightgrey\",\"left_units\":\"screen\",\"level\":\"overlay\",\"line_alpha\":1.0,\"line_color\":\"black\",\"line_dash\":[4,4],\"line_width\":2,\"right_units\":\"screen\",\"top_units\":\"screen\"},\"id\":\"1092\",\"type\":\"BoxAnnotation\"},{\"attributes\":{\"label\":{\"value\":\"r\"},\"renderers\":[{\"id\":\"1119\"}]},\"id\":\"1132\",\"type\":\"LegendItem\"},{\"attributes\":{\"line_color\":\"red\",\"x\":{\"field\":\"x\"},\"y\":{\"field\":\"y\"}},\"id\":\"1117\",\"type\":\"Line\"},{\"attributes\":{\"axis_label\":\"Speed [m/s]\",\"formatter\":{\"id\":\"1109\"},\"ticker\":{\"id\":\"1083\"}},\"id\":\"1082\",\"type\":\"LinearAxis\"},{\"attributes\":{\"data\":{\"x\":[0,1,2,3,4,5,6,7,8,9,10,11,12,13,14,15,16,17,18,19,20,21,22,23,24,25,26,27,28,29,30,31,32,33,34,35,36,37,38,39,40,41,42,43,44,45,46,47,48,49,50,51,52,53,54,55,56,57,58,59,60,61,62,63,64,65,66,67,68,69,70,71,72,73,74,75,76,77,78,79,80,81,82,83,84,85,86,87,88,89,90,91,92,93,94,95,96,97,98,99,100,101,102,103,104,105,106,107,108,109,110,111,112,113,114,115,116,117,118,119,120,121,122,123,124,125,126,127,128,129,130,131,132,133,134,135,136,137,138,139,140,141,142,143,144,145,146,147,148,149,150,151,152,153,154,155,156,157,158,159,160,161,162,163,164,165,166,167,168,169,170,171,172,173,174,175,176,177,178,179,180,181,182,183,184,185,186,187,188,189,190,191,192,193,194,195,196,197,198,199,200,201,202,203,204,205,206,207,208,209,210,211,212,213,214,215,216,217,218,219,220,221,222,223,224,225,226,227,228,229,230,231,232,233,234,235,236,237,238,239,240,241,242,243,244,245,246,247,248,249,250,251,252,253,254,255,256,257,258,259,260,261,262,263,264,265,266,267,268,269,270,271,272,273,274,275,276,277,278,279,280,281,282,283,284,285,286,287,288,289,290,291,292,293,294,295,296,297,298,299,300,301,302,303,304,305,306,307,308,309,310,311,312,313,314,315,316,317,318,319,320,321,322,323,324,325,326,327,328,329,330,331,332,333,334,335,336,337,338,339,340,341,342,343,344,345,346,347,348,349,350,351,352,353,354,355,356,357,358,359,360,361,362,363,364,365,366,367,368,369,370,371,372,373,374,375,376,377,378,379,380,381,382,383,384,385,386,387,388,389,390,391,392,393,394,395,396,397,398,399,400,401,402,403,404,405,406,407,408,409,410,411,412,413,414,415,416,417,418,419,420,421,422,423,424,425,426,427,428,429,430,431,432,433,434,435,436,437,438,439,440,441,442,443,444,445,446,447,448,449,450,451,452,453,454,455,456,457,458,459,460,461,462,463,464,465,466,467,468,469,470,471,472,473,474,475,476,477,478,479,480,481,482,483,484,485,486,487,488,489,490,491,492,493,494,495,496,497,498,499,500,501,502,503,504,505,506,507,508,509,510,511,512,513,514,515,516,517,518,519,520,521,522,523,524,525,526,527,528,529,530,531,532,533,534,535,536,537,538,539,540,541,542,543,544,545,546,547,548,549,550,551,552,553,554,555,556,557,558,559,560,561,562,563,564,565,566,567,568,569,570,571,572,573,574,575,576,577,578,579,580,581,582,583,584,585,586,587,588,589,590,591,592,593,594,595,596,597,598,599,600,601,602,603,604,605,606,607,608,609,610,611,612,613,614,615,616,617,618,619,620,621,622,623,624,625,626,627,628,629,630,631,632,633,634,635,636,637,638,639,640,641,642,643,644,645,646,647,648,649,650,651,652,653,654,655,656,657,658,659,660,661,662,663,664,665,666,667,668,669,670,671,672,673,674,675,676,677,678,679,680,681,682,683,684,685,686,687,688,689,690,691,692,693,694,695,696,697,698,699,700,701,702,703,704,705,706,707,708,709,710,711,712,713,714,715,716,717,718,719,720,721,722,723,724,725,726,727,728,729,730,731,732,733,734,735,736,737,738,739,740,741,742,743,744,745,746,747,748,749,750,751,752,753,754,755,756,757,758,759,760,761,762,763,764,765,766,767,768,769,770,771,772,773,774,775,776,777,778,779,780,781,782,783,784,785,786,787,788,789,790,791,792,793,794,795,796,797,798,799,800,801,802,803,804,805,806,807,808,809,810,811,812,813,814,815,816,817,818,819,820,821,822,823,824,825,826,827,828,829,830,831,832,833,834,835,836,837,838,839,840,841,842,843,844,845,846,847,848,849,850,851,852,853,854,855,856,857,858,859,860,861,862,863,864,865,866,867,868,869,870,871,872,873,874,875,876,877,878,879,880,881,882,883,884,885,886,887,888,889,890,891,892,893,894,895,896,897,898,899,900,901,902,903,904,905,906,907,908,909,910,911,912,913,914,915,916,917,918,919,920,921,922,923,924,925,926,927,928,929,930,931,932,933,934,935,936,937,938,939,940,941,942,943,944,945,946,947,948,949,950,951,952,953,954,955,956,957,958,959,960,961,962,963,964,965,966,967,968,969,970,971,972,973,974,975,976,977,978,979,980,981,982,983,984,985,986,987,988,989,990,991,992,993,994,995,996,997,998,999,1000,1001,1002,1003,1004,1005,1006,1007,1008,1009,1010,1011,1012,1013,1014,1015,1016,1017,1018,1019,1020,1021,1022,1023,1024,1025,1026,1027,1028,1029,1030,1031,1032,1033,1034,1035,1036,1037,1038,1039,1040,1041,1042,1043,1044,1045,1046,1047,1048,1049,1050,1051,1052,1053,1054,1055,1056,1057,1058,1059,1060,1061,1062,1063,1064,1065,1066,1067,1068,1069,1070,1071,1072,1073,1074,1075,1076,1077,1078,1079,1080,1081,1082,1083,1084,1085,1086,1087,1088,1089,1090,1091,1092,1093,1094,1095,1096,1097,1098,1099,1100,1101,1102,1103,1104,1105,1106,1107,1108,1109,1110,1111,1112,1113,1114,1115,1116,1117,1118,1119,1120,1121,1122,1123,1124,1125,1126,1127,1128,1129,1130,1131,1132,1133,1134,1135,1136,1137,1138,1139,1140,1141,1142,1143,1144,1145,1146,1147,1148,1149,1150,1151,1152,1153,1154,1155,1156,1157,1158,1159,1160,1161,1162,1163,1164,1165,1166,1167,1168,1169,1170,1171,1172,1173,1174,1175,1176,1177,1178,1179,1180,1181,1182,1183,1184,1185,1186,1187,1188,1189,1190,1191,1192,1193,1194,1195,1196,1197,1198,1199,1200,1201,1202,1203,1204,1205,1206,1207,1208,1209],\"y\":{\"__ndarray__\":\"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\",\"dtype\":\"float64\",\"order\":\"little\",\"shape\":[1210]}},\"selected\":{\"id\":\"1129\"},\"selection_policy\":{\"id\":\"1130\"}},\"id\":\"1116\",\"type\":\"ColumnDataSource\"},{\"attributes\":{\"axis_label\":\"Time [s]\",\"formatter\":{\"id\":\"1107\"},\"ticker\":{\"id\":\"1079\"}},\"id\":\"1078\",\"type\":\"LinearAxis\"},{\"attributes\":{\"data\":{\"x\":[0,1,2,3,4,5,6,7,8,9,10,11,12,13,14,15,16,17,18,19,20,21,22,23,24,25,26,27,28,29,30,31,32,33,34,35,36,37,38,39,40,41,42,43,44,45,46,47,48,49,50,51,52,53,54,55,56,57,58,59,60,61,62,63,64,65,66,67,68,69,70,71,72,73,74,75,76,77,78,79,80,81,82,83,84,85,86,87,88,89,90,91,92,93,94,95,96,97,98,99,100,101,102,103,104,105,106,107,108,109,110,111,112,113,114,115,116,117,118,119,120,121,122,123,124,125,126,127,128,129,130,131,132,133,134,135,136,137,138,139,140,141,142,143,144,145,146,147,148,149,150,151,152,153,154,155,156,157,158,159,160,161,162,163,164,165,166,167,168,169,170,171,172,173,174,175,176,177,178,179,180,181,182,183,184,185,186,187,188,189,190,191,192,193,194,195,196,197,198,199,200,201,202,203,204,205,206,207,208,209,210,211,212,213,214,215,216,217,218,219,220,221,222,223,224,225,226,227,228,229,230,231,232,233,234,235,236,237,238,239,240,241,242,243,244,245,246,247,248,249,250,251,252,253,254,255,256,257,258,259,260,261,262,263,264,265,266,267,268,269,270,271,272,273,274,275,276,277,278,279,280,281,282,283,284,285,286,287,288,289,290,291,292,293,294,295,296,297,298,299,300,301,302,303,304,305,306,307,308,309,310,311,312,313,314,315,316,317,318,319,320,321,322,323,324,325,326,327,328,329,330,331,332,333,334,335,336,337,338,339,340,341,342,343,344,345,346,347,348,349,350,351,352,353,354,355,356,357,358,359,360,361,362,363,364,365,366,367,368,369,370,371,372,373,374,375,376,377,378,379,380,381,382,383,384,385,386,387,388,389,390,391,392,393,394,395,396,397,398,399,400,401,402,403,404,405,406,407,408,409,410,411,412,413,414,415,416,417,418,419,420,421,422,423,424,425,426,427,428,429,430,431,432,433,434,435,436,437,438,439,440,441,442,443,444,445,446,447,448,449,450,451,452,453,454,455,456,457,458,459,460,461,462,463,464,465,466,467,468,469,470,471,472,473,474,475,476,477,478,479,480,481,482,483,484,485,486,487,488,489,490,491,492,493,494,495,496,497,498,499,500,501,502,503,504,505,506,507,508,509,510,511,512,513,514,515,516,517,518,519,520,521,522,523,524,525,526,527,528,529,530,531,532,533,534,535,536,537,538,539,540,541,542,543,544,545,546,547,548,549,550,551,552,553,554,555,556,557,558,559,560,561,562,563,564,565,566,567,568,569,570,571,572,573,574,575,576,577,578,579,580,581,582,583,584,585,586,587,588,589,590,591,592,593,594,595,596,597,598,599,600,601,602,603,604,605,606,607,608,609,610,611,612,613,614,615,616,617,618,619,620,621,622,623,624,625,626,627,628,629,630,631,632,633,634,635,636,637,638,639,640,641,642,643,644,645,646,647,648,649,650,651,652,653,654,655,656,657,658,659,660,661,662,663,664,665,666,667,668,669,670,671,672,673,674,675,676,677,678,679,680,681,682,683,684,685,686,687,688,689,690,691,692,693,694,695,696,697,698,699,700,701,702,703,704,705,706,707,708,709,710,711,712,713,714,715,716,717,718,719,720,721,722,723,724,725,726,727,728,729,730,731,732,733,734,735,736,737,738,739,740,741,742,743,744,745,746,747,748,749,750,751,752,753,754,755,756,757,758,759,760,761,762,763,764,765,766,767,768,769,770,771,772,773,774,775,776,777,778,779,780,781,782,783,784,785,786,787,788,789,790,791,792,793,794,795,796,797,798,799,800,801,802,803,804,805,806,807,808,809,810,811,812,813,814,815,816,817,818,819,820,821,822,823,824,825,826,827,828,829,830,831,832,833,834,835,836,837,838,839,840,841,842,843,844,845,846,847,848,849,850,851,852,853,854,855,856,857,858,859,860,861,862,863,864,865,866,867,868,869,870,871,872,873,874,875,876,877,878,879,880,881,882,883,884,885,886,887,888,889,890,891,892,893,894,895,896,897,898,899,900,901,902,903,904,905,906,907,908,909,910,911,912,913,914,915,916,917,918,919,920,921,922,923,924,925,926,927,928,929,930,931,932,933,934,935,936,937,938,939,940,941,942,943,944,945,946,947,948,949,950,951,952,953,954,955,956,957,958,959,960,961,962,963,964,965,966,967,968,969,970,971,972,973,974,975,976,977,978,979,980,981,982,983,984,985,986,987,988,989,990,991,992,993,994,995,996,997,998,999,1000,1001,1002,1003,1004,1005,1006,1007,1008,1009,1010,1011,1012,1013,1014,1015,1016,1017,1018,1019,1020,1021,1022,1023,1024,1025,1026,1027,1028,1029,1030,1031,1032,1033,1034,1035,1036,1037,1038,1039,1040,1041,1042,1043,1044,1045,1046,1047,1048,1049,1050,1051,1052,1053,1054,1055,1056,1057,1058,1059,1060,1061,1062,1063,1064,1065,1066,1067,1068,1069,1070,1071,1072,1073,1074,1075,1076,1077,1078,1079,1080,1081,1082,1083,1084,1085,1086,1087,1088,1089,1090,1091,1092,1093,1094,1095,1096,1097,1098,1099,1100,1101,1102,1103,1104,1105,1106,1107,1108,1109,1110,1111,1112,1113,1114,1115,1116,1117,1118,1119,1120,1121,1122,1123,1124,1125,1126,1127,1128,1129,1130,1131,1132,1133,1134,1135,1136,1137,1138,1139,1140,1141,1142,1143,1144,1145,1146,1147,1148,1149,1150,1151,1152,1153,1154,1155,1156,1157,1158,1159,1160,1161,1162,1163,1164,1165,1166,1167,1168,1169,1170,1171,1172,1173,1174,1175,1176,1177,1178,1179,1180,1181,1182,1183,1184,1185,1186,1187,1188,1189,1190,1191,1192,1193,1194,1195,1196,1197,1198,1199,1200,1201,1202,1203,1204,1205,1206,1207,1208,1209,1210],\"y\":[0,0.0,0.0,0.0,0.0,0.0,0.0,0.0,0.0,0.0,0.0,0.022222222222222223,0.05302469135802469,0.08516323731138546,0.11518874790428288,0.14179645819573572,0.16481213684562349,0.18459293907117105,0.20169055791664062,0.21667498007089425,0.2300527964786237,0.2422383987334159,0.2535526264032437,0.2642339487925547,0.2744538825835002,0.28433237368839176,0.29395122387007916,0.30336494410552567,0.3126090807381333,0.3217063537560667,0.3306710358527458,0.33951198711527236,0.34823470166786186,0.35684265131938636,0.36533814322523234,0.3737228505711316,0.3819981291166703,0.3901651974161363,0.39822523295111334,0.4061794183015158,0.414028959023802,0.42177508656234014,0.4294190540823678,0.4369621296694498,0.44440558922903006,0.4517507101745497,0.45899876629459135,0.466151023825902,0.47320873859199963,0.4801731540094799,0.48704549976314615,0.4938269909757237,0.5005188277309796,0.5071221948417656,0.5136382617829085,0.5200681827317658,0.526413096676788,0.5326741275673278,0.5388523844871199,0.5449489618402172,0.5509649395424479,0.556901383214262,0.562759344372634,0.5685398606207805,0.5742439558351197,0.5798726403492644,0.5854269111350451,0.5909077519806443,0.596316133665969,0.601653014135383,0.6069193386679158,0.6121160400450494,0.6172440387161633,0.6223042429617115,0.6272975490541861,0.6322248414169174,0.6370869927807526,0.6418848643386502,0.6466193058982211,0.6512911560322509,0.6559012422272279,0.6604503810299087,0.6649393781919437,0.669369028812593,0.6737401174795531,0.6780534184079245,0.6823096955773411,0.6865097028672869,0.6906541841906239,0.6947438736253555,0.6987794955446474,0.7027617647451291,0.7066913865735012,0.7105690570514662,0.7143954629990104,0.7181712821560535,0.7218971833024921,0.7255738263766546,0.7292018625921907,0.7327819345534158,0.7363146763691302,0.7398007137649334,0.7432406641940537,0.7466351369467128,0.7499847332580446,0.7532900464145866,0.7565516618593643,0.7597701572955853,0.7629461027889637,0.7660800608686913,0.7691725866270731,0.7722242278178473,0.7752355249532026,0.7782070113995172,0.7811392134718274,0.7840326505270505,0.7868878350559747,0.7897052727740308,0.7924854627108668,0.7952288972987371,0.7979360624597219,0.8006074376917949,0.8032434961537533,0.8058447047490245,0.8084115242083647,0.8109444091714639,0.8134438082674732,0.8159101641944668,0.8183439137978528,0.820745488147749,0.8231153126153334,0.8254538069481887,0.8277613853446468,0.8300384565271539,0.8322854238146629,0.8345026851940704,0.83669063339071,0.8388496559379104,0.8409801352456379,0.8430824486682282,0.8451569685712252,0.847204062397334,0.8492240927315038,0.851217417365149,0.8531843893595226,0.8551253571082504,0.8570406643990394,0.8589306504745697,0.8607956500925829,0.8626359935851735,0.864452006917299,0.8662440117445143,0.8680123254699454,0.8697572613005076,0.8714791283023808,0.8731782314557528,0.8748548717088374,0.8765093460311788,0.878141947466252,0.8797529651833664,0.8813426845288848,0.8829113870767631,0.8844593506784253,0.8859868495119754,0.8874941541307602,0.8889815315112914,0.8904492451005324,0.8918975548625598,0.8933267173246104,0.8947369856225158,0.8961286095455392,0.8975018355806188,0.8988569069560259,0.9001940636844454,0.9015135426054877,0.9028155774276383,0.9041003987696521,0.9053682342014018,0.9066193082841847,0.9078538426104978,0.9090720558432868,0.9102741637546758,0.9114603792641851,0.9126309124764442,0.9137859707184066,0.91492575857607,0.9160504779307148,0.9171603279946607,0.918255505346552,0.9193362039661759,0.9204026152688201,0.9214549281391771,0.9224933289647996,0.9235180016691142,0.9245291277439975,0.925526886281923,0.9265114540076815,0.9274830053096836,0.9284417122708477,0.929387744699079,0.9303212701573469,0.9312424539933633,0.9321514593688702,0.9330484472885389,0.9339335766284862,0.9348070041644172,0.9356688845993915,0.9365193705912254,0.9373586127795313,0.9381867598123985,0.9390039583727225,0.9398103532041857,0.9406060871368946,0.9413913011126778,0.9421661342100502,0.9429307236688471,0.9436852049145319,0.9444297115821831,0.945164375540164,0.9458893269134789,0.9466046941068225,0.9473106038273216,0.9480071811069783,0.9486945493248167,0.9493728302287343,0.9500421439570681,0.9507026090598725,0.9513543425199167,0.9519974597734064,0.9526320747304287,0.9532582997951293,0.9538762458856205,0.9544860224536278,0.9550877375038764,0.9556814976132211,0.9562674079495224,0.9568455722902758,0.9574160930409914,0.9579790712533331,0.9585346066430174,0.9590827976074734,0.9596237412432735,0.9601575333633297,0.9606842685138643,0.9612040399911571,0.9617169398580689,0.9622230589603493,0.962722486942726,0.9632153122647835,0.9637016222166315,0.964181502934365,0.9646550394153222,0.9651223155331385,0.9655834140526023,0.9660384166443144,0.9664874038991544,0.9669304553425542,0.9673676494485843,0.9677990636538527,0.9682247743712216,0.9686448570033404,0.9690593859560026,0.9694684346513236,0.9698720755407457,0.9702703801178709,0.9706634189311241,0.9710512615962481,0.9714339768086353,0.971811632355494,0.9721842951278559,0.9725520311324225,0.9729149055032584,0.9732729825133264,0.9736263255858717,0.9739749973056564,0.9743190594300444,0.9746585728999395,0.9749935978505792,0.9753241936221868,0.9756504187704816,0.9759723310770501,0.9762899875595801,0.9766034444819605,0.9769127573642468,0.9772179809924941,0.9775191694284622,0.9778163760191894,0.9781096534064426,0.9783990535360421,0.97868462766706,0.9789664263809017,0.9792444995902632,0.9795188965479726,0.979789665855714,0.9800568554726352,0.9803205127238428,0.9805806843087845,0.9808374163095204,0.9810907541988856,0.9813407428485437,0.9815874265369349,0.9818308489571188,0.9820710532245136,0.9823080818845318,0.9825419769201171,0.9827727797591803,0.9830005312819359,0.9832252718281442,0.9834470412042563,0.9836658786904637,0.9838818230476565,0.9840949125242886,0.9843051848631521,0.9845126773080628,0.9847174266104569,0.9849194690358998,0.98511884037051,0.985315575927298,0.98550971055242,0.985701278631351,0.9858903140949746,0.9860768504255928,0.9862609206628568,0.9864425574096187,0.9866217928377068,0.986798658693623,0.9869731863041669,0.9871454065819834,0.9873153500310385,0.9874830467520224,0.9876485264476806,0.9878118184280753,0.987972951615776,0.9881319545509839,0.9882888553965854,0.9884436819431408,0.9885964616138077,0.9887472214691966,0.9888959882121646,0.9890427881925459,0.9891876474118173,0.9893305915277051,0.9894716458587287,0.9896108353886859,0.9897481847710767,0.9898837183334714,0.990017460081819,0.990149433704699,0.9902796625775176,0.9904081697666476,0.9905349780335138,0.990660109838625,0.9907835873455522,0.9909054324248542,0.9910256666579509,0.9911443113409464,0.9912613874884011,0.9913769158370531,0.9914909168494921,0.9916034107177825,0.9917144173670416,0.9918239564589666,0.9919320473953195,0.9920387093213614,0.9921439611292453,0.9922478214613608,0.9923503087136376,0.9924514410388023,0.9925512363495947,0.9926497123219402,0.9927468863980808,0.9928427757896638,0.9929373974807911,0.9930307682310271,0.9931229045783677,0.9932138228421687,0.993303539126037,0.9933920693206824,0.9934794291067324,0.9935656339575103,0.9936506991417746,0.9937346397264237,0.9938174705791656,0.99389920637115,0.9939798615795683,0.9940594504902158,0.9941379872000242,0.9942154856195571,0.994291959475474,0.9943674223129624,0.9944418874981362,0.9945153682204031,0.9945878774948012,0.9946594281643036,0.9947300329020943,0.9947997042138117,0.9948684544397639,0.9949362957571151,0.9950032401820414,0.9950692995718602,0.9951344856271298,0.9951988098937219,0.9952622837648664,0.9953249184831696,0.9953867251426063,0.9954477146904832,0.995507897929379,0.9955672855190572,0.9956258879783548,0.9956837156870455,0.9957407788876766,0.9957970876873856,0.9958526520596884,0.9959074818462472,0.9959615867586122,0.9960149763799431,0.996067660166706,0.9961196474503482,0.9961709474389511,0.996221569218861,0.9962715217562987,0.9963208138989481,0.9963694543775226,0.9964174518073106,0.9964648146897039,0.9965115514137015,0.9965576702573964,0.9966031793894414,0.9966480868704959,0.9966924006546536,0.996736128590852,0.9967792784242622,0.9968218577976604,0.9968638742527818,0.9969053352316568,0.996946248077929,0.9969866200381552,0.9970264582630899,0.9970657698089511,0.9971045616386709,0.997142840623128,0.9971806135423653,0.99721788708679,0.99725466785836,0.9972909623717514,0.9973267770555141,0.9973621182532093,0.9973969922245338,0.9974314051464284,0.9974653631141717,0.99749887214246,0.9975319381664731,0.9975645670429247,0.9975967645511001,0.9976285363938802,0.9976598881987508,0.9976908255188002,0.9977213538337024,0.9977514785506876,0.9977812050054997,0.9978105384633422,0.9978394841198104,0.9978680471018107,0.9978962324684697,0.9979240452120308,0.9979514902587373,0.9979785724697052,0.9980052966417847,0.9980316675084091,0.9980576897404339,0.9980833679469636,0.9981087066761689,0.998133710416091,0.9981583835954371,0.9981827305843656,0.9982067556952587,0.9982304631834877,0.9982538572481656,0.998276942032891,0.9982997216264831,0.9983222000637042,0.9983443813259758,0.998366269342083,0.9983878679888702,0.9984091810919296,0.9984302124262758,0.9984509657170169,0.9984714446400131,0.998491652822528,0.9985115938438718,0.9985312712360337,0.9985506884843088,0.9985698490279156,0.9985887562606037,0.9986074135312564,0.9986258241444832,0.9986439913612049,0.9986619183992316,0.998679608433833,0.9986970645982998,0.9987142899844992,0.9987312876434227,0.9987480605857262,0.9987646117822635,0.9987809441646125,0.9987970606255943,0.9988129640197854,0.9988286571640232,0.9988441428379065,0.9988594237842854,0.9988745027097485,0.9988893822851022,0.9989040651458442,0.9989185538926288,0.9989328510917295,0.9989469592754914,0.9989608809427818,0.9989746185594313,0.9989881745586715,0.9990015513415652,0.9990147512774326,0.9990277767042699,0.9990406299291643,0.9990533132287023,0.9990658288493723,0.9990781790079643,0.9990903658919601,0.9991023916599227,0.9991142584418777,0.9991259683396914,0.9991375234274414,0.999148925751786,0.9991601773323253,0.9991712801619597,0.9991822362072422,0.9991930474087274,0.9992037156813149,0.9992142429145883,0.9992246309731501,0.9992348816969518,0.9992449969016206,0.9992549783787794,0.9992648278963654,0.9992745471989428,0.9992841380080122,0.9992936020223151,0.9993029409181348,0.999312156349593,0.9993212499489439,0.9993302233268622,0.9993390780727283,0.9993478157549112,0.9993564379210447,0.9993649460983027,0.9993733417936685,0.999381626494203,0.9993898016673075,0.999397868760983,0.9994058292040879,0.9994136844065904,0.9994214357598179,0.9994290846367042,0.9994366323920321,0.9994440803626734,0.9994514298678265,0.9994586822092486,0.9994658386714879,0.9994729005221092,0.9994798690119209,0.9994867453751943,0.9994935308298833,0.9995002265778399,0.9995068338050268,0.999513353681728,0.9995197873627559,0.9995261359876559,0.9995324006809079,0.9995385825521252,0.9995446826962524,0.999550702193758,0.999556642110826,0.9995625034995451,0.9995682873980956,0.9995739948309317,0.9995796268089641,0.999585184329739,0.9995906683776146,0.9995960799239354,0.9996014199272041,0.9996066893332516,0.9996118890754047,0.9996170200746513,0.9996220832398028,0.9996270794676567,0.9996320096431535,0.9996368746395348,0.9996416753184976,0.9996464125303468,0.9996510871141459,0.9996556998978655,0.9996602516985305,0.9996647433223638,0.9996691755649296,0.9996735492112754,0.9996778650360687,0.9996821238037366,0.9996863262685993,0.9996904731750054,0.999694565257462,0.9996986032407666,0.9997025878401338,0.9885954086502118,0.9731980540217506,0.9571326096899833,0.942123632422057,0.9288235053576337,0.917319344827098,0.9074325738734323,0.8988873466174856,0.8913986703493066,0.8847132502226416,0.8786238910585114,0.8729701736825762,0.8676328640441995,0.862526204395939,0.8575902223674248,0.852784017655273,0.848080335341401,0.8434614028169667,0.8389158606433047,0.8344365730217791,0.8300191104496677,0.8256607263985412,0.8213596854905865,0.817114834667771,0.8129253378500201,0.8087905176635513,0.8047097653305426,0.8006824926029226,0.7967081086769405,0.7927860112541456,0.7889155850857896,0.7850962040564302,0.7813272345842857,0.7776080391715392,0.7739379795603621,0.7703164192994203,0.7667427257074415,0.7632162713039887,0.7597364348063844,0.7563026017922201,0.7529141651145734,0.7495705251405229,0.7462710898671976,0.7430152749554036,0.7398025037094176,0.7366322070227741,0.7335038233034307,0.7304167983870953,0.7273705854443246,0.7243646448848625,0.7213984442612809,0.7184714581730932,0.7155831681719593,0.7127330626682674,0.7099206368391999,0.7071453925382829,0.7044068382063785,0.7017044887840588,0.6990378656252977,0.6964064964124239,0.6938099150722855,0.6912476616935829,0.6887192824453359,0.6862243294964574,0.6837623609364063,0.6813329406969024,0.6789356384746816,0.6765700296552768,0.6742356952378086,0.6719322217607713,0.669659201228801,0.6674162310404105,0.665202913916682,0.6630188578308996,0.6608636759391142,0.6587369865116253,0.6566384128653681,0.6545675832971953,0.652524131018041,0.6505076940879534,0.6485179153519882,0.6465544423769484,0.6446169273889607,0.6427050272118774,0.6408184032064923,0.63895672121056,0.6371196514796093,0.6353068686285371,0.633518051573977,0.6317528834774271,0.6300110516891316,0.6282922476927042,0.626596167050482,0.624922509349604,0.6232709781488007,0.6216412809258884,0.620033129025957,0.6184462376102424,0.6168803256056763,0.6153351156551012,0.6138103340681449,0.6123057107727438,0.6108209792673069,0.6093558765735135,0.6079101431897331,0.6064835230450621,0.6050757634539687,0.6036866150715359,0.6023158318492978,0.6009631709916587,0.599628392912889,0.5983112611946889,0.5970115425443138,0.595729006753253,0.5944634266564551,0.5932145780920918,0.5919822398618536,0.5907661936917715,0.5895662241935558,0.5883821188264451,0.5872136678595623,0.5860606643347654,0.5849229040299916,0.5838001854230843,0.5826923096560997,0.5815990805000848,0.5805203043203204,0.5794557900420246,0.5784053491165094,0.5773687954877843,0.5763459455596016,0.575336618162938,0.5743406345239055,0.5733578182320862,0.5723879952092866,0.5714309936787044,0.5704866441345032,0.5695547793117893,0.5686352341569852,0.5677278457985951,0.5668324535183573,0.5659488987227768,0.5650770249150351,0.5642166776672716,0.5633677045932307,0.5625299553212711,0.5617032814677312,0.5608875366106477,0.560082576263821,0.5592882578512228,0.5585044406817443,0.5577309859242751,0.5569677565831141,0.5562146174737045,0.5554714351986894,0.5547380781242842,0.554014416356962,0.5533003217204457,0.5525956677330061,0.5519003295850583,0.551214184117056,0.550537109797677,0.5498689867022971,0.5492096964917491,0.5485591223913623,0.5479171491702791,0.5472836631210453,0.5466585520394696,0.5460417052047503,0.545433013359864,0.5448323686922139,0.5442396648145332,0.5436547967460428,0.5430776608938558,0.5425081550346297,0.5419461782964599,0.5413916311410134,0.5408444153458982,0.5403044339872662,0.5397715914226457,0.5392457932740008,0.5387269464110156,0.5382149589345983,0.5377097401606038,0.5372112006037724,0.5367192519618789,0.5362338071000927,0.5357547800355449,0.535282085922098,0.5348156410353188,0.5343553627576477,0.5339011695637663,0.5334529810061575,0.5330107177008557,0.532574301313387,0.5321436545448942,0.5317187011184451,0.5312993657655227,0.5308855742126933,0.5304772531684511,0.5300743303102365,0.5296767342716266,0.529284394629694,0.5288972418925342,0.5285152074869562,0.5281382237463376,0.5277662238986384,0.5273991420545748,0.527036913195949,0.5266794731641324,0.5263267586487023,0.5259787071762277,0.5256352570992044,0.5252963475851354,0.5249619186057568,0.5246319109264046,0.5243062660955238,0.5239849264343147,0.5236678350265175,0.5233549357083299,0.5230461730584609,0.5227414923883134,0.5224408397322975,0.522144161838273,0.5218514061581161,0.5215625208384131,0.5212774547112754,0.5209961572852767,0.5207185787365096,0.5204446698997612,0.5201743822598045,0.5199076679428054,0.5196444797078431,0.5193847709385432,0.51912849563482,0.5188756084047299,0.5186260644564307,0.5183798195902481,0.5181368301908479,0.5178970532195093,0.5176604462065031,0.5174269672435683,0.5171965749764903,0.5169692285977753,0.5167448878394227,0.5165235129657931,0.5163050647665698,0.5160895045498137,0.5158767941351108,0.5156668958468088,0.5154597725073445,0.5152553874306588,0.5150537044156982,0.5148546877400035,0.5146583021533825,0.5144645128716658,0.5142732855705465,0.5140845863795004,0.5138983818757863,0.513714639078527,0.513533325442867,0.5133544088542082,0.513177857622522,0.5130036404767359,0.5128317265591947,0.5126620854201958,0.5124946870125944,0.5123295016864828,0.5121665001839386,0.5120056536338415,0.5118469335467607,0.5116903118099081,0.5115357606821593,0.5113832527891401,0.5112327611183773,0.5110842590145152,0.5109377201745929,0.5107931186433875,0.5106504288088146,0.5105096253973936,0.5103706834697705,0.5102335784163006,0.5100982859526895,0.5099647821156922,0.5098330432588684,0.5097030460483943,0.5095747674589297,0.5094481847695395,0.5093232755596693,0.509200017705175,0.5090783893744031,0.5089583690243241,0.5088399353967177,0.5087230675144058,0.5086077446775387,0.5084939464599275,0.5083816527054268,0.5082708435243642,0.508161499290018,0.50805360063514,0.5079471284485262,0.5078420638716308,0.5077383882952264,0.5076360833561083,0.507535130933841,0.5074355131475495,0.5073372123527521,0.5072402111382346,0.507144492322967,0.5070500389530602,0.5069568342987631,0.5068648618514993,0.5067741053209429,0.506684548632134,0.50659617592263,0.5065089715396974,0.506422920037539,0.506338006174557,0.5062542149106555,0.5061715314045744,0.506089941011262,0.506009429279281,0.5059299819482482,0.5058515849463089,0.5057742243876451,0.5056978865700149,0.5056225579723265,0.505548225252243,0.5054748752438187,0.5054024949551682,0.5053310715661642,0.505260592426167,0.5051910450517846,0.5051224171246605,0.5050546964892927,0.50498787115088,0.5049219292731979,0.5048568591765024,0.5047926493354604,0.5047292883771093,0.5046667650788418,0.5046050683664186,0.5045441873120068,0.5044841111322442,0.5044248291863297,0.5043663309741381,0.5043086061343605,0.5042516444426692,0.5041954358099069,0.5041399702802989,0.5040852380296907,0.5040312293638077,0.5039779347165373,0.5039253446482356,0.5038734498440548,0.5038222411122938,0.5037717093827695,0.503721845705211,0.5036726412476739,0.5036240872949758,0.503576175247153,0.5035288966179375,0.5034822430332531,0.5034362062297326,0.5033907780532547,0.5033459504574987,0.50330171550252,0.5032580653533437,0.5032149922785767,0.5031724886490382,0.5031305469364088,0.5030891597118967,0.5030483196449222,0.503008019501819,0.5029682521445529,0.502929010529458,0.5028902877059888,0.5028520768154887,0.5028143710899762,0.5027771638509451,0.5027404485081821,0.5027042185585997,0.5026684675850838,0.5026331892553573,0.502598377320859,0.5025640256156364,0.5025301280552533,0.5024966786357129,0.5024636714323936,0.5024311005990001,0.5023989603665276,0.5023672450422403,0.5023359490086627,0.5023050667225849,0.5022745927140807,0.5022445215855388,0.5022148480107067,0.5021855667337475,0.5021566725683083,0.5021281603966027,0.5021000251685033,0.5020722619006477,0.5020448656755561,0.5020178316407594,0.5019911550079409,0.5019648310520872,0.5019388551106518,0.5019132225827291,0.5018879289282395,0.5018629696671254,0.5018383403785575,0.5018140367001517,0.5017900543271966,0.5017663890118912,0.5017430365625921,0.5017199928430716,0.5016972537717842,0.5016748153211449,0.5016526735168146,0.5016308244369974,0.5016092642117445,0.5015879890222701,0.5015669951002742,0.5015462787272756,0.5015258362339529,0.5015056639994948,0.5014857584509589,0.5014661160626384,0.501446733355438,0.501427606896258,0.5014087332973851,0.5013901092158938,0.5013717313530529,0.5013535964537422,0.5013357013058758,0.5013180427398328,0.5013006176278961,0.5012834228836985,0.501266455461676,0.501249712356528,0.5012331906026858,0.5012168872737863,0.5012007994821546,0.5011849243782921,0.5011692591503718,0.5011538010237402,0.5011385472604261,0.5011234951586554,0.5011086420523727,0.5010939853107691,0.501079522337816,0.5010652505718056,0.5010511674848971,0.5010372705826686,0.5010235574036757,0.5010100255190155,0.5009966725318962,0.5009834960772126,0.5009704938211272,0.5009576634606572,0.5009450027232658,0.5009325093664605,0.5009201811773953,0.5009080159724794,0.5008960115969895,0.5008841659246889,0.500872476857451,0.500860942324887,0.5008495602839799,0.5008383287187219,0.5008272456397579,0.5008163090840332,0.500805517114445,0.5007948678195003,0.5007843593129769,0.5007739897335891,0.5007637572446584,0.5007536600337879,0.5007436963125411,0.5007338643161261,0.5007241623030818,0.5007145885549702,0.5007051413760717,0.500695819093085,0.5006866200548306,0.5006775426319581,0.5006685852166582,0.5006597462223773,0.5006510240835366,0.5006424172552554,0.5006339242130765,0.5006255434526972,0.500617273489702,0.5006091128593002,0.5006010601160662,0.5005931138336835,0.5005852726046924,0.5005775350402402,0.5005698997698356,0.5005623654411056,0.5005549307195564,0.5005475942883366,0.5005403548480046,0.5005332111162973,0.5005261618279044,0.500519205734243,0.5005123416032373,0.5005055682191001,0.5004988843821173,0.5004922889084356,0.5004857806298529,0.5004793583936112,0.5004730210621924,0.5004667675131169,0.5004605966387449,0.5004545073460799,0.5004484985565755,0.500442569205944,0.5004367182439681,0.5004309446343149,0.5004252473543525,0.500419625394968,0.50041407776039,0.5004086034680115,0.5004032015482158,0.5003978710442053,0.5003926110118315,0.5003874205194279,0.500382298647645,0.500377244489288,0.500372257149155,0.5003673357438795,0.500362479401773,0.5003576872626718,0.5003529584777834,0.500348292209537,0.5003436876314347,0.5003391439279051,0.5003346602941595,0.5003302359360486,0.5003258700699221,0.5003215619224899,0.5003173107306851,0.500313115741529,0.5003089762119975,0.5003048914088898,0.500300860608698,0.5002968830974797,0.5002929581707308,0.5002890851332614,0.500285263299072,0.5002814919912323,0.5002777705417616,0.5002740982915099,0.500270474590042,0.5002668987955211,0.5002633702745959,0.5002598884022885,0.5002564525618837,0.5002530621448188,0.5002497165505773,0.5002464151865814,0.5002431574680877,0.500239942818083,0.5002367706671831,0.5002336404535305,0.5002305516226963,0.500227503627581,0.5002244959283184,0.5002215279921794,0.5002185992934778,0.500215709313477,0.500212857540299,0.5002100434688321,0.5002072666006432,0.5002045264438882,0.5002018225132256,0.5001991543297306,0.5001965214208094,0.5001939233201165,0.5001913595674716,0.5001888297087784,0.5001863332959438,0.5001838698867983,0.5001814390450188,0.5001790403400499,0.500176673347029,0.5001743376467097,0.5001720328253888,0.5001697584748321,0.5001675141922025,0.5001652995799886,0.5001631142459343,0.5001609578029692,0.5001588298691405,0.5001567300675446,0.5001546580262607,0.5001526133782853,0.5001505957614666,0.5001486048184406]},\"selected\":{\"id\":\"1111\"},\"selection_policy\":{\"id\":\"1112\"}},\"id\":\"1100\",\"type\":\"ColumnDataSource\"},{\"attributes\":{},\"id\":\"1070\",\"type\":\"DataRange1d\"},{\"attributes\":{\"line_alpha\":0.1,\"line_color\":\"red\",\"x\":{\"field\":\"x\"},\"y\":{\"field\":\"y\"}},\"id\":\"1118\",\"type\":\"Line\"},{\"attributes\":{\"data_source\":{\"id\":\"1100\"},\"glyph\":{\"id\":\"1101\"},\"hover_glyph\":null,\"muted_glyph\":null,\"nonselection_glyph\":{\"id\":\"1102\"},\"selection_glyph\":null,\"view\":{\"id\":\"1104\"}},\"id\":\"1103\",\"type\":\"GlyphRenderer\"},{\"attributes\":{\"source\":{\"id\":\"1116\"}},\"id\":\"1120\",\"type\":\"CDSView\"},{\"attributes\":{\"data_source\":{\"id\":\"1116\"},\"glyph\":{\"id\":\"1117\"},\"hover_glyph\":null,\"muted_glyph\":null,\"nonselection_glyph\":{\"id\":\"1118\"},\"selection_glyph\":null,\"view\":{\"id\":\"1120\"}},\"id\":\"1119\",\"type\":\"GlyphRenderer\"},{\"attributes\":{},\"id\":\"1072\",\"type\":\"DataRange1d\"},{\"attributes\":{},\"id\":\"1074\",\"type\":\"LinearScale\"},{\"attributes\":{\"overlay\":{\"id\":\"1092\"}},\"id\":\"1088\",\"type\":\"BoxZoomTool\"},{\"attributes\":{},\"id\":\"1083\",\"type\":\"BasicTicker\"}],\"root_ids\":[\"1069\"]},\"title\":\"Bokeh Application\",\"version\":\"2.2.3\"}};\n",
       "  var render_items = [{\"docid\":\"0c188374-49e1-412b-bc9d-a2156c9c0db4\",\"root_ids\":[\"1069\"],\"roots\":{\"1069\":\"6f057748-4244-4b35-9053-62572a24c681\"}}];\n",
       "  root.Bokeh.embed.embed_items_notebook(docs_json, render_items);\n",
       "\n",
       "  }\n",
       "  if (root.Bokeh !== undefined) {\n",
       "    embed_document(root);\n",
       "  } else {\n",
       "    var attempts = 0;\n",
       "    var timer = setInterval(function(root) {\n",
       "      if (root.Bokeh !== undefined) {\n",
       "        clearInterval(timer);\n",
       "        embed_document(root);\n",
       "      } else {\n",
       "        attempts++;\n",
       "        if (attempts > 100) {\n",
       "          clearInterval(timer);\n",
       "          console.log(\"Bokeh: ERROR: Unable to run BokehJS code because BokehJS library is missing\");\n",
       "        }\n",
       "      }\n",
       "    }, 10, root)\n",
       "  }\n",
       "})(window);"
      ],
      "application/vnd.bokehjs_exec.v0+json": ""
     },
     "metadata": {
      "application/vnd.bokehjs_exec.v0+json": {
       "id": "1069"
      }
     },
     "output_type": "display_data"
    }
   ],
   "source": [
    "from bokeh.plotting import figure\n",
    "\n",
    "p = figure()\n",
    "p.line(np.arange(len(g3.x)),g3.x, legend_label = \"v\")\n",
    "p.line(np.arange(len(r_v)),r_v,color='red',legend_label = \"r\")\n",
    "p.xaxis.axis_label=\"Time [s]\"\n",
    "p.yaxis.axis_label=\"Speed [m/s]\"\n",
    "p.legend.location = \"top_right\";\n",
    "show(p)"
   ]
  },
  {
   "cell_type": "markdown",
   "metadata": {},
   "source": [
    "The fact that the signal $v$ tries to pursuit the signal $r$ is the nature of the *controlled* system. In the further questions you will explore how this behavior can be changed in terms of the parameters.  "
   ]
  },
  {
   "cell_type": "markdown",
   "metadata": {},
   "source": [
    "**Q2**: Let's consider the same exercise performed before, but now assume that the change in speed reference `r_v` (red signal) is not of value 1 but of value 5 instead. Perform a closed loop simulation and plot the results for the speed. In addition create a list called `u_v` for the signal `uctr`, append the values and plot also the result of this signal \n",
    "\n",
    "<span style= \"color:blue\">Provide your answers below:</span>"
   ]
  },
  {
   "cell_type": "code",
   "execution_count": null,
   "metadata": {},
   "outputs": [],
   "source": []
  },
  {
   "cell_type": "markdown",
   "metadata": {},
   "source": [
    "**Q3**: As you have observed the behavior was apriori pre established via fixed constants of the PID controller in particular `k_p`,`k_i`, `k_d`. For the moment let's fix the value of `k_d=0` and let's modify the value of `k_p` in the interval $[0.2,1]$ and the values of $k_i$ in the interval $[0.015,0.2]$. Select values in these intervals and observe how the dynamical response changes. Trace the behavior for the $v$ in time as well as the value of $u$ in time for different parameters\n",
    "\n",
    "<span style= \"color:blue\">Provide your answers below:</span>"
   ]
  },
  {
   "cell_type": "code",
   "execution_count": null,
   "metadata": {},
   "outputs": [],
   "source": []
  },
  {
   "cell_type": "code",
   "execution_count": 8,
   "metadata": {},
   "outputs": [],
   "source": [
    "g1, g2, g3, g4 = System(), System(), Integrator(), Integrator()\n",
    "\n",
    "# Declares each one of the systems\n",
    "pid = PID(k_p=0.2, k_i=0.015,k_d=0)\n",
    "\n",
    "e_x = []\n",
    "r_x = np.concatenate([np.zeros(10),\n",
    "                      np.cumsum(np.concatenate([np.ones(500),0.5*np.ones(500)]))])\n",
    "\n",
    "for ct in r_x:\n",
    "    err = ct - g4.x[-1]\n",
    "    e_x.append(err)    \n",
    "    uct = pid(err)\n",
    "    g4(g3(g2(g1(uct))))"
   ]
  },
  {
   "cell_type": "markdown",
   "metadata": {},
   "source": [
    "The foor loop will run over all the samples of $r_s$ and apply each one of the entries to the system. It is possible to check the state of the system by checking the value $x$. Here the sytem allows to query the position value."
   ]
  },
  {
   "cell_type": "code",
   "execution_count": 9,
   "metadata": {},
   "outputs": [
    {
     "data": {
      "text/html": [
       "\n",
       "\n",
       "\n",
       "\n",
       "\n",
       "\n",
       "  <div class=\"bk-root\" id=\"62d3ad72-fba9-429c-99f4-e27e3c829f91\" data-root-id=\"1206\"></div>\n"
      ]
     },
     "metadata": {},
     "output_type": "display_data"
    },
    {
     "data": {
      "application/javascript": [
       "(function(root) {\n",
       "  function embed_document(root) {\n",
       "    \n",
       "  var docs_json = {\"4a26754a-393b-4520-b6db-af96399d6a70\":{\"roots\":{\"references\":[{\"attributes\":{\"below\":[{\"id\":\"1215\"}],\"center\":[{\"id\":\"1218\"},{\"id\":\"1222\"},{\"id\":\"1251\"}],\"left\":[{\"id\":\"1219\"}],\"renderers\":[{\"id\":\"1240\"},{\"id\":\"1256\"}],\"title\":{\"id\":\"1242\"},\"toolbar\":{\"id\":\"1230\"},\"x_range\":{\"id\":\"1207\"},\"x_scale\":{\"id\":\"1211\"},\"y_range\":{\"id\":\"1209\"},\"y_scale\":{\"id\":\"1213\"}},\"id\":\"1206\",\"subtype\":\"Figure\",\"type\":\"Plot\"},{\"attributes\":{\"line_alpha\":0.1,\"line_color\":\"#1f77b4\",\"x\":{\"field\":\"x\"},\"y\":{\"field\":\"y\"}},\"id\":\"1239\",\"type\":\"Line\"},{\"attributes\":{\"line_color\":\"#1f77b4\",\"x\":{\"field\":\"x\"},\"y\":{\"field\":\"y\"}},\"id\":\"1238\",\"type\":\"Line\"},{\"attributes\":{\"line_color\":\"red\",\"x\":{\"field\":\"x\"},\"y\":{\"field\":\"y\"}},\"id\":\"1254\",\"type\":\"Line\"},{\"attributes\":{},\"id\":\"1224\",\"type\":\"WheelZoomTool\"},{\"attributes\":{\"axis\":{\"id\":\"1219\"},\"dimension\":1,\"ticker\":null},\"id\":\"1222\",\"type\":\"Grid\"},{\"attributes\":{\"source\":{\"id\":\"1237\"}},\"id\":\"1241\",\"type\":\"CDSView\"},{\"attributes\":{\"axis_label\":\"Position [m]\",\"formatter\":{\"id\":\"1246\"},\"ticker\":{\"id\":\"1220\"}},\"id\":\"1219\",\"type\":\"LinearAxis\"},{\"attributes\":{},\"id\":\"1216\",\"type\":\"BasicTicker\"},{\"attributes\":{},\"id\":\"1213\",\"type\":\"LinearScale\"},{\"attributes\":{\"active_drag\":\"auto\",\"active_inspect\":\"auto\",\"active_multi\":null,\"active_scroll\":\"auto\",\"active_tap\":\"auto\",\"tools\":[{\"id\":\"1223\"},{\"id\":\"1224\"},{\"id\":\"1225\"},{\"id\":\"1226\"},{\"id\":\"1227\"},{\"id\":\"1228\"}]},\"id\":\"1230\",\"type\":\"Toolbar\"},{\"attributes\":{\"overlay\":{\"id\":\"1229\"}},\"id\":\"1225\",\"type\":\"BoxZoomTool\"},{\"attributes\":{},\"id\":\"1223\",\"type\":\"PanTool\"},{\"attributes\":{},\"id\":\"1220\",\"type\":\"BasicTicker\"},{\"attributes\":{\"text\":\"\"},\"id\":\"1242\",\"type\":\"Title\"},{\"attributes\":{},\"id\":\"1211\",\"type\":\"LinearScale\"},{\"attributes\":{},\"id\":\"1226\",\"type\":\"SaveTool\"},{\"attributes\":{},\"id\":\"1248\",\"type\":\"Selection\"},{\"attributes\":{\"axis_label\":\"Time [s]\",\"formatter\":{\"id\":\"1244\"},\"ticker\":{\"id\":\"1216\"}},\"id\":\"1215\",\"type\":\"LinearAxis\"},{\"attributes\":{\"axis\":{\"id\":\"1215\"},\"ticker\":null},\"id\":\"1218\",\"type\":\"Grid\"},{\"attributes\":{},\"id\":\"1249\",\"type\":\"UnionRenderers\"},{\"attributes\":{\"data_source\":{\"id\":\"1237\"},\"glyph\":{\"id\":\"1238\"},\"hover_glyph\":null,\"muted_glyph\":null,\"nonselection_glyph\":{\"id\":\"1239\"},\"selection_glyph\":null,\"view\":{\"id\":\"1241\"}},\"id\":\"1240\",\"type\":\"GlyphRenderer\"},{\"attributes\":{},\"id\":\"1228\",\"type\":\"HelpTool\"},{\"attributes\":{\"data\":{\"x\":[0,1,2,3,4,5,6,7,8,9,10,11,12,13,14,15,16,17,18,19,20,21,22,23,24,25,26,27,28,29,30,31,32,33,34,35,36,37,38,39,40,41,42,43,44,45,46,47,48,49,50,51,52,53,54,55,56,57,58,59,60,61,62,63,64,65,66,67,68,69,70,71,72,73,74,75,76,77,78,79,80,81,82,83,84,85,86,87,88,89,90,91,92,93,94,95,96,97,98,99,100,101,102,103,104,105,106,107,108,109,110,111,112,113,114,115,116,117,118,119,120,121,122,123,124,125,126,127,128,129,130,131,132,133,134,135,136,137,138,139,140,141,142,143,144,145,146,147,148,149,150,151,152,153,154,155,156,157,158,159,160,161,162,163,164,165,166,167,168,169,170,171,172,173,174,175,176,177,178,179,180,181,182,183,184,185,186,187,188,189,190,191,192,193,194,195,196,197,198,199,200,201,202,203,204,205,206,207,208,209,210,211,212,213,214,215,216,217,218,219,220,221,222,223,224,225,226,227,228,229,230,231,232,233,234,235,236,237,238,239,240,241,242,243,244,245,246,247,248,249,250,251,252,253,254,255,256,257,258,259,260,261,262,263,264,265,266,267,268,269,270,271,272,273,274,275,276,277,278,279,280,281,282,283,284,285,286,287,288,289,290,291,292,293,294,295,296,297,298,299,300,301,302,303,304,305,306,307,308,309,310,311,312,313,314,315,316,317,318,319,320,321,322,323,324,325,326,327,328,329,330,331,332,333,334,335,336,337,338,339,340,341,342,343,344,345,346,347,348,349,350,351,352,353,354,355,356,357,358,359,360,361,362,363,364,365,366,367,368,369,370,371,372,373,374,375,376,377,378,379,380,381,382,383,384,385,386,387,388,389,390,391,392,393,394,395,396,397,398,399,400,401,402,403,404,405,406,407,408,409,410,411,412,413,414,415,416,417,418,419,420,421,422,423,424,425,426,427,428,429,430,431,432,433,434,435,436,437,438,439,440,441,442,443,444,445,446,447,448,449,450,451,452,453,454,455,456,457,458,459,460,461,462,463,464,465,466,467,468,469,470,471,472,473,474,475,476,477,478,479,480,481,482,483,484,485,486,487,488,489,490,491,492,493,494,495,496,497,498,499,500,501,502,503,504,505,506,507,508,509,510,511,512,513,514,515,516,517,518,519,520,521,522,523,524,525,526,527,528,529,530,531,532,533,534,535,536,537,538,539,540,541,542,543,544,545,546,547,548,549,550,551,552,553,554,555,556,557,558,559,560,561,562,563,564,565,566,567,568,569,570,571,572,573,574,575,576,577,578,579,580,581,582,583,584,585,586,587,588,589,590,591,592,593,594,595,596,597,598,599,600,601,602,603,604,605,606,607,608,609,610,611,612,613,614,615,616,617,618,619,620,621,622,623,624,625,626,627,628,629,630,631,632,633,634,635,636,637,638,639,640,641,642,643,644,645,646,647,648,649,650,651,652,653,654,655,656,657,658,659,660,661,662,663,664,665,666,667,668,669,670,671,672,673,674,675,676,677,678,679,680,681,682,683,684,685,686,687,688,689,690,691,692,693,694,695,696,697,698,699,700,701,702,703,704,705,706,707,708,709,710,711,712,713,714,715,716,717,718,719,720,721,722,723,724,725,726,727,728,729,730,731,732,733,734,735,736,737,738,739,740,741,742,743,744,745,746,747,748,749,750,751,752,753,754,755,756,757,758,759,760,761,762,763,764,765,766,767,768,769,770,771,772,773,774,775,776,777,778,779,780,781,782,783,784,785,786,787,788,789,790,791,792,793,794,795,796,797,798,799,800,801,802,803,804,805,806,807,808,809,810,811,812,813,814,815,816,817,818,819,820,821,822,823,824,825,826,827,828,829,830,831,832,833,834,835,836,837,838,839,840,841,842,843,844,845,846,847,848,849,850,851,852,853,854,855,856,857,858,859,860,861,862,863,864,865,866,867,868,869,870,871,872,873,874,875,876,877,878,879,880,881,882,883,884,885,886,887,888,889,890,891,892,893,894,895,896,897,898,899,900,901,902,903,904,905,906,907,908,909,910,911,912,913,914,915,916,917,918,919,920,921,922,923,924,925,926,927,928,929,930,931,932,933,934,935,936,937,938,939,940,941,942,943,944,945,946,947,948,949,950,951,952,953,954,955,956,957,958,959,960,961,962,963,964,965,966,967,968,969,970,971,972,973,974,975,976,977,978,979,980,981,982,983,984,985,986,987,988,989,990,991,992,993,994,995,996,997,998,999,1000,1001,1002,1003,1004,1005,1006,1007,1008,1009,1010],\"y\":[0,0.0,0.0,0.0,0.0,0.0,0.0,0.0,0.0,0.0,0.0,0.0,0.022222222222222223,0.09796296296296296,0.26024691358024693,0.5396378600823046,0.9618271262002743,1.5462797210791037,2.3055583432403597,3.2451193083434946,4.363461838549341,5.65255479556583,7.09848481543238,8.682278449518556,10.380854393974559,12.168063368265088,14.01577431487795,15.894967143464388,17.776794589222717,19.633579001395262,21.43971398378774,23.172445652370158,24.812513684497034,26.344638113768408,27.75784376752258,29.04562014506496,30.20592019872622,31.241006728637746,32.157159780506994,32.964262415657174,33.675285406389236,34.30569373157919,34.87279917418982,35.39508385292075,35.891519183792234,36.3809036210911,36.881240652234226,37.40917601951123,37.979510130975385,38.604798231603056,39.29504726896716,40.05751464100827,40.896610289519536,41.813900026418715,42.808204663924215,43.875786562763224,45.01061269556662,46.204681307538,47.448397784971185,48.730984435297906,50.040908540933025,51.36631325493333,52.695436623543884,54.01700519781534,55.32059026952497,56.596916661502085,57.83811613805117,59.03791979252864,60.19178613051949,61.296963914897084,62.352491094619275,63.35913323098089,64.31926670107882,65.2367135472419,66.11653611399971,66.9648005444383,67.78831878212472,68.59437894252814,69.39047379047699,70.18403661018857,70.9821930140383,71.79153624586664,72.61793234094696,73.4663601588643,74.34078986104078,75.24410191555768,76.17804723098907,77.14324759784192,78.13923429598145,79.16452154833414,80.21671049755527,81.29261857796067,82.38842856655141,83.49985123291357,84.62229536862328,85.75103905536793,86.8813963131562,88.00887373544523,89.12931234133931,90.23901062680036,91.33482564483617,92.41424985514054,93.47546242254651,94.51735457766489,95.53952955087595,96.54227842396486,97.52653398737114,98.49380532482365,99.44609635541445,100.38581193535786,101.31565535237768,102.23852113452931,103.1573870467745,104.07520897167296,104.99482207790454,105.918851287992,106.84963358309243,107.78915414836464,108.73899778848903,109.70031645091765,110.67381310534535,111.65974166149073,112.65792208152126,113.6677693739898,114.68833475587908,115.71835694816622,116.75632133490927,117.80052456966169,118.84914215627161,119.90029656102357,120.95212352404303,122.00283442187889,123.05077278012668,124.09446333318,125.13265236490454,126.16433842579796,127.188792895469,128.20557023080724,129.21450809754256,130.21571791467755,131.20956663763457,132.19665085874442,133.17776450665812,134.15386157515496,135.1260154044649,136.09537607445554,137.0631274506046,138.03044535409964,138.99845821172477,139.9682113857632,140.940636196313,141.91652443625168,142.89650895104862,143.88105062026906,144.87043184328348,145.8647564062672,146.86395539820074,147.86779865649828,148.87591106324987,149.88779288481933,150.90284325336665,151.92038583015835,152.93969566739895,153.9600262966673,154.98063611567318,156.00081321777617,157.01989790654181,158.0373022559084,159.0525262102239,160.0651698621519,161.0749416948412,162.08166272254684,163.0852666061059,164.08579595179964,165.08339512023252,166.07829997267658,167.07082506336667,168.0613488457917,169.05029749822876,170.03812798852897,171.02531099117755,172.0123142422922,172.99958687250037,173.98754519606047,174.9765603600842,175.96694817348092,176.95896134464158,177.95278426331276,178.94853036889907,179.94624205771154,180.94589299830034,181.9473926494574,182.95059271180685,183.9552951926929,184.96126172640754,185.96822376822695,186.97589327130294,187.98397345975673,188.99216932847372,190.00019752884475,191.0077953384553,192.0147284596501,193.02079744497786,194.02584260463266,195.02974731000216,196.03243966622307,197.03389258324557,198.03412232752584,199.03318568352702,200.03117589441885,201.02821758372073,202.02446088345897,203.0200750093438,204.01524152948528,205.01014757052286,206.00497919428912,206.99991516005647,207.99512126302244,208.99074541013408,209.98691356090785,210.98372662490343,211.9812583703107,212.97955436103365,213.97863190394395,214.9784809547749,215.97906590141716,216.9803281179846,217.98218916257514,218.9845544765813,219.98731743394393,220.99036358490378,221.99357494043244,222.99683415026504,224.0000284388192,225.0030531786365,226.00581499959907,227.00823435324446,228.01024747419427,229.01180770416624,230.0128861674226,231.01347180903625,232.01357082830967,233.0132055584334,234.01241285950994,235.0112421049845,236.0097528510561,237.0080122846372,238.00609254787787,239.0040680362736,240.0020127631475,240.99999787615707,241.99808940181077,242.99634628225746,243.99481875533377,244.99354711455084,245.99256087091476,246.99187832372598,247.9915065332916,248.99144167526129,249.99166974446018,250.9921675659636,251.99290406299696,252.9938417252161,253.99493821712582,254.99614806483044,255.99742435992573,256.998720421989,257.9999913656145,259.001195524025,260.0022956886704,261.00326013259513,262.0040633943669,263.0046868086865,264.00511877909975,265.00535479719684,266.00539722102917,267.0052548329484,268.0049422034651,269.0044788928843,270.0038885262861,271.0031977798262,272.0024353173281,273.0016307157617,274.0008134165437,275.00001173677094,275.99925197067125,276.998557606905,277.99794868208073,278.9974412851635,279.9970472215772,280.99677383993463,281.99662401867454,282.9965963046166,283.9966851907307,284.99688151637685,285.99717297001223,286.9975446719535,287.9979798132549,288.9984603261296,289.9989675615708,290.99948295087114,291.9999886295118,293.0004680043039,294.0009062475923,295.0012907056526,296.0016112119969,297.0018603000072,298.0020333130178,299.0021284135348,300.0021464966045,301.0020910153193,302.00196772900244,303.00178438666865,304.00155035988564,305.00127624012566,306.0009734161026,307.0006536464465,308.0003286424193,309.0000096742551,309.99970721319653,310.9994306194503,311.9991878841957,312.9989854315188,313.9988279838116,314.99871849183745,315.9986581284172,316.9986463425919,317.99868096923643,318.99875838749176,319.9988737200786,320.99902106459257,321.9991937472699,322.9993845894525,323.99958617706915,324.999791123857,325.99999231975085,327.0001831568194,328.0003577262921,329.0005109815359,330.00063886326757,331.00073838475765,332.0008076762567,333.0008459892921,334.0008536628084,335.00083205431093,336.0007834401876,337.000710890209,338.0006181218138,339.00050934017565,340.0003890702129,341.0002619866475,342.0001327479661,343.00000583969364,343.9998854317884,344.99977525423964,345.99967849411235,346.9995977163923,347.99953481005144,348.99949095982765,349.99946664331605,350.99946165213487,351.99947513517805,352.9995056613277,353.99955129847615,354.9996097053248,355.99967823218003,356.99975402686067,357.9998341418668,358.9999156391157,359.99999568883214,361.0000716595553,362.0001411966875,363.00020228753124,364.0002533113286,365.0002930734014,366.00032082307615,367.00033625564396,368.000339499131,369.00033108712887,370.00031191934045,371.00028321182236,372.0002464391532,373.0002032709084,374.00015550489167,375.0001049995529,376.00005360792113,377.0000031152079,377.9999551819976,378.9999112946524,379.99987272422754,380.99984049483857,381.9998153620511,382.9997978014959,383.99978800755343,384.99978590162266,385.9997911491869,386.9998031846361,387.999821242597,388.9998443943657,389.999871587944,390.99990169013245,391.99993352914885,392.9999659363029,393.99999778536625,395.0000280284289,396.00005572721346,397.0000800790283,398.00010043676446,399.0001163225744,400.000127435103,401.00013365036654,402.0001350165857,403.0001317434659,404.00012418658036,405.0001128276442,406.00009825156144,407.00008112119315,408.0000621508207,409.00004207926975,410.00002164362206,411.00000155437465,411.99998247280837,412.9999649912163,413.99994961650907,414.9999367575737,415.99992671661585,416.999919684567,417.99991574049886,418.99991485485214,419.9999168961699,420.9999216409219,421.99992878592593,422.99993796280694,423.9999487538994,424.9999607089766,425.9999733621995,426.9999862486986,427.9999989202478,429.0000109595487,430.000021992714,431.0000316996237,432.00003982191697,433.0000461684715,434.0000506183202,435.0000531210406,436.0000536947374,437.00005242181305,438.0000494427874,439.0000449484761,440.0000391708825,441.0000323731747,442.00002483913937,443.00001686249334,444.00000873642426,445.00000074370035,445.9999931476556,446.9999861843071,447.99998005581324,448.9999749254224,449.9999709140038,450.99996809819595,451.99996651014834,452.99996613878193,453.9999669324456,454.9999688028046,455.99997162976433,456.99997526720983,457.9999795493209,458.99998429722194,459.9999893257214,460.99999444991,461.99999949140044,463.0000042840179,464.00000867877634,465.00001254801157,466.0000157885738,467.0000183240239,468.0000201058087,469.00002111343196,470.00002135366697,471.0000208588882,472.0000196846248,473.00001790646036,474.0000156164177,475.0000129189781,476.0000099268899,477.00000675691786,478.0000035256815,479.00000034571804,479.99999732189053,480.99999454824615,481.99999210540557,482.9999900585441,483.9999884560027,484.99998732854056,485.9999866892232,486.9999865339138,487.99998684232116,488.9999875795391,489.9999886979979,490.9999901397423,491.9999918389399,492.9999937245238,493.999995722873,494.9999977604375,495.99999976622246,497.00000167405506,498.00000342456826,499.00000496685016,500.0000062597195,501.00000727260567,502.0000079860222,502.9888972805304,503.95102701050604,504.86988484298723,505.7301889069122,506.51909357035373,507.22686636523895,507.8472259837872,508.37744431296306,508.81827178810465,509.1737240247447,509.4507577496508,509.65885972889595,509.80957065188005,509.9159651910217,509.99210890109714,510.05251184661364,510.1115976723164,510.18320520889154,510.2801376528982,510.41377193838144,510.5937382128711,510.82767644072527,511.12107418528785,511.47718667077015,511.8970373927725,512.3794949219623,512.9214192062304,513.5178686866609,514.162357950753,514.8471544854124,515.5636023788547,516.3024605552895,517.0542432944806,517.8095513614649,518.5593830091516,519.2954153673322,520.0102482369748,520.697604004261,521.3524792072627,521.9712451614864,522.5516969125033,523.0930515721508,523.5958987527727,524.0621072924562,524.4946937227099,524.8976589375604,525.2758002587933,525.6345065455141,525.9795441669032,526.3168415541636,526.6522796891267,526.9914952984218,527.3397027355916,527.701539586091,528.0809399623186,528.4810383101328,528.9041053676241,529.3515167429797,529.8237534505035,530.3204326979137,530.8403662850251,531.3816431794289,531.9417321983676,532.5176002608719,533.1058413870616,533.7028115126388,534.3047642503002,534.9079829547991,535.5089048185749,536.1042332200527,536.6910351435572,537.2668211627214,537.829606201531,538.3779500316871,538.9109772054404,539.4283768346077,539.930383286592,540.4177394572689,540.8916447824043,541.3536905514618,541.8057853818908,542.2500738940112,542.6888516961817,543.1244797506508,543.5593010494017,543.9955622965804,544.4353429824255,544.8804938577271,545.3325863938279,545.7928743579255,546.2622681639871,546.7413221925882,547.2302348240821,547.7288605129512,548.2367328593473,548.7530973169311,549.276951921978,549.8070942426253,550.3421726317822,550.8807398228008,551.421306931245,551.9623960145759,552.5025894878966,553.0405748900723,553.5751837312944,554.105423420337,554.63050155672,555.1498421689947,555.6630937749092,556.1701294224129,556.6710391333384,557.1661154063281,557.6558326357136,558.1408214636433,558.6218392004587,559.0997375214222,559.5754286762651,560.0498514330816,560.5239379226063,560.9985824569197,561.4746132731475,561.9527680036106,562.4336735055253,562.9178305024723,563.4056033032128,563.8972146776669,564.3927457911991,564.8921409324696,565.3952166219262,565.9016745616227,566.4111177855697,566.9230692953811,567.4369924196542,567.9523121174094,568.468436455126,568.9847775217049,569.5007711035285,570.0158945195008,570.5296821098751,571.0417379787476,571.5517457041202,572.0594748471135,572.5647842090725,573.0676218980255,573.5680223706416,574.0661007093747,574.5620444743031,575.0561035332948,575.5485783212147,576.0398070082423,576.5301520689364,577.019986738002,577.5096818169039,577.9995932591065,578.4900509127992,578.9813487408234,579.4737367706691,579.967414955541,580.4625290532958,580.9591685561567,581.4573666330018,581.9571019799598,582.4583024159962,582.9608500097661,583.4645874834896,583.969325609826,584.4748512991234,584.9809360670384,585.4873445760161,585.9938429577949,586.5002066469693,587.006227486427,587.5117199027304,588.0165259916363,588.520519399241,589.0236079310293,589.5257348677083,590.0268790115651,590.5270535287862,591.0263036904369,591.5247036466524,592.0223523941786,592.5193691162461,593.0158880855408,593.5120533257508,594.008013225013,594.5039152860131,594.9999011831142,595.4961022775133,595.9926357179638,596.4896012280589,596.9870786525175,597.4851263054206,597.9837801339418,598.4830536828266,598.9829388185566,599.4834071486089,599.9844120511164,600.4858912140558,600.9877695711762,601.489962514418,601.9923792595594,602.4949262431553,602.9975104342086,603.5000424530458,604.0024394020741,604.5046273278665,605.0065432507481,605.5081367160547,606.0093708398334,606.5102228402948,607.0106840641788,607.5107595338022,608.0104670554033,608.5098359421029,609.0089054150188,609.5077227536046,610.006341271019,610.5048181922473,611.0032125118823,611.5015829051082,611.9999857597398,612.4984733895028,612.9970924794268,613.4958828036907,613.9948762449111,614.4940961321395,614.9935569031426,615.4932640852728,615.9932145787634,616.4933972169035,616.9937935695293,617.4943789498135,617.9951235795616,618.495993865236,618.9969537356947,619.4979659931405,619.9989936308789,620.5000010750662,621.0009553124502,621.5018268719749,622.0025906347548,622.50322645408,623.0037195745041,623.504060846441,624.0042467398075,624.5042791668511,625.0041651302326,625.5039162174852,626.0035479670623,626.5030791341958,627.0025308866848,627.5019259615193,628.001287812933,628.5006397811577,629.000004308906,629.4994022295654,629.9988521473992,630.4983699258648,630.9979682956496,631.4976565893674,631.9974406052047,632.4973225973224,632.997301386649,633.4973725819625,633.997528897963,634.4977605544561,634.998055738864,635.4984011130764,635.9987823451548,636.4991846465946,636.999593296674,637.4999941368387,638.0003740199754,638.5007212017612,639.0010256639048,639.5012793619417,640.0014763931824,640.501613083346,641.0016879932411,641.5017018494867,642.0016574056268,642.5015592420098,643.0014135144334,643.5012276627629,644.0010100914919,644.5007698345308,645.0005162163953,645.5002585214476,646.0000056819507,646.4997659944988,646.9995468729152,647.4993546440536,647.9991943911466,648.4990698474892,648.9989833413981,649.4989357916028,649.9989267505618,650.4989544917106,650.9990161353699,651.4991078070154,651.9992248208487,652.4993618811202,652.9995132934625,653.4996731785527,653.9998356807547,654.4999951649486,655.0001463955136,655.5002846923492,656.0004060598708,656.5005072860424,657.0005860096771,657.5006407554033,658.0006709368216,658.5006768294229,659.0006595157815,659.500620806338,660.0005631397426,660.5004894672069,661.000403125621,661.5003077043207,662.0002069103467,662.5001044368337,663.0000038388157,663.4999084202585,663.9998211355455,664.4997445079899,664.999680567229,665.4996308066218,665.9995961610366,666.4995770047028,666.9995731681408,667.4995839725908,667.9996082798517,668.4996445550315,668.999690939405,669.4997453303802,669.9998054654935,670.499869007381,670.999933626797,671.4999970809783,672.0000572849456,672.5001123737055,673.0001607537275,673.5002011425215,674.0002325956052,674.5002545206137,675.0002666787536,675.5002691742204,676.0002624325721,676.5002471693715,677.0002243506771,677.5001951471417,678.0001608836155,678.5001229861919,679.0000829286226,679.5000421799505,680.0000021550637,680.4999641696927,680.9999294011357,681.49989885574,681.9998733438827,682.4998534629009,682.9998395881287,683.4998318719179,683.9998302502523,684.4998344563335,684.9998440403069,685.4998583941418,685.9998767805464,686.499898364731,686.999922247792,687.4999475005033,687.9999731963493,688.4999984427241,689.0000224093352,689.5000443530022,690.0000636381982,690.5000797528667,691.0000923192259,691.5001010994624,692.0001059963877,692.5001070493039,693.0001044254714,693.5000984076967,694.0000893786685,694.5000778027398,695.0000642059115,695.5000491547839,696.0000332352494,696.5000170316532,697.0000011071102,697.499985985575,697.9999721361862,698.4999599602891,698.9999497814374,699.499941838554,699.9999362823156,700.4999331747129,700.9999324916342,701.499934128226,701.9999379067003,702.4999435861985,702.9999508742678,703.4999594394767,703.999968924684,704.4999789604761,704.999989178312,705.4999992229431,706.0000087637286,706.5000175045225,707.0000251918697,707.500031621327,708.0000366417923,708.5000401578004,709.0000421298162,709.50004257262,710.0000415519412,710.5000391795452,711.0000356070242,711.500031018566,712.0000256230041,712.5000196454523,713.0000133188303,713.5000068755731,714.000000539794,714.4999945201419,714.9999890035606,715.4999841501098,715.9999800889696,716.4999769157009,716.9999746907869,717.4999734394382,717.9999731526021,718.499973789077,718.9999752786024,719.49997752577,719.999980414578,720.4999838134418,720.9999875804677,721.4999915687974,721.9999956318368,722.4999996282015,723.000003426225,723.5000069078984,724.0000099721427,724.5000125373341,725.000014543038,725.5000159509354,726.0000167449521,726.5000169306275,727.0000165337876,727.5000155986003,728.0000141851128,728.5000123663831,729.0000102253213,729.5000078513655,730.0000053371116,730.5000027750142,731.0000002542671,731.4999978579577,731.9999956605791,732.4999937259631,732.9999921056844,733.4999908379629,733.9999899470746,734.4999894432675,734.9999893231549,735.4999895705492,735.9999901576859,736.499991046773,736.9999921917987,737.4999935405225,737.99999503657,738.4999966215586,738.9999982371787,739.4999998271617,740.0000013390758,740.5000027258976,741.0000039473168,741.500004970746,742.0000057720144,742.5000063357429,743.0000066553988,743.5000067330504,744.0000065788436,744.5000062102315,745.000005650999,745.5000049301241,746.0000040805228,746.5000031377288,747.0000021385524,747.500001119769,748.0000001168758,748.4999991629593,748.9999982877029,749.4999975165625,749.9999968701288,750.4999963636872]},\"selected\":{\"id\":\"1248\"},\"selection_policy\":{\"id\":\"1249\"}},\"id\":\"1237\",\"type\":\"ColumnDataSource\"},{\"attributes\":{\"line_alpha\":0.1,\"line_color\":\"red\",\"x\":{\"field\":\"x\"},\"y\":{\"field\":\"y\"}},\"id\":\"1255\",\"type\":\"Line\"},{\"attributes\":{},\"id\":\"1244\",\"type\":\"BasicTickFormatter\"},{\"attributes\":{\"source\":{\"id\":\"1253\"}},\"id\":\"1257\",\"type\":\"CDSView\"},{\"attributes\":{},\"id\":\"1209\",\"type\":\"DataRange1d\"},{\"attributes\":{\"label\":{\"value\":\"r\"},\"renderers\":[{\"id\":\"1256\"}]},\"id\":\"1269\",\"type\":\"LegendItem\"},{\"attributes\":{},\"id\":\"1246\",\"type\":\"BasicTickFormatter\"},{\"attributes\":{},\"id\":\"1207\",\"type\":\"DataRange1d\"},{\"attributes\":{},\"id\":\"1267\",\"type\":\"UnionRenderers\"},{\"attributes\":{\"data\":{\"x\":[0,1,2,3,4,5,6,7,8,9,10,11,12,13,14,15,16,17,18,19,20,21,22,23,24,25,26,27,28,29,30,31,32,33,34,35,36,37,38,39,40,41,42,43,44,45,46,47,48,49,50,51,52,53,54,55,56,57,58,59,60,61,62,63,64,65,66,67,68,69,70,71,72,73,74,75,76,77,78,79,80,81,82,83,84,85,86,87,88,89,90,91,92,93,94,95,96,97,98,99,100,101,102,103,104,105,106,107,108,109,110,111,112,113,114,115,116,117,118,119,120,121,122,123,124,125,126,127,128,129,130,131,132,133,134,135,136,137,138,139,140,141,142,143,144,145,146,147,148,149,150,151,152,153,154,155,156,157,158,159,160,161,162,163,164,165,166,167,168,169,170,171,172,173,174,175,176,177,178,179,180,181,182,183,184,185,186,187,188,189,190,191,192,193,194,195,196,197,198,199,200,201,202,203,204,205,206,207,208,209,210,211,212,213,214,215,216,217,218,219,220,221,222,223,224,225,226,227,228,229,230,231,232,233,234,235,236,237,238,239,240,241,242,243,244,245,246,247,248,249,250,251,252,253,254,255,256,257,258,259,260,261,262,263,264,265,266,267,268,269,270,271,272,273,274,275,276,277,278,279,280,281,282,283,284,285,286,287,288,289,290,291,292,293,294,295,296,297,298,299,300,301,302,303,304,305,306,307,308,309,310,311,312,313,314,315,316,317,318,319,320,321,322,323,324,325,326,327,328,329,330,331,332,333,334,335,336,337,338,339,340,341,342,343,344,345,346,347,348,349,350,351,352,353,354,355,356,357,358,359,360,361,362,363,364,365,366,367,368,369,370,371,372,373,374,375,376,377,378,379,380,381,382,383,384,385,386,387,388,389,390,391,392,393,394,395,396,397,398,399,400,401,402,403,404,405,406,407,408,409,410,411,412,413,414,415,416,417,418,419,420,421,422,423,424,425,426,427,428,429,430,431,432,433,434,435,436,437,438,439,440,441,442,443,444,445,446,447,448,449,450,451,452,453,454,455,456,457,458,459,460,461,462,463,464,465,466,467,468,469,470,471,472,473,474,475,476,477,478,479,480,481,482,483,484,485,486,487,488,489,490,491,492,493,494,495,496,497,498,499,500,501,502,503,504,505,506,507,508,509,510,511,512,513,514,515,516,517,518,519,520,521,522,523,524,525,526,527,528,529,530,531,532,533,534,535,536,537,538,539,540,541,542,543,544,545,546,547,548,549,550,551,552,553,554,555,556,557,558,559,560,561,562,563,564,565,566,567,568,569,570,571,572,573,574,575,576,577,578,579,580,581,582,583,584,585,586,587,588,589,590,591,592,593,594,595,596,597,598,599,600,601,602,603,604,605,606,607,608,609,610,611,612,613,614,615,616,617,618,619,620,621,622,623,624,625,626,627,628,629,630,631,632,633,634,635,636,637,638,639,640,641,642,643,644,645,646,647,648,649,650,651,652,653,654,655,656,657,658,659,660,661,662,663,664,665,666,667,668,669,670,671,672,673,674,675,676,677,678,679,680,681,682,683,684,685,686,687,688,689,690,691,692,693,694,695,696,697,698,699,700,701,702,703,704,705,706,707,708,709,710,711,712,713,714,715,716,717,718,719,720,721,722,723,724,725,726,727,728,729,730,731,732,733,734,735,736,737,738,739,740,741,742,743,744,745,746,747,748,749,750,751,752,753,754,755,756,757,758,759,760,761,762,763,764,765,766,767,768,769,770,771,772,773,774,775,776,777,778,779,780,781,782,783,784,785,786,787,788,789,790,791,792,793,794,795,796,797,798,799,800,801,802,803,804,805,806,807,808,809,810,811,812,813,814,815,816,817,818,819,820,821,822,823,824,825,826,827,828,829,830,831,832,833,834,835,836,837,838,839,840,841,842,843,844,845,846,847,848,849,850,851,852,853,854,855,856,857,858,859,860,861,862,863,864,865,866,867,868,869,870,871,872,873,874,875,876,877,878,879,880,881,882,883,884,885,886,887,888,889,890,891,892,893,894,895,896,897,898,899,900,901,902,903,904,905,906,907,908,909,910,911,912,913,914,915,916,917,918,919,920,921,922,923,924,925,926,927,928,929,930,931,932,933,934,935,936,937,938,939,940,941,942,943,944,945,946,947,948,949,950,951,952,953,954,955,956,957,958,959,960,961,962,963,964,965,966,967,968,969,970,971,972,973,974,975,976,977,978,979,980,981,982,983,984,985,986,987,988,989,990,991,992,993,994,995,996,997,998,999,1000,1001,1002,1003,1004,1005,1006,1007,1008,1009],\"y\":{\"__ndarray__\":\"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\",\"dtype\":\"float64\",\"order\":\"little\",\"shape\":[1010]}},\"selected\":{\"id\":\"1266\"},\"selection_policy\":{\"id\":\"1267\"}},\"id\":\"1253\",\"type\":\"ColumnDataSource\"},{\"attributes\":{},\"id\":\"1227\",\"type\":\"ResetTool\"},{\"attributes\":{\"data_source\":{\"id\":\"1253\"},\"glyph\":{\"id\":\"1254\"},\"hover_glyph\":null,\"muted_glyph\":null,\"nonselection_glyph\":{\"id\":\"1255\"},\"selection_glyph\":null,\"view\":{\"id\":\"1257\"}},\"id\":\"1256\",\"type\":\"GlyphRenderer\"},{\"attributes\":{\"items\":[{\"id\":\"1252\"},{\"id\":\"1269\"}],\"location\":\"top_left\"},\"id\":\"1251\",\"type\":\"Legend\"},{\"attributes\":{},\"id\":\"1266\",\"type\":\"Selection\"},{\"attributes\":{\"bottom_units\":\"screen\",\"fill_alpha\":0.5,\"fill_color\":\"lightgrey\",\"left_units\":\"screen\",\"level\":\"overlay\",\"line_alpha\":1.0,\"line_color\":\"black\",\"line_dash\":[4,4],\"line_width\":2,\"right_units\":\"screen\",\"top_units\":\"screen\"},\"id\":\"1229\",\"type\":\"BoxAnnotation\"},{\"attributes\":{\"label\":{\"value\":\"x\"},\"renderers\":[{\"id\":\"1240\"}]},\"id\":\"1252\",\"type\":\"LegendItem\"}],\"root_ids\":[\"1206\"]},\"title\":\"Bokeh Application\",\"version\":\"2.2.3\"}};\n",
       "  var render_items = [{\"docid\":\"4a26754a-393b-4520-b6db-af96399d6a70\",\"root_ids\":[\"1206\"],\"roots\":{\"1206\":\"62d3ad72-fba9-429c-99f4-e27e3c829f91\"}}];\n",
       "  root.Bokeh.embed.embed_items_notebook(docs_json, render_items);\n",
       "\n",
       "  }\n",
       "  if (root.Bokeh !== undefined) {\n",
       "    embed_document(root);\n",
       "  } else {\n",
       "    var attempts = 0;\n",
       "    var timer = setInterval(function(root) {\n",
       "      if (root.Bokeh !== undefined) {\n",
       "        clearInterval(timer);\n",
       "        embed_document(root);\n",
       "      } else {\n",
       "        attempts++;\n",
       "        if (attempts > 100) {\n",
       "          clearInterval(timer);\n",
       "          console.log(\"Bokeh: ERROR: Unable to run BokehJS code because BokehJS library is missing\");\n",
       "        }\n",
       "      }\n",
       "    }, 10, root)\n",
       "  }\n",
       "})(window);"
      ],
      "application/vnd.bokehjs_exec.v0+json": ""
     },
     "metadata": {
      "application/vnd.bokehjs_exec.v0+json": {
       "id": "1206"
      }
     },
     "output_type": "display_data"
    }
   ],
   "source": [
    "p = figure()\n",
    "p.line(np.arange(len(g4.x)),g4.x,legend_label = \"x\")\n",
    "p.line(np.arange(len(r_x)),r_x,color='red',legend_label = \"r\")\n",
    "p.xaxis.axis_label=\"Time [s]\"\n",
    "p.yaxis.axis_label=\"Position [m]\"\n",
    "p.legend.location = \"top_left\";\n",
    "show(p)"
   ]
  },
  {
   "cell_type": "markdown",
   "metadata": {},
   "source": [
    "**Q4**: Re run the simulation by storing the signal `uctr` in a variable `u_x`. Trace and observe the behavior of three variables in time. `e_x`, `u_x` and the corresponding speed. \n",
    "\n",
    "<span style= \"color:blue\">Provide your answers below:</span>"
   ]
  },
  {
   "cell_type": "code",
   "execution_count": null,
   "metadata": {},
   "outputs": [],
   "source": []
  },
  {
   "cell_type": "markdown",
   "metadata": {},
   "source": [
    "**Q5**: Again, as you have observed the behavior was apriori pre established via fixed constants of the PID controller in particular `k_p`,`k_i`, `k_d`. Again modify slightly the values of $k_p$ and $k_i$ and trace the signals $x$, $v$, $e_x$ and $u_x$ for a change in this case. What could be the potential effects of this control?\n",
    "\n",
    "<span style= \"color:blue\">Provide your answers below:</span>\n"
   ]
  },
  {
   "cell_type": "code",
   "execution_count": null,
   "metadata": {},
   "outputs": [],
   "source": []
  },
  {
   "cell_type": "markdown",
   "metadata": {},
   "source": [
    "#### Building up a platoon of two vehicles \n",
    "\n",
    "In order to  connect a platoon of two vehicles in this case we need to create a chain of systems like the ones before studied. For this purpose we are going to use the same kind of building blocks. Note that in this case we need to provide a reference for *headway space* that needs to be transformed into position. Let's consider the following block diagram with two of the already simulated systems.\n",
    "\n",
    "\n",
    "<img src=\"assets/img/cacc-det2.png\" alt=\"drawing\" width=\"700\"/>\n",
    "\n",
    "The idea is to put in cascade two controlled systems by computing the reference of the second one starting from the first one. Let's use again the same basic blocks \n"
   ]
  },
  {
   "cell_type": "code",
   "execution_count": 10,
   "metadata": {},
   "outputs": [
    {
     "data": {
      "text/html": [
       "\n",
       "\n",
       "\n",
       "\n",
       "\n",
       "\n",
       "  <div class=\"bk-root\" id=\"5fa8c1bf-bfee-4a70-af91-e5be1488f419\" data-root-id=\"1354\"></div>\n"
      ]
     },
     "metadata": {},
     "output_type": "display_data"
    },
    {
     "data": {
      "application/javascript": [
       "(function(root) {\n",
       "  function embed_document(root) {\n",
       "    \n",
       "  var docs_json = {\"6d4be216-45bc-44d2-b74b-9e2ae9f1e040\":{\"roots\":{\"references\":[{\"attributes\":{\"below\":[{\"id\":\"1363\"}],\"center\":[{\"id\":\"1366\"},{\"id\":\"1370\"},{\"id\":\"1399\"}],\"left\":[{\"id\":\"1367\"}],\"renderers\":[{\"id\":\"1388\"},{\"id\":\"1404\"},{\"id\":\"1421\"},{\"id\":\"1440\"}],\"title\":{\"id\":\"1390\"},\"toolbar\":{\"id\":\"1378\"},\"x_range\":{\"id\":\"1355\"},\"x_scale\":{\"id\":\"1359\"},\"y_range\":{\"id\":\"1357\"},\"y_scale\":{\"id\":\"1361\"}},\"id\":\"1354\",\"subtype\":\"Figure\",\"type\":\"Plot\"},{\"attributes\":{},\"id\":\"1368\",\"type\":\"BasicTicker\"},{\"attributes\":{},\"id\":\"1397\",\"type\":\"UnionRenderers\"},{\"attributes\":{\"axis\":{\"id\":\"1367\"},\"dimension\":1,\"ticker\":null},\"id\":\"1370\",\"type\":\"Grid\"},{\"attributes\":{\"label\":{\"value\":\"r1\"},\"renderers\":[{\"id\":\"1421\"}]},\"id\":\"1436\",\"type\":\"LegendItem\"},{\"attributes\":{},\"id\":\"1392\",\"type\":\"BasicTickFormatter\"},{\"attributes\":{},\"id\":\"1433\",\"type\":\"Selection\"},{\"attributes\":{},\"id\":\"1355\",\"type\":\"DataRange1d\"},{\"attributes\":{\"axis\":{\"id\":\"1363\"},\"ticker\":null},\"id\":\"1366\",\"type\":\"Grid\"},{\"attributes\":{},\"id\":\"1376\",\"type\":\"HelpTool\"},{\"attributes\":{},\"id\":\"1394\",\"type\":\"BasicTickFormatter\"},{\"attributes\":{\"axis_label\":\"Position [m]\",\"formatter\":{\"id\":\"1394\"},\"ticker\":{\"id\":\"1368\"}},\"id\":\"1367\",\"type\":\"LinearAxis\"},{\"attributes\":{\"data\":{\"x\":[0,1,2,3,4,5,6,7,8,9,10,11,12,13,14,15,16,17,18,19,20,21,22,23,24,25,26,27,28,29,30,31,32,33,34,35,36,37,38,39,40,41,42,43,44,45,46,47,48,49,50,51,52,53,54,55,56,57,58,59,60,61,62,63,64,65,66,67,68,69,70,71,72,73,74,75,76,77,78,79,80,81,82,83,84,85,86,87,88,89,90,91,92,93,94,95,96,97,98,99,100,101,102,103,104,105,106,107,108,109,110,111,112,113,114,115,116,117,118,119,120,121,122,123,124,125,126,127,128,129,130,131,132,133,134,135,136,137,138,139,140,141,142,143,144,145,146,147,148,149,150,151,152,153,154,155,156,157,158,159,160,161,162,163,164,165,166,167,168,169,170,171,172,173,174,175,176,177,178,179,180,181,182,183,184,185,186,187,188,189,190,191,192,193,194,195,196,197,198,199,200,201,202,203,204,205,206,207,208,209,210,211,212,213,214,215,216,217,218,219,220,221,222,223,224,225,226,227,228,229,230,231,232,233,234,235,236,237,238,239,240,241,242,243,244,245,246,247,248,249,250,251,252,253,254,255,256,257,258,259,260,261,262,263,264,265,266,267,268,269,270,271,272,273,274,275,276,277,278,279,280,281,282,283,284,285,286,287,288,289,290,291,292,293,294,295,296,297,298,299,300,301,302,303,304,305,306,307,308,309,310,311,312,313,314,315,316,317,318,319,320,321,322,323,324,325,326,327,328,329,330,331,332,333,334,335,336,337,338,339,340,341,342,343,344,345,346,347,348,349,350,351,352,353,354,355,356,357,358,359,360,361,362,363,364,365,366,367,368,369,370,371,372,373,374,375,376,377,378,379,380,381,382,383,384,385,386,387,388,389,390,391,392,393,394,395,396,397,398,399,400,401,402,403,404,405,406,407,408,409,410,411,412,413,414,415,416,417,418,419,420,421,422,423,424,425,426,427,428,429,430,431,432,433,434,435,436,437,438,439,440,441,442,443,444,445,446,447,448,449,450,451,452,453,454,455,456,457,458,459,460,461,462,463,464,465,466,467,468,469,470,471,472,473,474,475,476,477,478,479,480,481,482,483,484,485,486,487,488,489,490,491,492,493,494,495,496,497,498,499,500,501,502,503,504,505,506,507,508,509,510,511,512,513,514,515,516,517,518,519,520,521,522,523,524,525,526,527,528,529,530,531,532,533,534,535,536,537,538,539,540,541,542,543,544,545,546,547,548,549,550,551,552,553,554,555,556,557,558,559,560,561,562,563,564,565,566,567,568,569,570,571,572,573,574,575,576,577,578,579,580,581,582,583,584,585,586,587,588,589,590,591,592,593,594,595,596,597,598,599,600,601,602,603,604,605,606,607,608,609,610,611,612,613,614,615,616,617,618,619,620,621,622,623,624,625,626,627,628,629,630,631,632,633,634,635,636,637,638,639,640,641,642,643,644,645,646,647,648,649,650,651,652,653,654,655,656,657,658,659,660,661,662,663,664,665,666,667,668,669,670,671,672,673,674,675,676,677,678,679,680,681,682,683,684,685,686,687,688,689,690,691,692,693,694,695,696,697,698,699,700,701,702,703,704,705,706,707,708,709,710,711,712,713,714,715,716,717,718,719,720,721,722,723,724,725,726,727,728,729,730,731,732,733,734,735,736,737,738,739,740,741,742,743,744,745,746,747,748,749,750,751,752,753,754,755,756,757,758,759,760,761,762,763,764,765,766,767,768,769,770,771,772,773,774,775,776,777,778,779,780,781,782,783,784,785,786,787,788,789,790,791,792,793,794,795,796,797,798,799,800,801,802,803,804,805,806,807,808,809,810,811,812,813,814,815,816,817,818,819,820,821,822,823,824,825,826,827,828,829,830,831,832,833,834,835,836,837,838,839,840,841,842,843,844,845,846,847,848,849,850,851,852,853,854,855,856,857,858,859,860,861,862,863,864,865,866,867,868,869,870,871,872,873,874,875,876,877,878,879,880,881,882,883,884,885,886,887,888,889,890,891,892,893,894,895,896,897,898,899,900,901,902,903,904,905,906,907,908,909,910,911,912,913,914,915,916,917,918,919,920,921,922,923,924,925,926,927,928,929,930,931,932,933,934,935,936,937,938,939,940,941,942,943,944,945,946,947,948,949,950,951,952,953,954,955,956,957,958,959,960,961,962,963,964,965,966,967,968,969,970,971,972,973,974,975,976,977,978,979,980,981,982,983,984,985,986,987,988,989,990,991,992,993,994,995,996,997,998,999,1000,1001,1002,1003,1004,1005,1006,1007,1008,1009],\"y\":{\"__ndarray__\":\"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\",\"dtype\":\"float64\",\"order\":\"little\",\"shape\":[1010]}},\"selected\":{\"id\":\"1433\"},\"selection_policy\":{\"id\":\"1434\"}},\"id\":\"1418\",\"type\":\"ColumnDataSource\"},{\"attributes\":{},\"id\":\"1434\",\"type\":\"UnionRenderers\"},{\"attributes\":{\"bottom_units\":\"screen\",\"fill_alpha\":0.5,\"fill_color\":\"lightgrey\",\"left_units\":\"screen\",\"level\":\"overlay\",\"line_alpha\":1.0,\"line_color\":\"black\",\"line_dash\":[4,4],\"line_width\":2,\"right_units\":\"screen\",\"top_units\":\"screen\"},\"id\":\"1377\",\"type\":\"BoxAnnotation\"},{\"attributes\":{},\"id\":\"1357\",\"type\":\"DataRange1d\"},{\"attributes\":{\"data_source\":{\"id\":\"1401\"},\"glyph\":{\"id\":\"1402\"},\"hover_glyph\":null,\"muted_glyph\":null,\"nonselection_glyph\":{\"id\":\"1403\"},\"selection_glyph\":null,\"view\":{\"id\":\"1405\"}},\"id\":\"1404\",\"type\":\"GlyphRenderer\"},{\"attributes\":{\"line_color\":\"#1f77b4\",\"x\":{\"field\":\"x\"},\"y\":{\"field\":\"y\"}},\"id\":\"1402\",\"type\":\"Line\"},{\"attributes\":{\"line_color\":\"red\",\"x\":{\"field\":\"x\"},\"y\":{\"field\":\"y\"}},\"id\":\"1438\",\"type\":\"Line\"},{\"attributes\":{\"data\":{\"x\":[0,1,2,3,4,5,6,7,8,9,10,11,12,13,14,15,16,17,18,19,20,21,22,23,24,25,26,27,28,29,30,31,32,33,34,35,36,37,38,39,40,41,42,43,44,45,46,47,48,49,50,51,52,53,54,55,56,57,58,59,60,61,62,63,64,65,66,67,68,69,70,71,72,73,74,75,76,77,78,79,80,81,82,83,84,85,86,87,88,89,90,91,92,93,94,95,96,97,98,99,100,101,102,103,104,105,106,107,108,109,110,111,112,113,114,115,116,117,118,119,120,121,122,123,124,125,126,127,128,129,130,131,132,133,134,135,136,137,138,139,140,141,142,143,144,145,146,147,148,149,150,151,152,153,154,155,156,157,158,159,160,161,162,163,164,165,166,167,168,169,170,171,172,173,174,175,176,177,178,179,180,181,182,183,184,185,186,187,188,189,190,191,192,193,194,195,196,197,198,199,200,201,202,203,204,205,206,207,208,209,210,211,212,213,214,215,216,217,218,219,220,221,222,223,224,225,226,227,228,229,230,231,232,233,234,235,236,237,238,239,240,241,242,243,244,245,246,247,248,249,250,251,252,253,254,255,256,257,258,259,260,261,262,263,264,265,266,267,268,269,270,271,272,273,274,275,276,277,278,279,280,281,282,283,284,285,286,287,288,289,290,291,292,293,294,295,296,297,298,299,300,301,302,303,304,305,306,307,308,309,310,311,312,313,314,315,316,317,318,319,320,321,322,323,324,325,326,327,328,329,330,331,332,333,334,335,336,337,338,339,340,341,342,343,344,345,346,347,348,349,350,351,352,353,354,355,356,357,358,359,360,361,362,363,364,365,366,367,368,369,370,371,372,373,374,375,376,377,378,379,380,381,382,383,384,385,386,387,388,389,390,391,392,393,394,395,396,397,398,399,400,401,402,403,404,405,406,407,408,409,410,411,412,413,414,415,416,417,418,419,420,421,422,423,424,425,426,427,428,429,430,431,432,433,434,435,436,437,438,439,440,441,442,443,444,445,446,447,448,449,450,451,452,453,454,455,456,457,458,459,460,461,462,463,464,465,466,467,468,469,470,471,472,473,474,475,476,477,478,479,480,481,482,483,484,485,486,487,488,489,490,491,492,493,494,495,496,497,498,499,500,501,502,503,504,505,506,507,508,509,510,511,512,513,514,515,516,517,518,519,520,521,522,523,524,525,526,527,528,529,530,531,532,533,534,535,536,537,538,539,540,541,542,543,544,545,546,547,548,549,550,551,552,553,554,555,556,557,558,559,560,561,562,563,564,565,566,567,568,569,570,571,572,573,574,575,576,577,578,579,580,581,582,583,584,585,586,587,588,589,590,591,592,593,594,595,596,597,598,599,600,601,602,603,604,605,606,607,608,609,610,611,612,613,614,615,616,617,618,619,620,621,622,623,624,625,626,627,628,629,630,631,632,633,634,635,636,637,638,639,640,641,642,643,644,645,646,647,648,649,650,651,652,653,654,655,656,657,658,659,660,661,662,663,664,665,666,667,668,669,670,671,672,673,674,675,676,677,678,679,680,681,682,683,684,685,686,687,688,689,690,691,692,693,694,695,696,697,698,699,700,701,702,703,704,705,706,707,708,709,710,711,712,713,714,715,716,717,718,719,720,721,722,723,724,725,726,727,728,729,730,731,732,733,734,735,736,737,738,739,740,741,742,743,744,745,746,747,748,749,750,751,752,753,754,755,756,757,758,759,760,761,762,763,764,765,766,767,768,769,770,771,772,773,774,775,776,777,778,779,780,781,782,783,784,785,786,787,788,789,790,791,792,793,794,795,796,797,798,799,800,801,802,803,804,805,806,807,808,809,810,811,812,813,814,815,816,817,818,819,820,821,822,823,824,825,826,827,828,829,830,831,832,833,834,835,836,837,838,839,840,841,842,843,844,845,846,847,848,849,850,851,852,853,854,855,856,857,858,859,860,861,862,863,864,865,866,867,868,869,870,871,872,873,874,875,876,877,878,879,880,881,882,883,884,885,886,887,888,889,890,891,892,893,894,895,896,897,898,899,900,901,902,903,904,905,906,907,908,909,910,911,912,913,914,915,916,917,918,919,920,921,922,923,924,925,926,927,928,929,930,931,932,933,934,935,936,937,938,939,940,941,942,943,944,945,946,947,948,949,950,951,952,953,954,955,956,957,958,959,960,961,962,963,964,965,966,967,968,969,970,971,972,973,974,975,976,977,978,979,980,981,982,983,984,985,986,987,988,989,990,991,992,993,994,995,996,997,998,999,1000,1001,1002,1003,1004,1005,1006,1007,1008,1009,1010],\"y\":[50,50.0,50.0,50.0,50.0,50.0,50.0,50.0,50.0,50.0,50.0,50.0,50.02777777777778,50.12148148148148,50.31996913580247,50.657345679012344,51.159910459533606,51.8446040695016,52.71847305193568,53.778877217116296,55.01425998416252,56.4053446089406,57.92663739165058,59.54812758638492,61.23707996676346,62.959823197923434,64.68344666195473,66.3773304353052,68.01444739558428,69.57239231096445,71.03410946735302,72.38830710917443,73.62956293421293,74.75813939833418,75.77954007454134,76.70384833334047,77.54489687877567,78.31932105130197,79.04555030814566,79.74279106404772,80.43005038958384,81.12524428704424,81.84442683367469,82.60116788298099,83.40609774960973,84.26662786807208,85.18684727622627,86.16758634680892,87.20663182401987,88.2990711889439,89.43773986423162,90.61374187441274,91.81701331754438,93.03689831119215,94.26270881538039,95.48424271321684,96.69223850799301,97.87874970566598,99.03742711124742,100.16370259447513,101.25487310566608,102.3100886038631,103.33025188855758,104.31784193817867,105.2766751351239,106.2116206295016,107.12828704179876,108.03269775413568,108.9309712575204,109.82902151022869,110.73229114897077,111.64552782764163,112.5726110963372,113.51643423607986,114.47884248660209,115.46062628704293,116.46156561536304,117.48051936144991,118.51555197495159,119.56408843792389,120.62308794278486,121.68922649978909,122.75907902318994,123.82929219875832,124.89674054816844,125.95865949683487,127.01275083287558,128.05725762545163,129.09100736246643,130.1134236884423,131.12450860100384,132.12479823890584,133.11529642044326,134.09739083828924,135.07275727095612,136.04325733295082,137.01083517006776,137.97741814006787,138.94482593912346,139.9146918851716,140.8883991997224,141.8670341907352,142.85135728130854,143.84179189956268,144.83843038663647,145.84105532790323,146.84917409520025,147.8620639243204,148.87882455262428,149.8984353081148,150.91981356729266,151.94187167103743,152.96356968613532,153.98396180082887,155.00223461877246,156.01773613839197,157.0299947451911,158.03872807569678,159.0438421087221,160.04542128122864,161.0437107953666,162.03909256810883,163.03205646811534,164.0231685838569,165.01303827505183,166.00228568278942,166.9915112225338,167.98126837152552,168.9720408028702,169.96422462885636,170.95811621203518,171.95390570001635,172.95167615319463,173.95140787626633,174.95298734463108,175.95621994317838,176.96084561229952,177.96655642620658,178.97301511104956,179.9798735417245,180.98679033137353,181.99344673942056,182.99956026436212,184.00489544750545,185.00927158422815,186.01256721114146,187.014721402423,188.01573205915852,189.0156515056766,190.01457981190214,191.01265633758737,192.01005004139193,193.00694911520236,194.00355049326456,195.00004974934134,195.9966318369182,196.9934630519384,197.99068450961778,198.98840733174302,199.98670964362088,200.98563538534563,201.98519485461077,202.98536682156822,203.9861019930786,204.98732755609785,205.98895249898402,206.99087339539037,207.99298033751802,208.99516272247715,209.99731462539268,210.99933953325655,212.0011542616317,213.00269192924256,214.0039039203376,215.0047608186935,216.0052523477303,217.00538639624875,218.00518724705714,219.00469315497065,220.00395344059945,221.00302527675194,222.00197034540076,223.0008515356514,223.99972983804733,224.99866156914536,225.99769603411988,226.99687370582276,227.99622496789215,228.99576943876357,229.99551586425525,230.9954625400623,231.9955982030408,232.995903312375,233.99635162909115,234.99691199511804,235.9975502111336,236.99823091546295,237.99891937377618,238.9995831005736,240.0001932476091,241.0007257105871,242.00116192274209,243.00148932135636,244.00170149004384,245.00179799497133,246.00178394647685,247.0016693282983,248.00146814452572,249.001197439274,250.0008762459429,251.00052452192654,252.00016212102508,252.99980784997524,253.99947864789937,254.99918891858283,255.99895003584788,256.99877003242324,257.99865347309805,258.998601504045,259.99861206236704,260.99868022346067,261.99879865890296,262.9989581743675,263.9991482955851,264.999357870524,265.9995756576403,266.9997908730402,267.9999936734633,269.0001755568551,270.00032966765747,271.000450999512,272.00053649355704,273.00058503565066,274.0005973604459,275.0005758741041,276.0005244104281,277.00044793725436,278.0003522310297,279.00024353764593,280.0001282368709,281.00001252620444,281.99990213783633,282.99980209973967,283.9997165489647,284.99964860206967,285.99960028450454,286.999572517792,287.9995651606663,288.99957709803675,289.99960636981933,290.9996503303811,291.9997058285846,292.9997693982042,293.99983744877613,294.9999064476897,295.9999730854547,297.0000344175127,298.0000879775919,299.0001318593614,300.0001647649092,301.00018602027484,302.0001955598315,303.00019388266946,304.0001819852317,305.00016127526715,306.00013347267077,307.0001005029816,308.0000643892157,309.000027147355,309.99999069022545,310.9999567437321,311.9999267785188,312.9999019591426,313.9998831118546,314.99987071109626,315.9998648839196,316.99986543073527,317.99987186013607,318.99988343503776,319.99989922705197,320.9999181758462,321.9999391502578,322.9999610080937,323.9999826518476,325.0000030779743,326.00002141785484,327.0000369691246,328.00004921660616,329.00005784264204,330.00006272714927,331.00006393818586,332.00006171421296,333.0000564395441,334.0000486146863,335.00003882338854,336.00002769823476,337.0000158865438,338.0000040181897,338.99999267673917,339.99998237503513,340.99997353605596,341.99996647956254,342.9999614147273,343.99995843863843,344.9999575402983,345.9999586094995,346.9999614497787,347.99996579450965,348.9999713251234,349.9999776904155,350.99998452593104,351.99999147249036,352.9999981930328,354.00000438710003,355.00000980244556,356.00001424343475,357.00001757608,358.00001972972797,359.0000206955775,360.00002052234197,361.0000193094858,362.0000171985457,363.00001436310185,364.00001099798374,365.00000730828765,366.0000034987483,366.99999976394633,367.9999962797582,368.9999931963621,369.99999063301686,370.9999886747263,371.99998737080546,372.9999867352689,373.99998674888417,374.9999873626617,375.99998850250415,376.9999900747016,377.9999919719452,378.9999940795285,379.9999962814269,380.9999984659703,382.00000053087047,383.0000023874097,384.0000039636551,385.00000520662,386.00000608334864,387.000006580956,388.00000670570137,389.000006481214,390.00000594602204,391.000005150557,392.0000041538171,393.0000030198772,394.00000181442385,395.00000060148,395.9999994404619,396.9999983836843,397.99999747439784,398.999996745414,399.99999621833575,400.9999959033863,401.9999957997967,402.9999958966912,403.99999617438937,404.99999660603044,405.99999715941703,406.9999977989724,407.99999848770966,408.99999918911635,409.9999998688709,411.00000049632195,412.0000010456771,413.00000149686684,414.0000018360673,415.000002055883,416.0000021552064,417.0000021387874,418.00000201655405,419.0000018027372,420.00000151485676,421.0000011726272,422.00000079684315,423.000000408298,424.0000000267866,424.9999996702329,425.99999935397375,426.99999909022284,427.9999988877257,428.9999987516075,429.9999986834063,430.9999986812764,431.99999874033773,432.9999988531445,433.9999990102403,434.9999992007674,435.9999994130961,436.9999996354425,437.9999998564464,439.0000000656836,440.00000025409474,441.0000004143148,442.00000054089605,443.0000006304223,444.00000068151553,445.0000006947462,446.0000006724549,447.00000061850403,448.0000005379752,449.00000043683144,450.00000032156333,451.00000019883663,452.0000000751592,452.99999995658084,453.9999998484384,454.9999997551545,455.99999968009604,456.99999962549396,457.99999959242393,458.99999958084373,459.9999995896816,460.9999996169669,461.9999996599945,462.9999997155109,463.9999997799128,464.99999984944714,465.99999992040273,466.9999999892854,468.0000000529687,469.0000001088158,470.00000015476854,471.00000018940125,472.0000002119407,473.0000002222531,474.00000022080087,475.0000002085748,476.00000018700575,477.000000157862,478.00000012313853,479.0000000849436,480.00000004538936,481.00000000648936,481.99999997007046,482.9999999376989,483.9999999106255,484.99999988975003,485.999999875605,486.9999998683583,487.99999986783365,488.9999998735452,489.9999998847451,490.9999999004791,491.999999919649,492.99999994107566,493.9999999635626,494.9999999859541,496.0000000071882,497.00000002633976,498.00000004265496,499.0000000555739,500.0000000647426,501.00000007001415,502.0000000714399,503.0000000692516,504.00000006383635,505.00000005570627,506.000000045464,507.00000003376704,508.0000000212918,509.00000000869977,509.999999996607,510.9999999855579,511.99999997600474,512.999999968293,513.999999962653,514.9999999591978,515.9999999579268,516.9999999587344,517.9999999614237,518.999999965722,519.9999999713008,520.999999977795,521.999999984824,522.9999999920105,523.9999999989991,525.0000000054705,526.0000000111555,527.0000000158429,528.0000000193859,529.0000000217036,530.0000000227803,531.000000022661,532.0000000214444,533.0000000192746,534.0000000163297,535.000000012812,536.000000008935,537.0000000049133,538.0000000009517,538.9999999972363,539.9999999939273,540.9999999911525,541.9999999890047,542.999999987539,543.9999999867739,544.9999999866924,545.9999999872463,546.9999999883604,547.9999999899386,548.9999999918697,549.9999999940342,550.9999999963106,551.9999999985814,552.9861111118494,553.9392592619463,554.840015436449,555.6713271661642,556.4200447768444,557.0776979724058,557.6407634813436,558.1105613985403,558.4928700144753,558.797327701267,559.0366813088763,559.2259362103234,559.3814600188673,559.5200884020066,559.6582766687588,559.811334780956,559.9927762998393,560.213803841358,560.4829452625821,560.8058464413116,561.1852185286543,561.6209302966674,562.1102299588293,562.6480758298597,563.2275515577032,563.8403394720956,564.4772248443848,565.1286044671622,565.7849748051036,566.4373778570316,567.0777865842956,567.6994160601209,568.2969511271695,568.866686068177,569.4065763642127,569.9162068289127,570.3966840901866,570.8504644075067,571.2811300695657,571.6931290641191,572.09149334216,572.4815508449276,572.8686455924303,573.2578786431334,573.6538807454074,574.0606251462868,574.4812864432754,574.9181487015098,575.372563445834,575.8449556967245,576.334874054431,576.8410790297314,577.3616624314172,577.894189684423,578.4358564784932,578.9836511225553,579.5345143710936,580.0854892449586,580.633854425786,581.1772360866203,581.7136944524075,582.2417828826328,582.7605787574282,583.2696868572245,583.7692171930439,584.2597403199464,584.7422240131132,585.2179557815223,585.6884560289718,586.155386750341,586.6204604885104,587.0853539006008,587.5516297257807,588.0206702513476,588.4936245832462,588.9713711868983,589.4544963183534,589.9432881553507,590.4377456990766,590.9376008801519,591.4423517894261,591.9513045805596,592.4636213642924,592.978371333367,593.4945824148824,594.0112909299544,594.5275870304936,595.0426540575286,595.555800400302,596.0664829048328,596.5743213595708,597.0791040504555,597.5807848069181,598.0794723362728,598.5754129526024,599.0689680380124,599.5605877238245,600.0507823460393,600.540093216409,601.0290641644956,601.5182151569081,602.0080190995268,602.498882690526,602.9911319306935,603.4850026272783,603.980635962017,604.4780789455031,604.9772893592549,605.4781446021971,605.9804537158418,606.4839717658581,606.9884157080095,607.4934808624354,607.99885715859,608.5042443887401,609.0093658142644,609.5139795986094,610.0178876856301,610.5209418940506,611.023047150066,611.5241619234787,612.024296061941,612.5235063277531,613.0218900284713,613.5195771939,614.0167217869343,614.5134924444999,615.0100632291492,615.5066048343118,616.0032766302766,616.5002198677956,616.9975522762156,617.4953642078481,617.9937163943875,618.4926392987452,618.9921339703781,619.4921742471215,619.9927100940131,620.4936718311761,620.9949749792805,621.4965254423826,621.998224753359,622.4999751253279,623.0016840815463,623.5032684740422,624.0046577452075,624.5057963341487,625.0066451782124,625.5071823073513,626.0074025727188,626.5073165892388,627.0069490034815,627.5063362219689,628.0055237505221,628.504563302315,629.0035098312469,629.5024186387632,630.0013426873014,630.500330233366,630.9994228691754,631.4986540353676,631.9980480398185,632.4976195906396,632.997373826121,633.4973068018624,633.9974063764591,634.4976534225041,634.9980232796916,635.4984873616175,635.9990148272955,636.4995742321726,637.0001350809769,637.50066921543,638.0011519829445,638.5015631470945,639.0018875160608,639.5021152806257,640.0022420678802,640.5022687299764,641.0022008984868,641.5020483438187,642.0018241854596,642.5015440024449,643.0012248944358,643.5008845422699,644.000540313112,644.500208449712,644.9999033761932,645.4996371447033,645.9994190386251,646.4992553393176,646.9991492549736,647.4991010025101,647.9991080267575,648.4991653358472,648.9992659277341,649.4994012803606,649.9995618770268,650.4997377390357,650.9999189394873,651.5000960750128,652.0002606760514,652.5004055407102,653.0005249820781,653.5006149837907,654.0006732634533,654.5006992479799,655.0006939688187,655.5006598882717,656.0006006705503,656.5005209128177,657.0004258522085,657.5003210647386,658.00021217118,658.5001045634797,659.0000031632678,659.4999122215717,659.9998351661702,660.4997745002428,660.9997317532202,661.4997074821733,661.9997013197758,662.4997120629467,662.9997377947849,663.4997760313719,663.9998238844845,664.4998782311766,664.9999358815643,665.4999937368977,666.000048931082,666.5000989501306,667.0001417255182,667.5001756989658,668.0001998577484,668.5002137411047,669.0002174196676,669.5002114509823,670.0001968150909,670.50017483481,671.0001470857081,671.5001153008982,672.000081275612,672.5000467761552,673.0000134572725,673.4999827912434,673.9999560112037,674.499934070319,674.999917617545,675.4999069898622,675.9999022200839,676.4999030586649,676.9999090073838,677.4999193623662,677.9999332636644,678.4999497485092,678.9999678053921,679.4999864263225,680.0000046548873,680.500021628134,681.0000366107408,681.5000490204288,682.0000584440729,682.5000646444521,683.0000675580404,683.5000672846326,684.0000640699321,684.5000582824813,685.0000503864742,685.500040912077,686.000030424871,686.5000194959531,687.0000086740762,687.4999984610128,687.9999892910724,688.4999815154376,688.9999753916968,689.4999710786789,689.9999686364253,690.499968030907,690.9999691428934,691.499971780228,691.9999756926568,692.4999805883057,692.9999861508826,693.4999920567282,693.9999979909051,694.5000036616304,695.0000088124825,695.500013231972,696.0000167602187,696.5000192926364,697.0000207806809,697.5000212298509,698.0000206952502,698.5000192751106,699.0000171027452,699.5000143374383,700.0000111547922,700.5000077370345,701.0000042637548,701.5000009034836,701.99999780645,702.4999950987772,702.9999928782827,703.49999121196,703.999990135136,704.4999896522113,704.999989738829,705.4999903452571,705.9999914007271,706.4999928184491,706.9999945010081,707.4999963458562,707.9999982506258,708.5000001180268,709.0000018601208,709.500003401819,710.0000046834916,710.5000056626368,711.0000063145973,711.5000066323656,712.000006625558,712.5000063186692,713.000005748748,713.5000049626492,714.0000040140274,714.5000029602357,715.0000018592866,715.5000007670149,715.9999997345648,716.4999988062951,716.9999980181724,717.49999739669,717.9999969583257,718.4999967095221,718.9999966471494,719.4999967593931,719.9999970269889,720.4999974247215,720.9999979230914,721.4999984900614,721.9999990927881,722.49999969926,723.000000279769,723.5000008081578,724.000001262801,724.5000016272929,725.000001890832,725.5000020483068,726.0000021001016,726.5000020516544,727.0000019128054,727.5000016969848,728.0000014202915,728.5000011005138,729.0000007561453,729.5000004054418,730.0000000655646,730.499999751839,730.9999994771615,731.4999992515666,731.9999990819664,732.4999989720586,732.9999989223968,733.4999989306064,733.999998991723,734.4999990986314,734.9999992425717,735.4999994136863,735.9999996015783,736.499999795851,736.9999999866066,737.5000001648834,738.0000003230131,738.5000004548885,739.0000005561371,739.5000006241962,740.0000006582968,740.5000006593618,741.0000006298311,741.5000005734278,742.0000004948799,742.5000003996163,743.000000293452,743.5000001822788,744.0000000717769,744.4999999671583,744.9999998729527,745.4999997928427,745.999999729552,746.4999996847889,746.9999996592422,747.4999996526269,747.9999996637725,748.499999690748,748.9999997310124,749.4999997815843,749.9999998392184,750.4999999005817,750.9999999624204,751.5000000217095,752.0000000757808,752.5000001224228,753.0000001599519,753.500000187253,754.000000203788,754.500000209578,755.0000002051593,755.5000001915165,756.0000001700027,756.5000001422445,757.0000001100436,757.5000000752764,758.0000000397986,758.5000000053573,758.9999999735157,759.4999999455921,759.9999999226158,760.4999999052994,760.9999998940297,761.4999998888734,761.9999998895996,762.4999998957126,762.9999999064971,763.499999921069,763.9999999384308,764.4999999575282,764.9999999773054,765.4999999967554,766.0000000149648,766.5000000311505,767.0000000446872,767.5000000551249,768.0000000621975,768.5000000658208,769.0000000660832,769.5000000632274,770.0000000576274,770.5000000497605,771.0000000401756,771.5000000294622,772.0000000182187,772.5000000070229,772.9999999964059,773.4999999868301,773.9999999786725,774.499999972213,774.9999999676287,775.499999964993,775.99999996428,776.4999999653742,776.9999999680819,777.499999972147,777.9999999772681,778.4999999831165,778.9999999893541,779.4999999956501,780.0000000016965,780.500000007221,781.0000000119976,781.5000000158535,782.0000000186735,782.5000000204011,783.0000000210366,783.5000000206327,784.0000000192881,784.500000017139,785.0000000143496,785.5000000111024,786.0000000075879,786.5000000039946,787.0000000005004,787.4999999972647,787.9999999944223,788.4999999920785,788.9999999903071,789.4999999891481,789.9999999886098,790.4999999886695,790.9999999892777,791.4999999903628,791.9999999918352,792.4999999935941,792.9999999955326,793.4999999975435,793.9999999995243,794.500000001382,795.0000000030365,795.5000000044238,796.0000000054977,796.5000000062305,797.000000006613,797.5000000066539,798.0000000063768,798.5000000058197,799.0000000050306,799.5000000040651,800.0000000029829,800.5000000018447]},\"selected\":{\"id\":\"1414\"},\"selection_policy\":{\"id\":\"1415\"}},\"id\":\"1401\",\"type\":\"ColumnDataSource\"},{\"attributes\":{\"source\":{\"id\":\"1418\"}},\"id\":\"1422\",\"type\":\"CDSView\"},{\"attributes\":{\"data_source\":{\"id\":\"1385\"},\"glyph\":{\"id\":\"1386\"},\"hover_glyph\":null,\"muted_glyph\":null,\"nonselection_glyph\":{\"id\":\"1387\"},\"selection_glyph\":null,\"view\":{\"id\":\"1389\"}},\"id\":\"1388\",\"type\":\"GlyphRenderer\"},{\"attributes\":{},\"id\":\"1359\",\"type\":\"LinearScale\"},{\"attributes\":{\"line_alpha\":0.1,\"line_color\":\"#1f77b4\",\"x\":{\"field\":\"x\"},\"y\":{\"field\":\"y\"}},\"id\":\"1403\",\"type\":\"Line\"},{\"attributes\":{\"label\":{\"value\":\"x1\"},\"renderers\":[{\"id\":\"1440\"}]},\"id\":\"1457\",\"type\":\"LegendItem\"},{\"attributes\":{\"source\":{\"id\":\"1401\"}},\"id\":\"1405\",\"type\":\"CDSView\"},{\"attributes\":{\"data\":{\"x\":[0,1,2,3,4,5,6,7,8,9,10,11,12,13,14,15,16,17,18,19,20,21,22,23,24,25,26,27,28,29,30,31,32,33,34,35,36,37,38,39,40,41,42,43,44,45,46,47,48,49,50,51,52,53,54,55,56,57,58,59,60,61,62,63,64,65,66,67,68,69,70,71,72,73,74,75,76,77,78,79,80,81,82,83,84,85,86,87,88,89,90,91,92,93,94,95,96,97,98,99,100,101,102,103,104,105,106,107,108,109,110,111,112,113,114,115,116,117,118,119,120,121,122,123,124,125,126,127,128,129,130,131,132,133,134,135,136,137,138,139,140,141,142,143,144,145,146,147,148,149,150,151,152,153,154,155,156,157,158,159,160,161,162,163,164,165,166,167,168,169,170,171,172,173,174,175,176,177,178,179,180,181,182,183,184,185,186,187,188,189,190,191,192,193,194,195,196,197,198,199,200,201,202,203,204,205,206,207,208,209,210,211,212,213,214,215,216,217,218,219,220,221,222,223,224,225,226,227,228,229,230,231,232,233,234,235,236,237,238,239,240,241,242,243,244,245,246,247,248,249,250,251,252,253,254,255,256,257,258,259,260,261,262,263,264,265,266,267,268,269,270,271,272,273,274,275,276,277,278,279,280,281,282,283,284,285,286,287,288,289,290,291,292,293,294,295,296,297,298,299,300,301,302,303,304,305,306,307,308,309,310,311,312,313,314,315,316,317,318,319,320,321,322,323,324,325,326,327,328,329,330,331,332,333,334,335,336,337,338,339,340,341,342,343,344,345,346,347,348,349,350,351,352,353,354,355,356,357,358,359,360,361,362,363,364,365,366,367,368,369,370,371,372,373,374,375,376,377,378,379,380,381,382,383,384,385,386,387,388,389,390,391,392,393,394,395,396,397,398,399,400,401,402,403,404,405,406,407,408,409,410,411,412,413,414,415,416,417,418,419,420,421,422,423,424,425,426,427,428,429,430,431,432,433,434,435,436,437,438,439,440,441,442,443,444,445,446,447,448,449,450,451,452,453,454,455,456,457,458,459,460,461,462,463,464,465,466,467,468,469,470,471,472,473,474,475,476,477,478,479,480,481,482,483,484,485,486,487,488,489,490,491,492,493,494,495,496,497,498,499,500,501,502,503,504,505,506,507,508,509,510,511,512,513,514,515,516,517,518,519,520,521,522,523,524,525,526,527,528,529,530,531,532,533,534,535,536,537,538,539,540,541,542,543,544,545,546,547,548,549,550,551,552,553,554,555,556,557,558,559,560,561,562,563,564,565,566,567,568,569,570,571,572,573,574,575,576,577,578,579,580,581,582,583,584,585,586,587,588,589,590,591,592,593,594,595,596,597,598,599,600,601,602,603,604,605,606,607,608,609,610,611,612,613,614,615,616,617,618,619,620,621,622,623,624,625,626,627,628,629,630,631,632,633,634,635,636,637,638,639,640,641,642,643,644,645,646,647,648,649,650,651,652,653,654,655,656,657,658,659,660,661,662,663,664,665,666,667,668,669,670,671,672,673,674,675,676,677,678,679,680,681,682,683,684,685,686,687,688,689,690,691,692,693,694,695,696,697,698,699,700,701,702,703,704,705,706,707,708,709,710,711,712,713,714,715,716,717,718,719,720,721,722,723,724,725,726,727,728,729,730,731,732,733,734,735,736,737,738,739,740,741,742,743,744,745,746,747,748,749,750,751,752,753,754,755,756,757,758,759,760,761,762,763,764,765,766,767,768,769,770,771,772,773,774,775,776,777,778,779,780,781,782,783,784,785,786,787,788,789,790,791,792,793,794,795,796,797,798,799,800,801,802,803,804,805,806,807,808,809,810,811,812,813,814,815,816,817,818,819,820,821,822,823,824,825,826,827,828,829,830,831,832,833,834,835,836,837,838,839,840,841,842,843,844,845,846,847,848,849,850,851,852,853,854,855,856,857,858,859,860,861,862,863,864,865,866,867,868,869,870,871,872,873,874,875,876,877,878,879,880,881,882,883,884,885,886,887,888,889,890,891,892,893,894,895,896,897,898,899,900,901,902,903,904,905,906,907,908,909,910,911,912,913,914,915,916,917,918,919,920,921,922,923,924,925,926,927,928,929,930,931,932,933,934,935,936,937,938,939,940,941,942,943,944,945,946,947,948,949,950,951,952,953,954,955,956,957,958,959,960,961,962,963,964,965,966,967,968,969,970,971,972,973,974,975,976,977,978,979,980,981,982,983,984,985,986,987,988,989,990,991,992,993,994,995,996,997,998,999,1000,1001,1002,1003,1004,1005,1006,1007,1008,1009,1010],\"y\":[0,0.0,0.0,0.0,0.0,0.0,0.0,0.0,0.0,0.0,0.0,0.0,0.0,0.0,0.0007716049382716269,0.00520576131687248,0.019807475994513025,0.055941197988111424,0.13054447778539824,0.26615305382817606,0.49019367188267293,0.8335944568465729,1.3288348655601143,2.0076082120997034,2.898300153520854,4.023497497673576,5.397734925907944,7.025664983913167,8.90080181823788,11.004944912890066,13.308339085837163,15.770574904249207,18.342183017354678,20.966829920918904,23.583984108568007,26.13189256693837,28.55068956188976,30.78545331971385,32.78903146125273,34.52447212833953,35.966923265188306,37.10489559599541,37.94082322513371,38.4908970172774,38.78418747375701,38.861113282501684,38.771346883583185,38.57127740457241,38.32117275524712,38.082195596801796,37.913431904231366,37.86908602816193,37.99598312791453,38.33149961600302,38.902016204208174,39.72195791200692,40.79345278653949,42.1066079384112,43.64036961686154,45.363905081784296,47.23841940013036,49.21930112677756,51.258477910009034,53.30685680721268,55.31672455346806,57.243989884236996,59.05016264077679,60.703981877084914,62.18262642178509,63.472465065890674,64.56932841641164,65.47830914802937,66.21312064453578,66.79506472641624,67.25167637438304,67.61512636907464,67.92047111288714,68.20384238060086,68.50066841894098,68.84401198133997,69.26310105705006,69.78211492433806,70.41927254913094,71.18625317003864,72.08796109803133,73.12262923757584,74.28223946666738,75.55322355410769,76.91739636613991,78.35306418391143,79.83624530640107,81.34193785896568,82.84537079870698,84.32317827512617,85.75444439662049,87.1215745831997,88.41096048135039,89.61341725462496,90.72438430205953,91.74389247010444,92.67631203230975,93.52990560655451,94.31621834747357,95.04934388592596,95.74510839959592,96.42021682123993,97.09140457269567,97.77463551033146,98.48438223173848,99.23301885077109,100.0303491806133,100.88328538784842,101.79568402090395,102.76833828932257,103.79911796100983,104.88324159002956,106.01366026311534,107.18152786272225,108.37673011465154,109.5884434665063,110.80569510027442,112.01789701830496,113.21532999541722,114.38955704948056,115.53375070057808,116.64292339464811,117.71405578348495,118.74612280781884,119.74002247187558,120.69841660484796,121.6254965951043,122.5266899207282,123.40832519899052,124.27727440246944,125.14059085523363,126.00516068910858,126.87738370796423,127.76289721030739,128.66635341454324,129.59125788941205,130.53987299231812,131.51318693520554,132.51094589429695,133.53174370052201,134.57316121122403,135.63194556116153,136.70421818075374,137.78569977833362,138.87194040554186,139.95854322614957,141.04137162785906,142.1167307720162,143.18151646970853,144.2333262962498,145.27052999709886,146.29229838579596,147.29859198424006,148.29011251466346,149.26822194324455,150.23483503765522,151.19229229491685,152.14322060208366,153.09038911087634,154.0365675575933,154.98439367716077,155.93625549459648,156.89419318850275,157.85982397644514,158.83429214141205,159.81824497179724,160.81183409057468,161.81474046190516,162.82622033555504,163.84516856046145,164.87019509562214,165.89971018361712,166.9320135313224,167.96538295376962,168.9981582600953,170.02881666567805,171.05603666558306,172.07874806035474,173.0961666426732,174.10781288895575,175.11351481215098,176.11339588313012,177.10784958602284,178.09750271201509,179.0831698983688,180.06580217440654,181.04643238138328,182.02612029339326,183.00590009326424,183.98673256797161,184.96946400412963,185.9547933103715,186.94324839642258,187.93517232522115,188.9307192503876,189.92985968033113,190.93239419280206,191.93797437627242,192.94612950920765,193.95629731235726,194.96785702512878,195.98016306280164,196.99257760049045,198.00450059248408,199.0153959590847,200.02481294250782,201.03240193270852,202.0379243767598,203.0412566956528,204.0423884253629,205.04141506178343,206.03852631107665,207.03399062019452,208.02813698175294,209.0213350709893,210.0139747809227,211.00644617841104,211.99912081415476,212.99233519129416,213.98637703888926,214.98147485791927,215.97779101846407,216.9754184972291,217.9743811636999,218.97463735907505,219.9760863714808,220.97857729898112,221.98191971199142,222.98589548053417,223.99027111925608,224.9948100225585,225.9992840104519,227.00348367854195,228.00722713770085,229.01036683471784,230.01279425854193,231.01444245165328,232.0152863569977,233.01534113272965,234.01465865546544,235.01332250451765,236.01144177235585,237.00914407909562,238.00656818097985,239.00385655540686,240.00114831978613,240.99857280080857,241.99624401762952,242.99425628038313,243.99268103798556,244.99156503995266,245.99092980940867,246.99077236172616,247.99106704799226,248.99176835688405,249.99281447407878,250.99413137590102,251.9956372237712,252.99724682779237,253.99887596058971,255.00044532491773,256.0018840088293,257.0031322983579,258.00414375754735,259.004886527103,260.0053438338317,261.00551374145766,262.00540820767395,263.00505154105997,264.00447837376186,265.003731280978,266.00285818609314,267.0019096908881,268.0009364641042,268.9999868095222,269.99910451762736,270.9983270840401,271.99768435447226,272.99719763131475,273.99687925235264,274.99673262871386,275.9967527080246,276.9969268107282,277.99723577327103,278.99765532178475,279.9981575941999,280.99871272736476,281.99929042848765,282.9998614566433,284.0003989496207,285.00087954336266,286.001284244911,287.0015990343493,288.0018151859629,289.0019293129983,290.0019431533547,291.0018631247518,292.00169968696304,293.0014665553108,294.0011798136384,295.0008569763929,296.00051604839126,297.00017462752226,297.9998490903818,298.99955389403124,299.9993010191536,300.99909957130893,301.99895554822626,302.9988717725396,303.998847981482,304.99888105812045,305.9989653830169,306.99909328091843,307.99925553431933,308.9994419345272,309.9996418411462,310.9998447225505,312.00004065278034,313.00022074412226,314.00037749919994,315.00050507140435,316.0005994276887,317.000658412858,318.0006817192732,319.00067077014705,320.0006285281744,321.00055924398436,322.0004681607607,323.00036119231356,324.0002445919315,325.0001246285499,326.0000072852431,326.9998979929091,327.9998014094087,328.9997212515103,329.9996601839334,330.99961976673933,331.9996004594294,332.99960167750703,333.99962189504663,334.99965878506674,335.99970938827494,336.9997703000673,337.99983786551013,338.99990837238323,339.999978233167,341.0000441480361,342.00010324240276,343.000153174233,344.00019220815454,345.00021925517757,346.0002338785856,347.00023626813646,348.00022718607954,349.00020788959733,350.00018003507904,351.00014557011923,352.0001066192998,353.00006536967896,354.0000239614982,354.99998438897524,355.99994841521607,356.9999175043128,357.99989277265104,358.9998749603815,359.9998644229773,360.99986114183804,361.9998647520649,362.99987458484065,363.999889721333,364.9999090547078,365.9999313566962,366.99995534519456,367.99997974958296,369.0000033707933,370.0000251336239,371.0000441293511,372.00005964729155,373.00007119459826,374.0000785041875,375.00008153127214,376.00008043948753,377.0000755780254,378.00006745152103,379.00005668465826,380.00004398357237,381.0000300961315,382.0000157730821,383.0000017318597,383.99998862460814,384.9999770116369,385.99996734119657,386.99995993608763,387.9999549872493,388.9999525541337,389.9999525713564,390.99995486085123,391.9999591485488,392.99996508445224,393.9999722649019,394.9999802558025,395.99998861563074,396.9999969171341,398.0000047667763,399.0000118211599,400.00001779985564,401.0000224942861,402.00002577252025,403.00002758004695,404.0000279367807,405.0000269307161,406.0000247087779,407.00002146550884,408.00001743029406,409.00001285384076,410.0000079946162,411.00000310589587,411.99999842399995,412.9999941581964,413.9999904826316,414.99998753053205,415.9999853907874,416.9999841069068,417.99998367822786,418.9999840631545,419.9999851841228,420.9999869339305,421.99998918302805,422.9999917873517,423.9999945962828,424.99999746034416,426.0000002382818,427.000002803238,428.00000504778575,429.0000068876653,430.0000082641386,431.00000914494893,432.0000095239409,433.00000941945694,434.00000887167573,435.00000793909743,436.00000669440624,437.00000521995366,438.0000036031077,439.00000193169916,440.0000002897782,440.9999987538604,441.9999973898076,442.9999962504472,443.9999953739891,444.9999947832589,445.99999448572544,446.99999447426126,447.9999947285487,448.999995217015,449.9999958991667,450.999996728181,451.9999976536118,452.9999986240724,453.9999995897674,455.0000005047634,456.00000132890915,457.0000020293386,458.0000025815144,459.00000296979647,460.00000318754184,461.00000323676664,462.0000031274169,463.0000028763128,464.00000250584,465.0000020424702,466.00000151519373,467.00000095394546,468.000000388101,468.9999998451092,469.99999934931714,470.9999989210298,471.99999857583214,472.9999983241868,473.9999981713075,474.99999811729276,475.9999981574954,476.9999982830922,477.9999984818128,478.9999987387797,479.99999903741264,480.99999936034794,481.999999690328,483.0000000110213,484.0000003077372,485.0000005680101,486.0000007820343,487.00000094293904,488.0000010469033,489.0000010931151,490.0000010835904,491.0000010228691,492.0000009176124,493.00000077612816,494.0000006078518,495.0000004228113,496.00000023110323,497.0000000424033,497.9999998655338,498.99999970810285,499.99999957622873,500.99999947435606,501.99999940516534,502.99999936957386,503.99999936682093,504.99961359215865,505.9973965687595,506.9900957885867,507.97202902179015,508.9347274873598,509.86692331019185,510.75490311169426,511.5832028241439,512.3355827145019,512.9961961219409,513.550850215093,513.9882515882098,514.3011328998214,514.4871678772802,514.5495994484177,514.4975278731251,514.3458307449548,514.1147127833292,513.8289086669344,513.5165851513016,513.2080079929726,512.9340537017688,512.7246551475496,512.6072732195009,512.605484108997,512.7377637463337,513.0165381600189,513.447551987985,514.0295881775348,514.7545512953425,515.607906089359,516.569443213936,517.6143264471573,518.7143612232646,519.8394135854053,520.9589022011212,522.043284081238,523.0654570490168,524.0020085236724,524.8342502981557,525.5489920161305,526.1390211677543,526.6032737296754,526.9466961470966,527.1798152961461,527.3180475478136,527.38079036969,527.3903494854715,527.3707610721615,527.3465716021644,527.3416377089444,527.3780050256373,527.4749186323133,527.6480090024842,527.908686722148,528.2637673959089,528.7153357201821,529.260845357375,529.8934396151917,530.6024675828721,531.3741617694586,532.1924367839815,533.0397644245777,533.8980788032111,534.7496657959211,535.577994025467,536.3684494967915,537.1089425704365,537.7903637632287,538.4068734557695,538.9560194925923,539.438685421585,539.8588803039609,540.2233882556029,540.5413018437267,540.82346792813,541.081877359708,541.3290310761604,541.5773145992915,541.8384108546663,542.1227777883505,542.4392126905437,542.7945197381415,543.193291349439,543.6378078249239,544.1280537413156,544.6618439617296,545.2350471770721,545.8418908098374,546.4753280443852,547.1274457916517,547.7898915850379,548.4542977134154,549.1126822484107,549.757808891067,550.3834905843298,550.9848254215166,551.5583573192844,552.1021580034065,552.6158308691349,553.1004410325725,553.5583792167702,553.9931698784659,554.4092360765511,554.8116349482523,555.2057782698963,555.5971524506126,555.9910514893397,556.3923349987655,556.8052214700343,557.2331246431625,557.6785382952164,558.1429721003122,558.6269385880764,559.1299887563684,559.650791690548,560.1872516963731,560.7366550347351,561.2958373969259,561.8613627965821,562.4297045715969,562.9974196559905,563.5613081477691,564.1185513976307,564.6668232963358,565.2043710594905,565.7300635083819,566.2434065370394,566.744527057365,567.2341281539169,567.7134193980551,568.1840272224376,568.6478909118962,569.1071501123074,569.564029797893,570.0207283868071,570.4793141852342,570.9416346125307,571.4092417631762,571.8833368495293,572.3647349988689,572.8538508044259,573.3507040052446,573.8549437401971,574.3658890261769,574.8825824793275,575.4038538511145,575.9283896979864,576.4548054440583,576.9817162211573,577.5078031617993,578.0318722534575,578.5529034068162,579.0700880130826,579.5828539307565,580.0908775156395,580.5940829562469,581.0926297705047,581.5868898335386,582.0774157208917,582.5649024530783,583.0501449088223,583.5339932347001,584.0173085232097,584.5009208697954,584.9855916667789,585.4719816666361,585.9606259691018,586.4519166778396,586.9460935546424,587.4432425930352,587.9433020575796,588.4460752062055,588.9512486433139,589.4584150502662,589.9670989123933,590.4767838090595,590.9869398532094,591.4970499534219,592.0066337162025,592.5152679982389,593.0226033452101,593.5283758022508,594.0324138378909,594.53464037532,595.035070160335,595.5338029040634,596.0310128122724,596.5269352457335,597.0218513440767,597.5160714876027,598.0099184686767,598.5037111997456,598.997749703669,599.4923020202991,599.9875935285307,600.4837990333881,600.9810378113357,601.4793716518781,601.9788057870269,602.4792924688343,602.9807368442171,603.483004689697,603.9859315089637,604.4893324643957,604.9930126094806,605.496776910787,606.0004395929624,606.5038324044344,607.0068114806716,607.5092625711832,608.0111044909286,608.5122907515547,609.0128094183193,609.5126813206235,610.0119568144055,610.5107113506342,611.0090401441034,611.5070522598037,612.0048644404131,612.5025949887325,613.0003579947581,613.498258160688,613.9963864310876,614.4948165825624,614.9936028706388,615.4927787740768,615.9923568214033,616.4923294335408,616.9926706721808,617.493338747666,617.994279113761,618.495427960407,618.996715909482,619.4980717222854,619.999425840112,620.5007135996157,621.001877991218,621.5028718598514,622.0036594810576,622.5042174800785,623.004535095352,623.504613819192,624.0044664760551,624.5041158216031,625.003592762998,625.5029343120779,626.0021813881331,626.5013765861127,627.0005620197045,627.4997773375317,627.9990579955684,628.4984338507977,628.9979281211984,629.4975567364176,629.9973280830519,630.4972431292393,630.9972958961331,631.4974742294432,631.9977608130964,632.4981343594934,632.9985709069413,633.4990451545494,633.9995317679469,634.500006595243,635.0004477411951,635.5008364579925,636.0011578227793,636.50140118436,637.001560373842,637.5016336856615,638.0016236460053,638.5015365946518,639.0013821133781,639.5011723391185,640.0009212029079,640.5006436363221,641.0003547857575,641.5000692716767,641.9998005251853,642.499560228312,642.999357877536,643.4992004828157,643.9990924070081,644.4990353434903,644.9990284233124,645.4990684376146,645.9991501565103,646.4992667223379,646.9994100931758,647.4995715118005,647.9997419758031,648.4999126862393,649.0000754548112,649.5002230529878,650.0003494904278,650.5004502143508,651.0005222258927,651.5005641137362,652.0005760092649,652.5005594709453,653.0005173084965,653.5004533595448,654.0003722328435,654.5002790327385,655.0001790794279,655.5000776387247,655.9999796736089,656.4998896279371,656.9998112503977,657.4997474642948,657.9997002861523,658.4996707935676,658.99965914036,659.4996646149233,659.9996857359099,660.4997203780053,660.9997659196177,661.4998194038418,661.9998777040335,662.4999376857248,662.9999963573788,663.5000510035463,664.0000992952969,664.5001393742465,665.0001699080351,665.5001901166323,666.0001997702873,666.5001991612485,667.0001890524784,667.5001706074681,668.0001453058637,668.5001148499673,669.0000810672454,669.5000458138086,670.0000108834164,670.4999779259815,670.999948378798,671.4999234128827,671.9999038959218,672.4998903724102,672.999883060706,673.4998818659307,673.9998864069591,674.4998960552005,674.9999099824597,675.4999272149398,675.9999466903497,676.4999673151603,676.9999880192508,677.5000078055125,678.0000257923923,678.5000412478441,679.000053613675,679.50006251981,680.0000677885121,680.5000694290816,681.0000676239681,681.5000627075801,682.0000551393339,682.5000454726464,683.000034321652,683.5000223274028,684.0000101252085,684.4999983146033,684.9999874331879,685.4999779353243,685.999970176354,686.4999644027007,686.999960747906,687.4999592343636,687.999959780256,688.499962210987,688.9999662742393,689.4999716576707,689.9999780082137,690.499984951934,690.9999921134588,691.4999991340701,692.0000056876959,692.5000114941815,693.0000163294017,693.5000200319563,694.0000225063754,694.5000237229333,695.000023714322,695.5000225695746,696.0000204257258,696.500017457774,697.0000138675492,697.5000098720989,698.0000056921847,698.500001541433,698.9999976166118,699.4999940894202,699.9999911000723,700.499988752857,700.99998711374,701.4999862099764,701.9999860316096,702.499986534642,702.999987645611,703.4999892672455,703.9999912848529,704.4999935730795,704.9999960026918,705.4999984470519,706.0000007879999,706.5000029209017,707.0000047586841,707.5000062347339,708.0000073046062,708.5000079465465,709.0000081608861,709.5000079684228,710.0000074079387,710.5000065330348,711.0000054084861,711.5000041063242,712.0000027018588,712.5000012698281,712.9999998808593,713.4999985983811,713.9999974761072,714.4999965561674,714.9999958679307,715.4999954275256,715.9999952380296,716.4999952902715,716.9999955641622,717.4999960304513,717.9999966527969,718.499997390023,718.9999981984461,719.4999990341503,719.9999998551108,720.5000006230698,721.0000013050961,721.5000018747763,722.0000023130054,722.5000026083706,723.0000027571373,723.5000027628694,724.0000026357257,724.5000023914926,725.0000020504167,725.5000016359095,726.000001173194,726.5000006879638,727.0000002051163,727.4999997476183,727.9999993355455,728.4999989853306,728.9999987092428,729.4999985151018,729.9999984062291,730.4999983816167,730.9999984362915,731.4999985618437,731.9999987470801,732.499998978765,732.9999992424032,733.4999995230273,733.9999998059495,734.5000000774455,735.0000003253415,735.5000005394851,736.0000007120839,736.5000008379066,737.0000009143462,737.5000009413535,738.0000009212522,738.5000008584537,739.0000007590935,739.50000063061,740.0000004812936,740.500000319826,741.0000001548359,741.4999999944891,741.9999998461312,742.4999997159948,742.9999996089828,743.4999995285305,743.9999994765483,744.4999994534425,744.9999994582049,745.4999994885655,745.999999541194,746.4999996119361,746.9999996960744,747.4999997885946,747.9999998844487,748.4999999787985,749.0000000672333,749.5000001459488,750.0000002118858,750.500000262822]},\"selected\":{\"id\":\"1454\"},\"selection_policy\":{\"id\":\"1455\"}},\"id\":\"1437\",\"type\":\"ColumnDataSource\"},{\"attributes\":{},\"id\":\"1415\",\"type\":\"UnionRenderers\"},{\"attributes\":{\"line_alpha\":0.1,\"line_color\":\"red\",\"x\":{\"field\":\"x\"},\"y\":{\"field\":\"y\"}},\"id\":\"1439\",\"type\":\"Line\"},{\"attributes\":{\"source\":{\"id\":\"1437\"}},\"id\":\"1441\",\"type\":\"CDSView\"},{\"attributes\":{\"data_source\":{\"id\":\"1437\"},\"glyph\":{\"id\":\"1438\"},\"hover_glyph\":null,\"muted_glyph\":null,\"nonselection_glyph\":{\"id\":\"1439\"},\"selection_glyph\":null,\"view\":{\"id\":\"1441\"}},\"id\":\"1440\",\"type\":\"GlyphRenderer\"},{\"attributes\":{\"active_drag\":\"auto\",\"active_inspect\":\"auto\",\"active_multi\":null,\"active_scroll\":\"auto\",\"active_tap\":\"auto\",\"tools\":[{\"id\":\"1371\"},{\"id\":\"1372\"},{\"id\":\"1373\"},{\"id\":\"1374\"},{\"id\":\"1375\"},{\"id\":\"1376\"}]},\"id\":\"1378\",\"type\":\"Toolbar\"},{\"attributes\":{},\"id\":\"1361\",\"type\":\"LinearScale\"},{\"attributes\":{},\"id\":\"1372\",\"type\":\"WheelZoomTool\"},{\"attributes\":{\"label\":{\"value\":\"x0\"},\"renderers\":[{\"id\":\"1404\"}]},\"id\":\"1417\",\"type\":\"LegendItem\"},{\"attributes\":{\"source\":{\"id\":\"1385\"}},\"id\":\"1389\",\"type\":\"CDSView\"},{\"attributes\":{\"data_source\":{\"id\":\"1418\"},\"glyph\":{\"id\":\"1419\"},\"hover_glyph\":null,\"muted_glyph\":null,\"nonselection_glyph\":{\"id\":\"1420\"},\"selection_glyph\":null,\"view\":{\"id\":\"1422\"}},\"id\":\"1421\",\"type\":\"GlyphRenderer\"},{\"attributes\":{},\"id\":\"1414\",\"type\":\"Selection\"},{\"attributes\":{},\"id\":\"1454\",\"type\":\"Selection\"},{\"attributes\":{\"line_color\":\"darkred\",\"line_dash\":[2,4],\"x\":{\"field\":\"x\"},\"y\":{\"field\":\"y\"}},\"id\":\"1419\",\"type\":\"Line\"},{\"attributes\":{\"line_alpha\":0.1,\"line_color\":\"darkblue\",\"line_dash\":[2,4],\"x\":{\"field\":\"x\"},\"y\":{\"field\":\"y\"}},\"id\":\"1387\",\"type\":\"Line\"},{\"attributes\":{\"axis_label\":\"Time [s]\",\"formatter\":{\"id\":\"1392\"},\"ticker\":{\"id\":\"1364\"}},\"id\":\"1363\",\"type\":\"LinearAxis\"},{\"attributes\":{},\"id\":\"1364\",\"type\":\"BasicTicker\"},{\"attributes\":{\"line_alpha\":0.1,\"line_color\":\"darkred\",\"line_dash\":[2,4],\"x\":{\"field\":\"x\"},\"y\":{\"field\":\"y\"}},\"id\":\"1420\",\"type\":\"Line\"},{\"attributes\":{},\"id\":\"1375\",\"type\":\"ResetTool\"},{\"attributes\":{},\"id\":\"1455\",\"type\":\"UnionRenderers\"},{\"attributes\":{},\"id\":\"1374\",\"type\":\"SaveTool\"},{\"attributes\":{\"items\":[{\"id\":\"1400\"},{\"id\":\"1417\"},{\"id\":\"1436\"},{\"id\":\"1457\"}],\"location\":\"top_left\"},\"id\":\"1399\",\"type\":\"Legend\"},{\"attributes\":{\"label\":{\"value\":\"r0\"},\"renderers\":[{\"id\":\"1388\"}]},\"id\":\"1400\",\"type\":\"LegendItem\"},{\"attributes\":{\"overlay\":{\"id\":\"1377\"}},\"id\":\"1373\",\"type\":\"BoxZoomTool\"},{\"attributes\":{},\"id\":\"1371\",\"type\":\"PanTool\"},{\"attributes\":{\"text\":\"\"},\"id\":\"1390\",\"type\":\"Title\"},{\"attributes\":{\"data\":{\"x\":[0,1,2,3,4,5,6,7,8,9,10,11,12,13,14,15,16,17,18,19,20,21,22,23,24,25,26,27,28,29,30,31,32,33,34,35,36,37,38,39,40,41,42,43,44,45,46,47,48,49,50,51,52,53,54,55,56,57,58,59,60,61,62,63,64,65,66,67,68,69,70,71,72,73,74,75,76,77,78,79,80,81,82,83,84,85,86,87,88,89,90,91,92,93,94,95,96,97,98,99,100,101,102,103,104,105,106,107,108,109,110,111,112,113,114,115,116,117,118,119,120,121,122,123,124,125,126,127,128,129,130,131,132,133,134,135,136,137,138,139,140,141,142,143,144,145,146,147,148,149,150,151,152,153,154,155,156,157,158,159,160,161,162,163,164,165,166,167,168,169,170,171,172,173,174,175,176,177,178,179,180,181,182,183,184,185,186,187,188,189,190,191,192,193,194,195,196,197,198,199,200,201,202,203,204,205,206,207,208,209,210,211,212,213,214,215,216,217,218,219,220,221,222,223,224,225,226,227,228,229,230,231,232,233,234,235,236,237,238,239,240,241,242,243,244,245,246,247,248,249,250,251,252,253,254,255,256,257,258,259,260,261,262,263,264,265,266,267,268,269,270,271,272,273,274,275,276,277,278,279,280,281,282,283,284,285,286,287,288,289,290,291,292,293,294,295,296,297,298,299,300,301,302,303,304,305,306,307,308,309,310,311,312,313,314,315,316,317,318,319,320,321,322,323,324,325,326,327,328,329,330,331,332,333,334,335,336,337,338,339,340,341,342,343,344,345,346,347,348,349,350,351,352,353,354,355,356,357,358,359,360,361,362,363,364,365,366,367,368,369,370,371,372,373,374,375,376,377,378,379,380,381,382,383,384,385,386,387,388,389,390,391,392,393,394,395,396,397,398,399,400,401,402,403,404,405,406,407,408,409,410,411,412,413,414,415,416,417,418,419,420,421,422,423,424,425,426,427,428,429,430,431,432,433,434,435,436,437,438,439,440,441,442,443,444,445,446,447,448,449,450,451,452,453,454,455,456,457,458,459,460,461,462,463,464,465,466,467,468,469,470,471,472,473,474,475,476,477,478,479,480,481,482,483,484,485,486,487,488,489,490,491,492,493,494,495,496,497,498,499,500,501,502,503,504,505,506,507,508,509,510,511,512,513,514,515,516,517,518,519,520,521,522,523,524,525,526,527,528,529,530,531,532,533,534,535,536,537,538,539,540,541,542,543,544,545,546,547,548,549,550,551,552,553,554,555,556,557,558,559,560,561,562,563,564,565,566,567,568,569,570,571,572,573,574,575,576,577,578,579,580,581,582,583,584,585,586,587,588,589,590,591,592,593,594,595,596,597,598,599,600,601,602,603,604,605,606,607,608,609,610,611,612,613,614,615,616,617,618,619,620,621,622,623,624,625,626,627,628,629,630,631,632,633,634,635,636,637,638,639,640,641,642,643,644,645,646,647,648,649,650,651,652,653,654,655,656,657,658,659,660,661,662,663,664,665,666,667,668,669,670,671,672,673,674,675,676,677,678,679,680,681,682,683,684,685,686,687,688,689,690,691,692,693,694,695,696,697,698,699,700,701,702,703,704,705,706,707,708,709,710,711,712,713,714,715,716,717,718,719,720,721,722,723,724,725,726,727,728,729,730,731,732,733,734,735,736,737,738,739,740,741,742,743,744,745,746,747,748,749,750,751,752,753,754,755,756,757,758,759,760,761,762,763,764,765,766,767,768,769,770,771,772,773,774,775,776,777,778,779,780,781,782,783,784,785,786,787,788,789,790,791,792,793,794,795,796,797,798,799,800,801,802,803,804,805,806,807,808,809,810,811,812,813,814,815,816,817,818,819,820,821,822,823,824,825,826,827,828,829,830,831,832,833,834,835,836,837,838,839,840,841,842,843,844,845,846,847,848,849,850,851,852,853,854,855,856,857,858,859,860,861,862,863,864,865,866,867,868,869,870,871,872,873,874,875,876,877,878,879,880,881,882,883,884,885,886,887,888,889,890,891,892,893,894,895,896,897,898,899,900,901,902,903,904,905,906,907,908,909,910,911,912,913,914,915,916,917,918,919,920,921,922,923,924,925,926,927,928,929,930,931,932,933,934,935,936,937,938,939,940,941,942,943,944,945,946,947,948,949,950,951,952,953,954,955,956,957,958,959,960,961,962,963,964,965,966,967,968,969,970,971,972,973,974,975,976,977,978,979,980,981,982,983,984,985,986,987,988,989,990,991,992,993,994,995,996,997,998,999,1000,1001,1002,1003,1004,1005,1006,1007,1008,1009],\"y\":{\"__ndarray__\":\"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\",\"dtype\":\"float64\",\"order\":\"little\",\"shape\":[1010]}},\"selected\":{\"id\":\"1396\"},\"selection_policy\":{\"id\":\"1397\"}},\"id\":\"1385\",\"type\":\"ColumnDataSource\"},{\"attributes\":{},\"id\":\"1396\",\"type\":\"Selection\"},{\"attributes\":{\"line_color\":\"darkblue\",\"line_dash\":[2,4],\"x\":{\"field\":\"x\"},\"y\":{\"field\":\"y\"}},\"id\":\"1386\",\"type\":\"Line\"}],\"root_ids\":[\"1354\"]},\"title\":\"Bokeh Application\",\"version\":\"2.2.3\"}};\n",
       "  var render_items = [{\"docid\":\"6d4be216-45bc-44d2-b74b-9e2ae9f1e040\",\"root_ids\":[\"1354\"],\"roots\":{\"1354\":\"5fa8c1bf-bfee-4a70-af91-e5be1488f419\"}}];\n",
       "  root.Bokeh.embed.embed_items_notebook(docs_json, render_items);\n",
       "\n",
       "  }\n",
       "  if (root.Bokeh !== undefined) {\n",
       "    embed_document(root);\n",
       "  } else {\n",
       "    var attempts = 0;\n",
       "    var timer = setInterval(function(root) {\n",
       "      if (root.Bokeh !== undefined) {\n",
       "        clearInterval(timer);\n",
       "        embed_document(root);\n",
       "      } else {\n",
       "        attempts++;\n",
       "        if (attempts > 100) {\n",
       "          clearInterval(timer);\n",
       "          console.log(\"Bokeh: ERROR: Unable to run BokehJS code because BokehJS library is missing\");\n",
       "        }\n",
       "      }\n",
       "    }, 10, root)\n",
       "  }\n",
       "})(window);"
      ],
      "application/vnd.bokehjs_exec.v0+json": ""
     },
     "metadata": {
      "application/vnd.bokehjs_exec.v0+json": {
       "id": "1354"
      }
     },
     "output_type": "display_data"
    }
   ],
   "source": [
    "# Class to enable connectivity betwen cars \n",
    "\n",
    "# Declare desired spacing \n",
    "HWY = 50\n",
    "\n",
    "# Declare Systems \n",
    "g1, g2, g3, g4 = System(), System(), Integrator(HWY), Integrator(HWY)\n",
    "g5, g6, g7, g8 = System(), System(), Integrator(0), Integrator(0)\n",
    "\n",
    "# Declares Controllers\n",
    "pid_x = PID(k_p=0.25, k_i=0.01,k_d=0)\n",
    "pid_s = PID(k_p=0.25, k_i=0.01,k_d=0)\n",
    "\n",
    "# Error signals \n",
    "e_x = []\n",
    "e_s = []\n",
    "\n",
    "# Compute reference \n",
    "r0_x = np.concatenate([np.zeros(10),\n",
    "                      np.cumsum(np.concatenate([np.ones(500),0.5*np.ones(500)]))])+HWY # Starts from 50\n",
    "\n",
    "r1_s = - HWY * np.ones(len(r0_x))\n",
    "\n",
    "\n",
    "\n",
    "for r_x, r_s in zip(r0_x, r1_s):\n",
    "    \n",
    "    # Position error \n",
    "    err_x = r_x - g4.x[-1]\n",
    "    e_x.append(err_x)\n",
    "    \n",
    "    s = g8.x[-1]-g4.x[-1]\n",
    "    \n",
    "    # Space error\n",
    "    err_s = r_s - s\n",
    "    e_s.append(err_s)\n",
    "    \n",
    "    # Control compute \n",
    "    ctr0 = pid_x(err_x) # Leader\n",
    "    ctr1 = pid_s(err_s) # Follower \n",
    "    \n",
    "    # Dynamic evolution \n",
    "    g4(g3(g2(g1(ctr0))))    \n",
    "    g8(g7(g6(g5(ctr1))))\n",
    "    \n",
    "\n",
    "## PLOTTING\n",
    "    \n",
    "p = figure()\n",
    "p.line(np.arange(len(r0_x)),r0_x, color = \"darkblue\" ,line_dash='dotted',legend_label = \"r0\")\n",
    "p.line(np.arange(len(g4.x)),g4.x,legend_label = \"x0\")\n",
    "\n",
    "p.line(np.arange(len(r1_s)),r0_x+r1_s, color = \"darkred\" ,line_dash='dotted',legend_label = \"r1\")\n",
    "p.line(np.arange(len(g8.x)),g8.x, color=\"red\" ,legend_label = \"x1\")\n",
    "\n",
    "p.xaxis.axis_label=\"Time [s]\"\n",
    "p.yaxis.axis_label=\"Position [m]\"\n",
    "p.legend.location = \"top_left\";\n",
    "show(p)\n",
    "        "
   ]
  },
  {
   "cell_type": "markdown",
   "metadata": {},
   "source": [
    "**Q6**: Check the speed behavior for each one of the vehicles in the platoon, trace the signals $x$, $v$, $s$, $e_x$, $e_s$, $u_x$ and $u_s$ this case.  After observing the effects onte the follower consider modifying the gains $k_p$ to $0.2$ and $k_i$ to $0.015$. Trace again this curves and check the dynamic behavior. \n",
    "\n",
    "<span style= \"color:blue\">Provide your answers below:</span>"
   ]
  },
  {
   "cell_type": "code",
   "execution_count": null,
   "metadata": {},
   "outputs": [],
   "source": []
  },
  {
   "cell_type": "markdown",
   "metadata": {},
   "source": [
    "**Q7**: Regularly the behavior of platoon should adapt to traffic manuevers, for the platoon of $2$ vehicles consider modyifing the policy of *headway space* via a linear function so that the amount of gap of vehicles changes from the current value `HWY=50` to a new value of `HWY = 20`. Extract the profiles for $x$, $v$, $s$. \n",
    "\n",
    "<span style= \"color:blue\">Provide your answers below:</span>\n"
   ]
  },
  {
   "cell_type": "markdown",
   "metadata": {},
   "source": [
    "**Q8**: Consider creating a platoon of 3 vehicles this time, extract in this case the trajectory plots. \n",
    "\n",
    "<span style= \"color:blue\">Provide your answers below:</span>"
   ]
  },
  {
   "cell_type": "code",
   "execution_count": null,
   "metadata": {},
   "outputs": [],
   "source": []
  },
  {
   "cell_type": "markdown",
   "metadata": {},
   "source": [
    "#### Compute Total Travel Time \n",
    "\n",
    "To compute the total travel time we consider the time taken from the position where the leader starts its trip until a specified distance in kilometers `d`. We make use of `pandas` to filter data, the module `datetime` to find the time diference and the method `apply` to compute the values for all vehicles in the network. Examine the code down below for details on this computation. "
   ]
  },
  {
   "cell_type": "code",
   "execution_count": 11,
   "metadata": {},
   "outputs": [
    {
     "name": "stdout",
     "output_type": "stream",
     "text": [
      "Mean Travel time: 821.5, Variance Travel time: 25.5, Total Traveltime:1643.0\n"
     ]
    }
   ],
   "source": [
    "import datetime  as dt \n",
    "import pandas as pd \n",
    "\n",
    "time = np.linspace(0,len(g4.x),len(g4.x))\n",
    "X = np.array([g4.x, g8.x]).T\n",
    "\n",
    "# Creation of Pandas dataframe \n",
    "df_x = pd.DataFrame(X)\n",
    "\n",
    "now = dt.datetime(2019,12,17,13,0) # This is to set a special day for synchronous purposes \n",
    "delta = dt.timedelta(seconds=1)\n",
    "time_vector = [now+n*delta for n in range(int(np.max(time)))]\n",
    "df_x.index = time_vector \n",
    "\n",
    "# Compute the total travel time from 0 to 700 m\n",
    "def find_travel_time(df,max_dist = 700):\n",
    "    time_entry  = min(df[df>df_x.iloc[0,0]].index) # minimum time after leader entrance \n",
    "    time_exit = max(df[df<max_dist].index) # maximum time before exit\n",
    "    travel_time = time_exit-time_entry\n",
    "    return travel_time.total_seconds()\n",
    "\n",
    "ttt = df_x.apply(find_travel_time)\n",
    "tt_mean,tt_var = np.mean(ttt),np.std(ttt) \n",
    "ttt = sum(ttt)\n",
    "\n",
    "print(f\"Mean Travel time: {tt_mean}, Variance Travel time: {tt_var}, Total Traveltime:{ttt}\")"
   ]
  },
  {
   "cell_type": "markdown",
   "metadata": {},
   "source": [
    "**Q9**: For the case of the platoon of 3 vehicles compute again the *total travel time* and plot the *headway space* in terms of time. What can you conlude when the number of vehicles tend to augment \n",
    "\n",
    "<span style= \"color:blue\">Provide your answers below:</span>"
   ]
  },
  {
   "cell_type": "code",
   "execution_count": null,
   "metadata": {},
   "outputs": [],
   "source": []
  },
  {
   "cell_type": "markdown",
   "metadata": {},
   "source": [
    "#### Computing emissions and side effects \n",
    "\n",
    "When checking emissions we can refer multiple models, in this case we are going to make use of the model given by [Treiber, 2014](http://traffic-flow-dynamics.org). The function to compute instantaneous $CO_2$ emissions is given by: \n",
    "\n",
    "$$\\dot{CO}_2 =  2.3 \\frac{100000}{C_{\\text{spec}}} \\frac{P(v,\\dot{v})}{v}$$\n",
    "\n",
    "where \n",
    "\n",
    "$$P(v,\\dot{v}) = max(P_0+ v F(v,\\dot{v}),0)$$\n",
    "\n",
    "$$F(v,\\dot{v}) = m\\dot{v} + (\\mu+\\phi)mg + \\frac{1}{2}\\rho \\bar{c_d} A v^2$$\n",
    "\n",
    "Some of these parameters are: \n",
    "\n",
    "| Parameter     | Value     | Units |\n",
    ":--------------:|:---------:|:------:\n",
    "$$m$$           | 1500      | [kg]\n",
    "$$P_0$$         | 3         | [kW]\n",
    "$$C_{\\text{spec}}$$| 300    | [ml/kWh]\n",
    "$$\\rho$$        | 1.3       | [kg/m$^3$]\n",
    "$$\\mu$$         | 0.02      | [veh/km]\n",
    "$$\\bar{c_d}$$         | 0.3       | \n",
    "$$A$$           | 2         | [m$^2$]\n",
    "\n",
    "$\\dot{v}$ denote the vehicle acceleration and $v$ denote the vehicle speed"
   ]
  },
  {
   "cell_type": "markdown",
   "metadata": {},
   "source": [
    "**Q10**: Design a function that accepts the matrices `V` and `A` and returns the emissions of each vehicle in time. Compute the cumulated emissions in time for all vehicles and compare to the case of `V_CAV`,  `A_CAV`. \n",
    "\n",
    "<span style= \"color:blue\">Provide your answers below:</span>\n"
   ]
  },
  {
   "cell_type": "code",
   "execution_count": null,
   "metadata": {},
   "outputs": [],
   "source": []
  },
  {
   "cell_type": "markdown",
   "metadata": {},
   "source": [
    "## Project 03\n",
    "\n",
    "* Create and simulate a platoon of 5 vehicles by considering uniform spacing among them.\n",
    "* Study the behavior of the average `headway space` with particular values of the PID. You may use the same as in this notebook. \n",
    "* Consider varying the constants `k_p` and `k_i` from their current values until some instability small instability es reached. Which are the consequences for the last vehicle in the platoon. \n",
    "* Compute the value of flow `Q` according to the fundamental diagram. \n",
    "* Determine the net effect on estimated `CO_2` emissions due to the aplication of different controllers?\n",
    "* If the coefficient `c_d` is now a function of the spacing like \n",
    "\n",
    "    $$c_d = \\frac{\\bar{c_d}}{1+e^{-x/2}}$$\n",
    "\n",
    "  What are effects on the `CO_2` emissions? \n"
   ]
  },
  {
   "cell_type": "markdown",
   "metadata": {},
   "source": [
    "A. Ladino"
   ]
  }
 ],
 "metadata": {
  "file_extension": ".py",
  "kernelspec": {
   "display_name": "ITS Tools",
   "language": "python",
   "name": "itstools"
  },
  "language_info": {
   "codemirror_mode": {
    "name": "ipython",
    "version": 3
   },
   "file_extension": ".py",
   "mimetype": "text/x-python",
   "name": "python",
   "nbconvert_exporter": "python",
   "pygments_lexer": "ipython3",
   "version": "3.8.5"
  },
  "mimetype": "text/x-python",
  "name": "python",
  "npconvert_exporter": "python",
  "pygments_lexer": "ipython3",
  "version": 3
 },
 "nbformat": 4,
 "nbformat_minor": 4
}
